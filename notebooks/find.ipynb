{
 "metadata": {
  "language_info": {
   "codemirror_mode": {
    "name": "ipython",
    "version": 3
   },
   "file_extension": ".py",
   "mimetype": "text/x-python",
   "name": "python",
   "nbconvert_exporter": "python",
   "pygments_lexer": "ipython3",
   "version": "3.8.5-final"
  },
  "orig_nbformat": 2,
  "kernelspec": {
   "name": "Python 3.8.5 32-bit ('env')",
   "display_name": "Python 3.8.5 32-bit ('env')",
   "metadata": {
    "interpreter": {
     "hash": "1d84a9de83142d71b391f510af07a210d389772c49c628d4260d7abf40539c7e"
    }
   }
  }
 },
 "nbformat": 4,
 "nbformat_minor": 2,
 "cells": [
  {
   "cell_type": "code",
   "execution_count": 2,
   "metadata": {},
   "outputs": [],
   "source": [
    "import difflib\n",
    "\n",
    "import matplotlib as plt\n",
    "import numpy as np\n",
    "import pandas as pd"
   ]
  },
  {
   "source": [
    "xl = pd.ExcelFile('data/ОС.xlsx')"
   ],
   "cell_type": "code",
   "metadata": {},
   "execution_count": 2,
   "outputs": []
  },
  {
   "cell_type": "code",
   "execution_count": 4,
   "metadata": {},
   "outputs": [
    {
     "output_type": "execute_result",
     "data": {
      "text/plain": "[&#39;TDSheet&#39;]"
     },
     "metadata": {},
     "execution_count": 4
    }
   ],
   "source": [
    "xl.sheet_names"
   ]
  },
  {
   "cell_type": "code",
   "execution_count": 5,
   "metadata": {},
   "outputs": [
    {
     "output_type": "execute_result",
     "data": {
      "text/plain": "      № п/п                               Основное средство   \\\n0         1                                  IP видеодомофон   \n1         2                            IP видеокамера B55-5Н   \n2         3                            IP видеокамера B55-5Н   \n3         4  USB Накопитель Flash Transcend 8Gb JetFlash 300   \n4         5                            Абонентская сеть СУСС   \n...     ...                                              ...   \n3696   3697    Ящик для песка сборно-разборный (0,5 куб. м.)   \n3697   3698    Ящик для песка сборно-разборный (0,5 куб. м.)   \n3698   3699    Ящик для песка сборно-разборный (0,5 куб. м.)   \n3699   3700                     Ящик-носилки для мяса и рыбы   \n3700   3701                     Ящик-носилки для мяса и рыбы   \n\n      Основное средство.(не используется) Счет учета  \\\n0                                             101.34   \n1                                             101.34   \n2                                             101.34   \n3                                             101.34   \n4                                             101.34   \n...                                              ...   \n3696                                          101.36   \n3697                                          101.36   \n3698                                          101.36   \n3699                                          101.36   \n3700                                          101.36   \n\n      Основное средство.(не используется) Первоначальная стоимость  \\\n0                                              17140.75              \n1                                              46973.00              \n2                                              47660.62              \n3                                                486.89              \n4                                              42931.89              \n...                                                 ...              \n3696                                            3830.00              \n3697                                            3830.00              \n3698                                            3830.00              \n3699                                            4414.00              \n3700                                            4414.00              \n\n     Основное средство.(не используется) Инвентарный номер  \\\n0                                          ОС0000005631      \n1                                          ОС0000005265      \n2                                          ОС0000005155      \n3                                                   NaN      \n4                                          ОС0000005913      \n...                                                 ...      \n3696                                       ОС0000004165      \n3697                                       ОС0000004166      \n3698                                       ОС0000004167      \n3699                                       000000063519      \n3700                                       000000063520      \n\n               Основное средство.Амортизационная группа  \\\n0     Четвертая группа (свыше 5 лет до 7 лет включит...   \n1     Третья группа (свыше 3 лет до 5 лет включительно)   \n2     Третья группа (свыше 3 лет до 5 лет включительно)   \n3     Вторая группа (свыше 2 лет до 3 лет включительно)   \n4     Четвертая группа (свыше 5 лет до 7 лет включит...   \n...                                                 ...   \n3696  Четвертая группа (свыше 5 лет до 7 лет включит...   \n3697  Четвертая группа (свыше 5 лет до 7 лет включит...   \n3698  Четвертая группа (свыше 5 лет до 7 лет включит...   \n3699  Пятая группа (свыше 7 лет до 10 лет включительно)   \n3700  Пятая группа (свыше 7 лет до 10 лет включительно)   \n\n     Основное средство.Код по ОКОФ  Стоимость  Количество  Стоимость.1  \\\n0                     330.26.30.50   17140.75         1.0     34281.50   \n1                     330.26.70.13   46973.00         1.0          NaN   \n2                     330.26.70.13   47660.62         1.0          NaN   \n3                         320.26.2    5842.68        12.0          NaN   \n4                 320.26.30.11.150        NaN         NaN     42931.89   \n...                            ...        ...         ...          ...   \n3696                    16 3612516    3830.00         1.0      3830.00   \n3697                    16 3612516    3830.00         1.0          NaN   \n3698                    16 3612516    3830.00         1.0      3830.00   \n3699                    16 2945116    4414.00         1.0      4414.00   \n3700                    16 2945116    4414.00         1.0      4414.00   \n\n      Количество.1  Стоимость.2  Количество.2  Стоимость.3  Количество.3  \n0              2.0     34281.50           2.0     17140.75           1.0  \n1              NaN          NaN           NaN     46973.00           1.0  \n2              NaN          NaN           NaN     47660.62           1.0  \n3              NaN      3895.12           8.0      1947.56           4.0  \n4              1.0          NaN           NaN     42931.89           1.0  \n...            ...          ...           ...          ...           ...  \n3696           1.0      3830.00           1.0      3830.00           1.0  \n3697           NaN          NaN           NaN      3830.00           1.0  \n3698           1.0      3830.00           1.0      3830.00           1.0  \n3699           1.0      4414.00           1.0      4414.00           1.0  \n3700           1.0      4414.00           1.0      4414.00           1.0  \n\n[3701 rows x 15 columns]",
      "text/html": "<div>\n<style scoped>\n    .dataframe tbody tr th:only-of-type {\n        vertical-align: middle;\n    }\n\n    .dataframe tbody tr th {\n        vertical-align: top;\n    }\n\n    .dataframe thead th {\n        text-align: right;\n    }\n</style>\n<table border=\"1\" class=\"dataframe\">\n  <thead>\n    <tr style=\"text-align: right;\">\n      <th></th>\n      <th>№ п/п</th>\n      <th>Основное средство</th>\n      <th>Основное средство.(не используется) Счет учета</th>\n      <th>Основное средство.(не используется) Первоначальная стоимость</th>\n      <th>Основное средство.(не используется) Инвентарный номер</th>\n      <th>Основное средство.Амортизационная группа</th>\n      <th>Основное средство.Код по ОКОФ</th>\n      <th>Стоимость</th>\n      <th>Количество</th>\n      <th>Стоимость.1</th>\n      <th>Количество.1</th>\n      <th>Стоимость.2</th>\n      <th>Количество.2</th>\n      <th>Стоимость.3</th>\n      <th>Количество.3</th>\n    </tr>\n  </thead>\n  <tbody>\n    <tr>\n      <th>0</th>\n      <td>1</td>\n      <td>IP видеодомофон</td>\n      <td>101.34</td>\n      <td>17140.75</td>\n      <td>ОС0000005631</td>\n      <td>Четвертая группа (свыше 5 лет до 7 лет включит...</td>\n      <td>330.26.30.50</td>\n      <td>17140.75</td>\n      <td>1.0</td>\n      <td>34281.50</td>\n      <td>2.0</td>\n      <td>34281.50</td>\n      <td>2.0</td>\n      <td>17140.75</td>\n      <td>1.0</td>\n    </tr>\n    <tr>\n      <th>1</th>\n      <td>2</td>\n      <td>IP видеокамера B55-5Н</td>\n      <td>101.34</td>\n      <td>46973.00</td>\n      <td>ОС0000005265</td>\n      <td>Третья группа (свыше 3 лет до 5 лет включительно)</td>\n      <td>330.26.70.13</td>\n      <td>46973.00</td>\n      <td>1.0</td>\n      <td>NaN</td>\n      <td>NaN</td>\n      <td>NaN</td>\n      <td>NaN</td>\n      <td>46973.00</td>\n      <td>1.0</td>\n    </tr>\n    <tr>\n      <th>2</th>\n      <td>3</td>\n      <td>IP видеокамера B55-5Н</td>\n      <td>101.34</td>\n      <td>47660.62</td>\n      <td>ОС0000005155</td>\n      <td>Третья группа (свыше 3 лет до 5 лет включительно)</td>\n      <td>330.26.70.13</td>\n      <td>47660.62</td>\n      <td>1.0</td>\n      <td>NaN</td>\n      <td>NaN</td>\n      <td>NaN</td>\n      <td>NaN</td>\n      <td>47660.62</td>\n      <td>1.0</td>\n    </tr>\n    <tr>\n      <th>3</th>\n      <td>4</td>\n      <td>USB Накопитель Flash Transcend 8Gb JetFlash 300</td>\n      <td>101.34</td>\n      <td>486.89</td>\n      <td>NaN</td>\n      <td>Вторая группа (свыше 2 лет до 3 лет включительно)</td>\n      <td>320.26.2</td>\n      <td>5842.68</td>\n      <td>12.0</td>\n      <td>NaN</td>\n      <td>NaN</td>\n      <td>3895.12</td>\n      <td>8.0</td>\n      <td>1947.56</td>\n      <td>4.0</td>\n    </tr>\n    <tr>\n      <th>4</th>\n      <td>5</td>\n      <td>Абонентская сеть СУСС</td>\n      <td>101.34</td>\n      <td>42931.89</td>\n      <td>ОС0000005913</td>\n      <td>Четвертая группа (свыше 5 лет до 7 лет включит...</td>\n      <td>320.26.30.11.150</td>\n      <td>NaN</td>\n      <td>NaN</td>\n      <td>42931.89</td>\n      <td>1.0</td>\n      <td>NaN</td>\n      <td>NaN</td>\n      <td>42931.89</td>\n      <td>1.0</td>\n    </tr>\n    <tr>\n      <th>...</th>\n      <td>...</td>\n      <td>...</td>\n      <td>...</td>\n      <td>...</td>\n      <td>...</td>\n      <td>...</td>\n      <td>...</td>\n      <td>...</td>\n      <td>...</td>\n      <td>...</td>\n      <td>...</td>\n      <td>...</td>\n      <td>...</td>\n      <td>...</td>\n      <td>...</td>\n    </tr>\n    <tr>\n      <th>3696</th>\n      <td>3697</td>\n      <td>Ящик для песка сборно-разборный (0,5 куб. м.)</td>\n      <td>101.36</td>\n      <td>3830.00</td>\n      <td>ОС0000004165</td>\n      <td>Четвертая группа (свыше 5 лет до 7 лет включит...</td>\n      <td>16 3612516</td>\n      <td>3830.00</td>\n      <td>1.0</td>\n      <td>3830.00</td>\n      <td>1.0</td>\n      <td>3830.00</td>\n      <td>1.0</td>\n      <td>3830.00</td>\n      <td>1.0</td>\n    </tr>\n    <tr>\n      <th>3697</th>\n      <td>3698</td>\n      <td>Ящик для песка сборно-разборный (0,5 куб. м.)</td>\n      <td>101.36</td>\n      <td>3830.00</td>\n      <td>ОС0000004166</td>\n      <td>Четвертая группа (свыше 5 лет до 7 лет включит...</td>\n      <td>16 3612516</td>\n      <td>3830.00</td>\n      <td>1.0</td>\n      <td>NaN</td>\n      <td>NaN</td>\n      <td>NaN</td>\n      <td>NaN</td>\n      <td>3830.00</td>\n      <td>1.0</td>\n    </tr>\n    <tr>\n      <th>3698</th>\n      <td>3699</td>\n      <td>Ящик для песка сборно-разборный (0,5 куб. м.)</td>\n      <td>101.36</td>\n      <td>3830.00</td>\n      <td>ОС0000004167</td>\n      <td>Четвертая группа (свыше 5 лет до 7 лет включит...</td>\n      <td>16 3612516</td>\n      <td>3830.00</td>\n      <td>1.0</td>\n      <td>3830.00</td>\n      <td>1.0</td>\n      <td>3830.00</td>\n      <td>1.0</td>\n      <td>3830.00</td>\n      <td>1.0</td>\n    </tr>\n    <tr>\n      <th>3699</th>\n      <td>3700</td>\n      <td>Ящик-носилки для мяса и рыбы</td>\n      <td>101.36</td>\n      <td>4414.00</td>\n      <td>000000063519</td>\n      <td>Пятая группа (свыше 7 лет до 10 лет включительно)</td>\n      <td>16 2945116</td>\n      <td>4414.00</td>\n      <td>1.0</td>\n      <td>4414.00</td>\n      <td>1.0</td>\n      <td>4414.00</td>\n      <td>1.0</td>\n      <td>4414.00</td>\n      <td>1.0</td>\n    </tr>\n    <tr>\n      <th>3700</th>\n      <td>3701</td>\n      <td>Ящик-носилки для мяса и рыбы</td>\n      <td>101.36</td>\n      <td>4414.00</td>\n      <td>000000063520</td>\n      <td>Пятая группа (свыше 7 лет до 10 лет включительно)</td>\n      <td>16 2945116</td>\n      <td>4414.00</td>\n      <td>1.0</td>\n      <td>4414.00</td>\n      <td>1.0</td>\n      <td>4414.00</td>\n      <td>1.0</td>\n      <td>4414.00</td>\n      <td>1.0</td>\n    </tr>\n  </tbody>\n</table>\n<p>3701 rows × 15 columns</p>\n</div>"
     },
     "metadata": {},
     "execution_count": 5
    }
   ],
   "source": [
    "df = xl.parse('TDSheet')\n",
    "df"
   ]
  },
  {
   "source": [
    "### Hello"
   ],
   "cell_type": "markdown",
   "metadata": {}
  },
  {
   "cell_type": "code",
   "execution_count": 7,
   "metadata": {},
   "outputs": [
    {
     "output_type": "execute_result",
     "data": {
      "text/plain": "Index([&#39;№ п/п&#39;, &#39;Основное средство &#39;,\n       &#39;Основное средство.(не используется) Счет учета&#39;,\n       &#39;Основное средство.(не используется) Первоначальная стоимость&#39;,\n       &#39;Основное средство.(не используется) Инвентарный номер&#39;,\n       &#39;Основное средство.Амортизационная группа&#39;,\n       &#39;Основное средство.Код по ОКОФ&#39;, &#39;Стоимость&#39;, &#39;Количество&#39;,\n       &#39;Стоимость.1&#39;, &#39;Количество.1&#39;, &#39;Стоимость.2&#39;, &#39;Количество.2&#39;,\n       &#39;Стоимость.3&#39;, &#39;Количество.3&#39;],\n      dtype=&#39;object&#39;)"
     },
     "metadata": {},
     "execution_count": 7
    }
   ],
   "source": [
    "df.columns"
   ]
  },
  {
   "cell_type": "code",
   "execution_count": 8,
   "metadata": {},
   "outputs": [
    {
     "output_type": "execute_result",
     "data": {
      "text/plain": "      № п/п                               Основное средство   \\\n0         1                                  IP видеодомофон   \n1         2                            IP видеокамера B55-5Н   \n2         3                            IP видеокамера B55-5Н   \n3         4  USB Накопитель Flash Transcend 8Gb JetFlash 300   \n4         5                            Абонентская сеть СУСС   \n...     ...                                              ...   \n3696   3697    Ящик для песка сборно-разборный (0,5 куб. м.)   \n3697   3698    Ящик для песка сборно-разборный (0,5 куб. м.)   \n3698   3699    Ящик для песка сборно-разборный (0,5 куб. м.)   \n3699   3700                     Ящик-носилки для мяса и рыбы   \n3700   3701                     Ящик-носилки для мяса и рыбы   \n\n      Основное средство.(не используется) Счет учета  \\\n0                                             101.34   \n1                                             101.34   \n2                                             101.34   \n3                                             101.34   \n4                                             101.34   \n...                                              ...   \n3696                                          101.36   \n3697                                          101.36   \n3698                                          101.36   \n3699                                          101.36   \n3700                                          101.36   \n\n      Основное средство.(не используется) Первоначальная стоимость  \\\n0                                              17140.75              \n1                                              46973.00              \n2                                              47660.62              \n3                                                486.89              \n4                                              42931.89              \n...                                                 ...              \n3696                                            3830.00              \n3697                                            3830.00              \n3698                                            3830.00              \n3699                                            4414.00              \n3700                                            4414.00              \n\n     Основное средство.(не используется) Инвентарный номер  \\\n0                                          ОС0000005631      \n1                                          ОС0000005265      \n2                                          ОС0000005155      \n3                                                   NaN      \n4                                          ОС0000005913      \n...                                                 ...      \n3696                                       ОС0000004165      \n3697                                       ОС0000004166      \n3698                                       ОС0000004167      \n3699                                       000000063519      \n3700                                       000000063520      \n\n               Основное средство.Амортизационная группа  \\\n0     Четвертая группа (свыше 5 лет до 7 лет включит...   \n1     Третья группа (свыше 3 лет до 5 лет включительно)   \n2     Третья группа (свыше 3 лет до 5 лет включительно)   \n3     Вторая группа (свыше 2 лет до 3 лет включительно)   \n4     Четвертая группа (свыше 5 лет до 7 лет включит...   \n...                                                 ...   \n3696  Четвертая группа (свыше 5 лет до 7 лет включит...   \n3697  Четвертая группа (свыше 5 лет до 7 лет включит...   \n3698  Четвертая группа (свыше 5 лет до 7 лет включит...   \n3699  Пятая группа (свыше 7 лет до 10 лет включительно)   \n3700  Пятая группа (свыше 7 лет до 10 лет включительно)   \n\n     Основное средство.Код по ОКОФ  Стоимость  Количество  Стоимость.1  \\\n0                     330.26.30.50   17140.75         1.0     34281.50   \n1                     330.26.70.13   46973.00         1.0          NaN   \n2                     330.26.70.13   47660.62         1.0          NaN   \n3                         320.26.2    5842.68        12.0          NaN   \n4                 320.26.30.11.150        NaN         NaN     42931.89   \n...                            ...        ...         ...          ...   \n3696                    16 3612516    3830.00         1.0      3830.00   \n3697                    16 3612516    3830.00         1.0          NaN   \n3698                    16 3612516    3830.00         1.0      3830.00   \n3699                    16 2945116    4414.00         1.0      4414.00   \n3700                    16 2945116    4414.00         1.0      4414.00   \n\n      Количество.1  Стоимость.2  Количество.2  Стоимость.3  Количество.3  \\\n0              2.0     34281.50           2.0     17140.75           1.0   \n1              NaN          NaN           NaN     46973.00           1.0   \n2              NaN          NaN           NaN     47660.62           1.0   \n3              NaN      3895.12           8.0      1947.56           4.0   \n4              1.0          NaN           NaN     42931.89           1.0   \n...            ...          ...           ...          ...           ...   \n3696           1.0      3830.00           1.0      3830.00           1.0   \n3697           NaN          NaN           NaN      3830.00           1.0   \n3698           1.0      3830.00           1.0      3830.00           1.0   \n3699           1.0      4414.00           1.0      4414.00           1.0   \n3700           1.0      4414.00           1.0      4414.00           1.0   \n\n                                                  Слова  \\\n0                                    [IP, видеодомофон]   \n1                             [IP, видеокамера, B55-5Н]   \n2                             [IP, видеокамера, B55-5Н]   \n3     [USB, Накопитель, Flash, Transcend, 8Gb, JetFl...   \n4                             [Абонентская, сеть, СУСС]   \n...                                                 ...   \n3696  [Ящик, для, песка, сборно-разборный, (0,5, куб...   \n3697  [Ящик, для, песка, сборно-разборный, (0,5, куб...   \n3698  [Ящик, для, песка, сборно-разборный, (0,5, куб...   \n3699                 [Ящик-носилки, для, мяса, и, рыбы]   \n3700                 [Ящик-носилки, для, мяса, и, рыбы]   \n\n                                            Short  \n0                                 IP видеодомофон  \n1                           IP видеокамера B55-5Н  \n2                           IP видеокамера B55-5Н  \n3     USB Накопитель Flash Transcend 8Gb JetFlash  \n4                           Абонентская сеть СУСС  \n...                                           ...  \n3696    Ящик для песка сборно-разборный (0,5 куб.  \n3697    Ящик для песка сборно-разборный (0,5 куб.  \n3698    Ящик для песка сборно-разборный (0,5 куб.  \n3699                 Ящик-носилки для мяса и рыбы  \n3700                 Ящик-носилки для мяса и рыбы  \n\n[3701 rows x 17 columns]",
      "text/html": "<div>\n<style scoped>\n    .dataframe tbody tr th:only-of-type {\n        vertical-align: middle;\n    }\n\n    .dataframe tbody tr th {\n        vertical-align: top;\n    }\n\n    .dataframe thead th {\n        text-align: right;\n    }\n</style>\n<table border=\"1\" class=\"dataframe\">\n  <thead>\n    <tr style=\"text-align: right;\">\n      <th></th>\n      <th>№ п/п</th>\n      <th>Основное средство</th>\n      <th>Основное средство.(не используется) Счет учета</th>\n      <th>Основное средство.(не используется) Первоначальная стоимость</th>\n      <th>Основное средство.(не используется) Инвентарный номер</th>\n      <th>Основное средство.Амортизационная группа</th>\n      <th>Основное средство.Код по ОКОФ</th>\n      <th>Стоимость</th>\n      <th>Количество</th>\n      <th>Стоимость.1</th>\n      <th>Количество.1</th>\n      <th>Стоимость.2</th>\n      <th>Количество.2</th>\n      <th>Стоимость.3</th>\n      <th>Количество.3</th>\n      <th>Слова</th>\n      <th>Short</th>\n    </tr>\n  </thead>\n  <tbody>\n    <tr>\n      <th>0</th>\n      <td>1</td>\n      <td>IP видеодомофон</td>\n      <td>101.34</td>\n      <td>17140.75</td>\n      <td>ОС0000005631</td>\n      <td>Четвертая группа (свыше 5 лет до 7 лет включит...</td>\n      <td>330.26.30.50</td>\n      <td>17140.75</td>\n      <td>1.0</td>\n      <td>34281.50</td>\n      <td>2.0</td>\n      <td>34281.50</td>\n      <td>2.0</td>\n      <td>17140.75</td>\n      <td>1.0</td>\n      <td>[IP, видеодомофон]</td>\n      <td>IP видеодомофон</td>\n    </tr>\n    <tr>\n      <th>1</th>\n      <td>2</td>\n      <td>IP видеокамера B55-5Н</td>\n      <td>101.34</td>\n      <td>46973.00</td>\n      <td>ОС0000005265</td>\n      <td>Третья группа (свыше 3 лет до 5 лет включительно)</td>\n      <td>330.26.70.13</td>\n      <td>46973.00</td>\n      <td>1.0</td>\n      <td>NaN</td>\n      <td>NaN</td>\n      <td>NaN</td>\n      <td>NaN</td>\n      <td>46973.00</td>\n      <td>1.0</td>\n      <td>[IP, видеокамера, B55-5Н]</td>\n      <td>IP видеокамера B55-5Н</td>\n    </tr>\n    <tr>\n      <th>2</th>\n      <td>3</td>\n      <td>IP видеокамера B55-5Н</td>\n      <td>101.34</td>\n      <td>47660.62</td>\n      <td>ОС0000005155</td>\n      <td>Третья группа (свыше 3 лет до 5 лет включительно)</td>\n      <td>330.26.70.13</td>\n      <td>47660.62</td>\n      <td>1.0</td>\n      <td>NaN</td>\n      <td>NaN</td>\n      <td>NaN</td>\n      <td>NaN</td>\n      <td>47660.62</td>\n      <td>1.0</td>\n      <td>[IP, видеокамера, B55-5Н]</td>\n      <td>IP видеокамера B55-5Н</td>\n    </tr>\n    <tr>\n      <th>3</th>\n      <td>4</td>\n      <td>USB Накопитель Flash Transcend 8Gb JetFlash 300</td>\n      <td>101.34</td>\n      <td>486.89</td>\n      <td>NaN</td>\n      <td>Вторая группа (свыше 2 лет до 3 лет включительно)</td>\n      <td>320.26.2</td>\n      <td>5842.68</td>\n      <td>12.0</td>\n      <td>NaN</td>\n      <td>NaN</td>\n      <td>3895.12</td>\n      <td>8.0</td>\n      <td>1947.56</td>\n      <td>4.0</td>\n      <td>[USB, Накопитель, Flash, Transcend, 8Gb, JetFl...</td>\n      <td>USB Накопитель Flash Transcend 8Gb JetFlash</td>\n    </tr>\n    <tr>\n      <th>4</th>\n      <td>5</td>\n      <td>Абонентская сеть СУСС</td>\n      <td>101.34</td>\n      <td>42931.89</td>\n      <td>ОС0000005913</td>\n      <td>Четвертая группа (свыше 5 лет до 7 лет включит...</td>\n      <td>320.26.30.11.150</td>\n      <td>NaN</td>\n      <td>NaN</td>\n      <td>42931.89</td>\n      <td>1.0</td>\n      <td>NaN</td>\n      <td>NaN</td>\n      <td>42931.89</td>\n      <td>1.0</td>\n      <td>[Абонентская, сеть, СУСС]</td>\n      <td>Абонентская сеть СУСС</td>\n    </tr>\n    <tr>\n      <th>...</th>\n      <td>...</td>\n      <td>...</td>\n      <td>...</td>\n      <td>...</td>\n      <td>...</td>\n      <td>...</td>\n      <td>...</td>\n      <td>...</td>\n      <td>...</td>\n      <td>...</td>\n      <td>...</td>\n      <td>...</td>\n      <td>...</td>\n      <td>...</td>\n      <td>...</td>\n      <td>...</td>\n      <td>...</td>\n    </tr>\n    <tr>\n      <th>3696</th>\n      <td>3697</td>\n      <td>Ящик для песка сборно-разборный (0,5 куб. м.)</td>\n      <td>101.36</td>\n      <td>3830.00</td>\n      <td>ОС0000004165</td>\n      <td>Четвертая группа (свыше 5 лет до 7 лет включит...</td>\n      <td>16 3612516</td>\n      <td>3830.00</td>\n      <td>1.0</td>\n      <td>3830.00</td>\n      <td>1.0</td>\n      <td>3830.00</td>\n      <td>1.0</td>\n      <td>3830.00</td>\n      <td>1.0</td>\n      <td>[Ящик, для, песка, сборно-разборный, (0,5, куб...</td>\n      <td>Ящик для песка сборно-разборный (0,5 куб.</td>\n    </tr>\n    <tr>\n      <th>3697</th>\n      <td>3698</td>\n      <td>Ящик для песка сборно-разборный (0,5 куб. м.)</td>\n      <td>101.36</td>\n      <td>3830.00</td>\n      <td>ОС0000004166</td>\n      <td>Четвертая группа (свыше 5 лет до 7 лет включит...</td>\n      <td>16 3612516</td>\n      <td>3830.00</td>\n      <td>1.0</td>\n      <td>NaN</td>\n      <td>NaN</td>\n      <td>NaN</td>\n      <td>NaN</td>\n      <td>3830.00</td>\n      <td>1.0</td>\n      <td>[Ящик, для, песка, сборно-разборный, (0,5, куб...</td>\n      <td>Ящик для песка сборно-разборный (0,5 куб.</td>\n    </tr>\n    <tr>\n      <th>3698</th>\n      <td>3699</td>\n      <td>Ящик для песка сборно-разборный (0,5 куб. м.)</td>\n      <td>101.36</td>\n      <td>3830.00</td>\n      <td>ОС0000004167</td>\n      <td>Четвертая группа (свыше 5 лет до 7 лет включит...</td>\n      <td>16 3612516</td>\n      <td>3830.00</td>\n      <td>1.0</td>\n      <td>3830.00</td>\n      <td>1.0</td>\n      <td>3830.00</td>\n      <td>1.0</td>\n      <td>3830.00</td>\n      <td>1.0</td>\n      <td>[Ящик, для, песка, сборно-разборный, (0,5, куб...</td>\n      <td>Ящик для песка сборно-разборный (0,5 куб.</td>\n    </tr>\n    <tr>\n      <th>3699</th>\n      <td>3700</td>\n      <td>Ящик-носилки для мяса и рыбы</td>\n      <td>101.36</td>\n      <td>4414.00</td>\n      <td>000000063519</td>\n      <td>Пятая группа (свыше 7 лет до 10 лет включительно)</td>\n      <td>16 2945116</td>\n      <td>4414.00</td>\n      <td>1.0</td>\n      <td>4414.00</td>\n      <td>1.0</td>\n      <td>4414.00</td>\n      <td>1.0</td>\n      <td>4414.00</td>\n      <td>1.0</td>\n      <td>[Ящик-носилки, для, мяса, и, рыбы]</td>\n      <td>Ящик-носилки для мяса и рыбы</td>\n    </tr>\n    <tr>\n      <th>3700</th>\n      <td>3701</td>\n      <td>Ящик-носилки для мяса и рыбы</td>\n      <td>101.36</td>\n      <td>4414.00</td>\n      <td>000000063520</td>\n      <td>Пятая группа (свыше 7 лет до 10 лет включительно)</td>\n      <td>16 2945116</td>\n      <td>4414.00</td>\n      <td>1.0</td>\n      <td>4414.00</td>\n      <td>1.0</td>\n      <td>4414.00</td>\n      <td>1.0</td>\n      <td>4414.00</td>\n      <td>1.0</td>\n      <td>[Ящик-носилки, для, мяса, и, рыбы]</td>\n      <td>Ящик-носилки для мяса и рыбы</td>\n    </tr>\n  </tbody>\n</table>\n<p>3701 rows × 17 columns</p>\n</div>"
     },
     "metadata": {},
     "execution_count": 8
    }
   ],
   "source": [
    "df['Слова'] = df['Основное средство '].str.split()\n",
    "df['Short'] = ''\n",
    "depth = 6\n",
    "for x in range(df.shape[0]):\n",
    "    words_arr = list(df.iloc[x]['Слова'])\n",
    "    \n",
    "    if len(words_arr) > depth:\n",
    "        words_arr = words_arr[:depth]\n",
    "    df.loc[x, 'Short'] = ' '.join(words_arr)\n",
    "df"
   ]
  },
  {
   "cell_type": "code",
   "execution_count": 9,
   "metadata": {},
   "outputs": [
    {
     "output_type": "execute_result",
     "data": {
      "text/plain": "     0    1    2    3    4    5    6    7    8    9     ... 3691 3692 3693  \\\n0     NaN  NaN  NaN  NaN  NaN  NaN  NaN  NaN  NaN  NaN  ...  NaN  NaN  NaN   \n1     NaN  NaN  NaN  NaN  NaN  NaN  NaN  NaN  NaN  NaN  ...  NaN  NaN  NaN   \n2     NaN  NaN  NaN  NaN  NaN  NaN  NaN  NaN  NaN  NaN  ...  NaN  NaN  NaN   \n3     NaN  NaN  NaN  NaN  NaN  NaN  NaN  NaN  NaN  NaN  ...  NaN  NaN  NaN   \n4     NaN  NaN  NaN  NaN  NaN  NaN  NaN  NaN  NaN  NaN  ...  NaN  NaN  NaN   \n...   ...  ...  ...  ...  ...  ...  ...  ...  ...  ...  ...  ...  ...  ...   \n3696  NaN  NaN  NaN  NaN  NaN  NaN  NaN  NaN  NaN  NaN  ...  NaN  NaN  NaN   \n3697  NaN  NaN  NaN  NaN  NaN  NaN  NaN  NaN  NaN  NaN  ...  NaN  NaN  NaN   \n3698  NaN  NaN  NaN  NaN  NaN  NaN  NaN  NaN  NaN  NaN  ...  NaN  NaN  NaN   \n3699  NaN  NaN  NaN  NaN  NaN  NaN  NaN  NaN  NaN  NaN  ...  NaN  NaN  NaN   \n3700  NaN  NaN  NaN  NaN  NaN  NaN  NaN  NaN  NaN  NaN  ...  NaN  NaN  NaN   \n\n     3694 3695 3696 3697 3698 3699 3700  \n0     NaN  NaN  NaN  NaN  NaN  NaN  NaN  \n1     NaN  NaN  NaN  NaN  NaN  NaN  NaN  \n2     NaN  NaN  NaN  NaN  NaN  NaN  NaN  \n3     NaN  NaN  NaN  NaN  NaN  NaN  NaN  \n4     NaN  NaN  NaN  NaN  NaN  NaN  NaN  \n...   ...  ...  ...  ...  ...  ...  ...  \n3696  NaN  NaN  NaN  NaN  NaN  NaN  NaN  \n3697  NaN  NaN  NaN  NaN  NaN  NaN  NaN  \n3698  NaN  NaN  NaN  NaN  NaN  NaN  NaN  \n3699  NaN  NaN  NaN  NaN  NaN  NaN  NaN  \n3700  NaN  NaN  NaN  NaN  NaN  NaN  NaN  \n\n[3701 rows x 3701 columns]",
      "text/html": "<div>\n<style scoped>\n    .dataframe tbody tr th:only-of-type {\n        vertical-align: middle;\n    }\n\n    .dataframe tbody tr th {\n        vertical-align: top;\n    }\n\n    .dataframe thead th {\n        text-align: right;\n    }\n</style>\n<table border=\"1\" class=\"dataframe\">\n  <thead>\n    <tr style=\"text-align: right;\">\n      <th></th>\n      <th>0</th>\n      <th>1</th>\n      <th>2</th>\n      <th>3</th>\n      <th>4</th>\n      <th>5</th>\n      <th>6</th>\n      <th>7</th>\n      <th>8</th>\n      <th>9</th>\n      <th>...</th>\n      <th>3691</th>\n      <th>3692</th>\n      <th>3693</th>\n      <th>3694</th>\n      <th>3695</th>\n      <th>3696</th>\n      <th>3697</th>\n      <th>3698</th>\n      <th>3699</th>\n      <th>3700</th>\n    </tr>\n  </thead>\n  <tbody>\n    <tr>\n      <th>0</th>\n      <td>NaN</td>\n      <td>NaN</td>\n      <td>NaN</td>\n      <td>NaN</td>\n      <td>NaN</td>\n      <td>NaN</td>\n      <td>NaN</td>\n      <td>NaN</td>\n      <td>NaN</td>\n      <td>NaN</td>\n      <td>...</td>\n      <td>NaN</td>\n      <td>NaN</td>\n      <td>NaN</td>\n      <td>NaN</td>\n      <td>NaN</td>\n      <td>NaN</td>\n      <td>NaN</td>\n      <td>NaN</td>\n      <td>NaN</td>\n      <td>NaN</td>\n    </tr>\n    <tr>\n      <th>1</th>\n      <td>NaN</td>\n      <td>NaN</td>\n      <td>NaN</td>\n      <td>NaN</td>\n      <td>NaN</td>\n      <td>NaN</td>\n      <td>NaN</td>\n      <td>NaN</td>\n      <td>NaN</td>\n      <td>NaN</td>\n      <td>...</td>\n      <td>NaN</td>\n      <td>NaN</td>\n      <td>NaN</td>\n      <td>NaN</td>\n      <td>NaN</td>\n      <td>NaN</td>\n      <td>NaN</td>\n      <td>NaN</td>\n      <td>NaN</td>\n      <td>NaN</td>\n    </tr>\n    <tr>\n      <th>2</th>\n      <td>NaN</td>\n      <td>NaN</td>\n      <td>NaN</td>\n      <td>NaN</td>\n      <td>NaN</td>\n      <td>NaN</td>\n      <td>NaN</td>\n      <td>NaN</td>\n      <td>NaN</td>\n      <td>NaN</td>\n      <td>...</td>\n      <td>NaN</td>\n      <td>NaN</td>\n      <td>NaN</td>\n      <td>NaN</td>\n      <td>NaN</td>\n      <td>NaN</td>\n      <td>NaN</td>\n      <td>NaN</td>\n      <td>NaN</td>\n      <td>NaN</td>\n    </tr>\n    <tr>\n      <th>3</th>\n      <td>NaN</td>\n      <td>NaN</td>\n      <td>NaN</td>\n      <td>NaN</td>\n      <td>NaN</td>\n      <td>NaN</td>\n      <td>NaN</td>\n      <td>NaN</td>\n      <td>NaN</td>\n      <td>NaN</td>\n      <td>...</td>\n      <td>NaN</td>\n      <td>NaN</td>\n      <td>NaN</td>\n      <td>NaN</td>\n      <td>NaN</td>\n      <td>NaN</td>\n      <td>NaN</td>\n      <td>NaN</td>\n      <td>NaN</td>\n      <td>NaN</td>\n    </tr>\n    <tr>\n      <th>4</th>\n      <td>NaN</td>\n      <td>NaN</td>\n      <td>NaN</td>\n      <td>NaN</td>\n      <td>NaN</td>\n      <td>NaN</td>\n      <td>NaN</td>\n      <td>NaN</td>\n      <td>NaN</td>\n      <td>NaN</td>\n      <td>...</td>\n      <td>NaN</td>\n      <td>NaN</td>\n      <td>NaN</td>\n      <td>NaN</td>\n      <td>NaN</td>\n      <td>NaN</td>\n      <td>NaN</td>\n      <td>NaN</td>\n      <td>NaN</td>\n      <td>NaN</td>\n    </tr>\n    <tr>\n      <th>...</th>\n      <td>...</td>\n      <td>...</td>\n      <td>...</td>\n      <td>...</td>\n      <td>...</td>\n      <td>...</td>\n      <td>...</td>\n      <td>...</td>\n      <td>...</td>\n      <td>...</td>\n      <td>...</td>\n      <td>...</td>\n      <td>...</td>\n      <td>...</td>\n      <td>...</td>\n      <td>...</td>\n      <td>...</td>\n      <td>...</td>\n      <td>...</td>\n      <td>...</td>\n      <td>...</td>\n    </tr>\n    <tr>\n      <th>3696</th>\n      <td>NaN</td>\n      <td>NaN</td>\n      <td>NaN</td>\n      <td>NaN</td>\n      <td>NaN</td>\n      <td>NaN</td>\n      <td>NaN</td>\n      <td>NaN</td>\n      <td>NaN</td>\n      <td>NaN</td>\n      <td>...</td>\n      <td>NaN</td>\n      <td>NaN</td>\n      <td>NaN</td>\n      <td>NaN</td>\n      <td>NaN</td>\n      <td>NaN</td>\n      <td>NaN</td>\n      <td>NaN</td>\n      <td>NaN</td>\n      <td>NaN</td>\n    </tr>\n    <tr>\n      <th>3697</th>\n      <td>NaN</td>\n      <td>NaN</td>\n      <td>NaN</td>\n      <td>NaN</td>\n      <td>NaN</td>\n      <td>NaN</td>\n      <td>NaN</td>\n      <td>NaN</td>\n      <td>NaN</td>\n      <td>NaN</td>\n      <td>...</td>\n      <td>NaN</td>\n      <td>NaN</td>\n      <td>NaN</td>\n      <td>NaN</td>\n      <td>NaN</td>\n      <td>NaN</td>\n      <td>NaN</td>\n      <td>NaN</td>\n      <td>NaN</td>\n      <td>NaN</td>\n    </tr>\n    <tr>\n      <th>3698</th>\n      <td>NaN</td>\n      <td>NaN</td>\n      <td>NaN</td>\n      <td>NaN</td>\n      <td>NaN</td>\n      <td>NaN</td>\n      <td>NaN</td>\n      <td>NaN</td>\n      <td>NaN</td>\n      <td>NaN</td>\n      <td>...</td>\n      <td>NaN</td>\n      <td>NaN</td>\n      <td>NaN</td>\n      <td>NaN</td>\n      <td>NaN</td>\n      <td>NaN</td>\n      <td>NaN</td>\n      <td>NaN</td>\n      <td>NaN</td>\n      <td>NaN</td>\n    </tr>\n    <tr>\n      <th>3699</th>\n      <td>NaN</td>\n      <td>NaN</td>\n      <td>NaN</td>\n      <td>NaN</td>\n      <td>NaN</td>\n      <td>NaN</td>\n      <td>NaN</td>\n      <td>NaN</td>\n      <td>NaN</td>\n      <td>NaN</td>\n      <td>...</td>\n      <td>NaN</td>\n      <td>NaN</td>\n      <td>NaN</td>\n      <td>NaN</td>\n      <td>NaN</td>\n      <td>NaN</td>\n      <td>NaN</td>\n      <td>NaN</td>\n      <td>NaN</td>\n      <td>NaN</td>\n    </tr>\n    <tr>\n      <th>3700</th>\n      <td>NaN</td>\n      <td>NaN</td>\n      <td>NaN</td>\n      <td>NaN</td>\n      <td>NaN</td>\n      <td>NaN</td>\n      <td>NaN</td>\n      <td>NaN</td>\n      <td>NaN</td>\n      <td>NaN</td>\n      <td>...</td>\n      <td>NaN</td>\n      <td>NaN</td>\n      <td>NaN</td>\n      <td>NaN</td>\n      <td>NaN</td>\n      <td>NaN</td>\n      <td>NaN</td>\n      <td>NaN</td>\n      <td>NaN</td>\n      <td>NaN</td>\n    </tr>\n  </tbody>\n</table>\n<p>3701 rows × 3701 columns</p>\n</div>"
     },
     "metadata": {},
     "execution_count": 9
    }
   ],
   "source": [
    "idx = df['Short'].to_list()\n",
    "idx = range(len(idx))\n",
    "new_df = pd.DataFrame(columns=idx, index=idx)\n",
    "new_df"
   ]
  },
  {
   "cell_type": "code",
   "execution_count": 14,
   "metadata": {
    "tags": []
   },
   "outputs": [
    {
     "output_type": "stream",
     "name": "stdout",
     "text": "100 2 1\n200 3 2\n300 4 3\n400 5 4\n500 6 5\n600 7 6\n700 8 7\n800 9 8\n900 10 9\n1000 11 10\n1100 12 11\n1200 13 12\n1300 14 13\n1400 15 14\n1500 16 15\n1600 17 16\n1700 18 17\n1800 19 18\n1900 20 19\n2000 21 20\n2100 22 21\n2200 23 22\n2300 24 23\n2400 25 24\n2500 26 25\n2600 27 26\n2700 28 27\n2800 29 28\n2900 30 29\n3000 31 30\n3100 32 31\n3200 33 32\n3300 34 33\n3400 35 34\n3500 36 35\n3600 37 36\n3700 38 37\n"
    }
   ],
   "source": [
    "size  = df.shape[0]\n",
    "level = 1\n",
    "grade = 100\n",
    "precision = 0.5\n",
    "for x in range(size):    \n",
    "    for y in range(size):\n",
    "        row = df.iloc[x]['Short']\n",
    "        col = df.iloc[y]['Short']\n",
    "        diff = difflib.SequenceMatcher(None, row, col).ratio()\n",
    "        new_df.loc[x, y] = diff\n",
    "    if level == x // grade:\n",
    "        level += 1\n",
    "        print(x, level, x//grade)\n",
    "new_df[new_df[:] > precision].to_csv('data/weights.csv', sep=\";\")\n"
   ]
  },
  {
   "cell_type": "code",
   "execution_count": 5,
   "metadata": {},
   "outputs": [
    {
     "output_type": "execute_result",
     "data": {
      "text/plain": "1.0"
     },
     "metadata": {},
     "execution_count": 5
    }
   ],
   "source": [
    "difflib.SequenceMatcher(None, 'row', 'row').ratio()"
   ]
  },
  {
   "cell_type": "code",
   "execution_count": null,
   "metadata": {},
   "outputs": [],
   "source": []
  }
 ]
}