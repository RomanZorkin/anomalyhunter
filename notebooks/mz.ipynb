{
 "metadata": {
  "language_info": {
   "codemirror_mode": {
    "name": "ipython",
    "version": 3
   },
   "file_extension": ".py",
   "mimetype": "text/x-python",
   "name": "python",
   "nbconvert_exporter": "python",
   "pygments_lexer": "ipython3",
   "version": "3.8.5-final"
  },
  "orig_nbformat": 2,
  "kernelspec": {
   "name": "Python 3.8.5 32-bit ('env')",
   "display_name": "Python 3.8.5 32-bit ('env')",
   "metadata": {
    "interpreter": {
     "hash": "1d84a9de83142d71b391f510af07a210d389772c49c628d4260d7abf40539c7e"
    }
   }
  }
 },
 "nbformat": 4,
 "nbformat_minor": 2,
 "cells": [
  {
   "cell_type": "code",
   "execution_count": 1,
   "metadata": {},
   "outputs": [],
   "source": [
    "import difflib\n",
    "from pathlib import Path\n",
    "\n",
    "import matplotlib as plt\n",
    "import numpy as np\n",
    "import pandas as pd\n",
    "from pandas.io.excel import ExcelWriter"
   ]
  },
  {
   "source": [
    "## Установка переменных"
   ],
   "cell_type": "markdown",
   "metadata": {}
  },
  {
   "cell_type": "code",
   "execution_count": 2,
   "metadata": {},
   "outputs": [],
   "source": [
    "stocks_xl = Path('data/отчет МЗ.xlsx')\n",
    "funds_xl = Path('data/отчет ОС.xlsx')\n",
    "export_file = Path('data/mz_compare.xlsx')\n",
    "stocks_name_col = 'Номенклатура'\n",
    "funds_name_col = 'ОС'\n",
    "books_account = '101.38 \"Прочие основные средства – иное движимое имущество учреждения\"'\n",
    "col_counter = 0\n",
    "precision = 0.5"
   ]
  },
  {
   "source": [
    "## Чтение файлов, создание фремов данных"
   ],
   "cell_type": "markdown",
   "metadata": {}
  },
  {
   "cell_type": "code",
   "execution_count": 3,
   "metadata": {},
   "outputs": [],
   "source": [
    "stocks = pd.read_excel(stocks_xl)\n",
    "funds = pd.read_excel(funds_xl)\n"
   ]
  },
  {
   "cell_type": "code",
   "execution_count": 4,
   "metadata": {
    "tags": []
   },
   "outputs": [
    {
     "output_type": "stream",
     "name": "stdout",
     "text": "&lt;class &#39;pandas.core.frame.DataFrame&#39;&gt;\nInt64Index: 1985 entries, 0 to 1984\nData columns (total 22 columns):\n #   Column                                Non-Null Count  Dtype  \n---  ------                                --------------  -----  \n 0   № п/п                                 1985 non-null   int64  \n 1   ОС                                    1985 non-null   object \n 2   Unnamed: 2                            0 non-null      float64\n 3   Unnamed: 3                            0 non-null      float64\n 4   Unnamed: 4                            0 non-null      float64\n 5   Инвентарный номер                     1723 non-null   object \n 6   ОКОФ                                  1969 non-null   object \n 7   Амортизационная группа                1924 non-null   float64\n 8   Способ начисления амортизации         1684 non-null   object \n 9   Дата принятия к учету                 1983 non-null   object \n 10  Состояние                             1985 non-null   object \n 11  Мес. норма износа, %                  1985 non-null   object \n 12  Срок полезного использо вания (мес.)  1883 non-null   float64\n 13  Износ, %                              1985 non-null   object \n 14  ОС.Дата выпуска (постройки)           1868 non-null   object \n 15  ОС.Заводской номер                    1419 non-null   object \n 16  Дата ввода в эксплуатацию             1544 non-null   object \n 17  Счет                                  1985 non-null   object \n 18  Балансовая стоимость                  1985 non-null   float64\n 19  Кол-во                                1985 non-null   int64  \n 20  Сумма амортизации                     1608 non-null   float64\n 21  Остаточная стоимость                  518 non-null    float64\ndtypes: float64(8), int64(2), object(12)\nmemory usage: 263.6+ KB\n"
    }
   ],
   "source": [
    "# Из фрейма исключаются счета с библиотечным фондом, и задаются новые порядковые номера индексов\n",
    "funds = funds.loc[funds['Счет'] != books_account]\n",
    "new_ind = range(funds.shape[0])\n",
    "funds.set_index(pd.Index(new_ind))\n",
    "funds.info()"
   ]
  },
  {
   "cell_type": "code",
   "execution_count": 5,
   "metadata": {},
   "outputs": [
    {
     "output_type": "execute_result",
     "data": {
      "text/plain": "&#39;Квартира трехкомнатная&#39;"
     },
     "metadata": {},
     "execution_count": 5
    }
   ],
   "source": [
    "funds.loc[0, 'ОС']"
   ]
  },
  {
   "cell_type": "code",
   "execution_count": 6,
   "metadata": {},
   "outputs": [
    {
     "output_type": "execute_result",
     "data": {
      "text/plain": "0          &quot;Индибак&quot; дезинфицирующее средство. 5 л\n1    Дезинфицирующее средство &quot;Акватабс&quot; 1,67 №320\nName: Номенклатура, dtype: object"
     },
     "metadata": {},
     "execution_count": 6
    }
   ],
   "source": [
    "stocks.loc[[0,1], stocks_name_col]"
   ]
  },
  {
   "cell_type": "code",
   "execution_count": 7,
   "metadata": {},
   "outputs": [
    {
     "output_type": "execute_result",
     "data": {
      "text/plain": "(3557, 1985)"
     },
     "metadata": {},
     "execution_count": 7
    }
   ],
   "source": [
    "stocks_size, funds_size  = stocks.shape[0], funds.shape[0]\n",
    "stocks_size, funds_size"
   ]
  },
  {
   "cell_type": "code",
   "execution_count": 25,
   "metadata": {},
   "outputs": [
    {
     "output_type": "execute_result",
     "data": {
      "text/plain": "     0    1    2    3    4    5    6    7    8    9     ... 3547 3548 3549  \\\n0     NaN  NaN  NaN  NaN  NaN  NaN  NaN  NaN  NaN  NaN  ...  NaN  NaN  NaN   \n1     NaN  NaN  NaN  NaN  NaN  NaN  NaN  NaN  NaN  NaN  ...  NaN  NaN  NaN   \n2     NaN  NaN  NaN  NaN  NaN  NaN  NaN  NaN  NaN  NaN  ...  NaN  NaN  NaN   \n3     NaN  NaN  NaN  NaN  NaN  NaN  NaN  NaN  NaN  NaN  ...  NaN  NaN  NaN   \n4     NaN  NaN  NaN  NaN  NaN  NaN  NaN  NaN  NaN  NaN  ...  NaN  NaN  NaN   \n...   ...  ...  ...  ...  ...  ...  ...  ...  ...  ...  ...  ...  ...  ...   \n1980  NaN  NaN  NaN  NaN  NaN  NaN  NaN  NaN  NaN  NaN  ...  NaN  NaN  NaN   \n1981  NaN  NaN  NaN  NaN  NaN  NaN  NaN  NaN  NaN  NaN  ...  NaN  NaN  NaN   \n1982  NaN  NaN  NaN  NaN  NaN  NaN  NaN  NaN  NaN  NaN  ...  NaN  NaN  NaN   \n1983  NaN  NaN  NaN  NaN  NaN  NaN  NaN  NaN  NaN  NaN  ...  NaN  NaN  NaN   \n1984  NaN  NaN  NaN  NaN  NaN  NaN  NaN  NaN  NaN  NaN  ...  NaN  NaN  NaN   \n\n     3550 3551 3552 3553 3554 3555 3556  \n0     NaN  NaN  NaN  NaN  NaN  NaN  NaN  \n1     NaN  NaN  NaN  NaN  NaN  NaN  NaN  \n2     NaN  NaN  NaN  NaN  NaN  NaN  NaN  \n3     NaN  NaN  NaN  NaN  NaN  NaN  NaN  \n4     NaN  NaN  NaN  NaN  NaN  NaN  NaN  \n...   ...  ...  ...  ...  ...  ...  ...  \n1980  NaN  NaN  NaN  NaN  NaN  NaN  NaN  \n1981  NaN  NaN  NaN  NaN  NaN  NaN  NaN  \n1982  NaN  NaN  NaN  NaN  NaN  NaN  NaN  \n1983  NaN  NaN  NaN  NaN  NaN  NaN  NaN  \n1984  NaN  NaN  NaN  NaN  NaN  NaN  NaN  \n\n[1985 rows x 3557 columns]",
      "text/html": "<div>\n<style scoped>\n    .dataframe tbody tr th:only-of-type {\n        vertical-align: middle;\n    }\n\n    .dataframe tbody tr th {\n        vertical-align: top;\n    }\n\n    .dataframe thead th {\n        text-align: right;\n    }\n</style>\n<table border=\"1\" class=\"dataframe\">\n  <thead>\n    <tr style=\"text-align: right;\">\n      <th></th>\n      <th>0</th>\n      <th>1</th>\n      <th>2</th>\n      <th>3</th>\n      <th>4</th>\n      <th>5</th>\n      <th>6</th>\n      <th>7</th>\n      <th>8</th>\n      <th>9</th>\n      <th>...</th>\n      <th>3547</th>\n      <th>3548</th>\n      <th>3549</th>\n      <th>3550</th>\n      <th>3551</th>\n      <th>3552</th>\n      <th>3553</th>\n      <th>3554</th>\n      <th>3555</th>\n      <th>3556</th>\n    </tr>\n  </thead>\n  <tbody>\n    <tr>\n      <th>0</th>\n      <td>NaN</td>\n      <td>NaN</td>\n      <td>NaN</td>\n      <td>NaN</td>\n      <td>NaN</td>\n      <td>NaN</td>\n      <td>NaN</td>\n      <td>NaN</td>\n      <td>NaN</td>\n      <td>NaN</td>\n      <td>...</td>\n      <td>NaN</td>\n      <td>NaN</td>\n      <td>NaN</td>\n      <td>NaN</td>\n      <td>NaN</td>\n      <td>NaN</td>\n      <td>NaN</td>\n      <td>NaN</td>\n      <td>NaN</td>\n      <td>NaN</td>\n    </tr>\n    <tr>\n      <th>1</th>\n      <td>NaN</td>\n      <td>NaN</td>\n      <td>NaN</td>\n      <td>NaN</td>\n      <td>NaN</td>\n      <td>NaN</td>\n      <td>NaN</td>\n      <td>NaN</td>\n      <td>NaN</td>\n      <td>NaN</td>\n      <td>...</td>\n      <td>NaN</td>\n      <td>NaN</td>\n      <td>NaN</td>\n      <td>NaN</td>\n      <td>NaN</td>\n      <td>NaN</td>\n      <td>NaN</td>\n      <td>NaN</td>\n      <td>NaN</td>\n      <td>NaN</td>\n    </tr>\n    <tr>\n      <th>2</th>\n      <td>NaN</td>\n      <td>NaN</td>\n      <td>NaN</td>\n      <td>NaN</td>\n      <td>NaN</td>\n      <td>NaN</td>\n      <td>NaN</td>\n      <td>NaN</td>\n      <td>NaN</td>\n      <td>NaN</td>\n      <td>...</td>\n      <td>NaN</td>\n      <td>NaN</td>\n      <td>NaN</td>\n      <td>NaN</td>\n      <td>NaN</td>\n      <td>NaN</td>\n      <td>NaN</td>\n      <td>NaN</td>\n      <td>NaN</td>\n      <td>NaN</td>\n    </tr>\n    <tr>\n      <th>3</th>\n      <td>NaN</td>\n      <td>NaN</td>\n      <td>NaN</td>\n      <td>NaN</td>\n      <td>NaN</td>\n      <td>NaN</td>\n      <td>NaN</td>\n      <td>NaN</td>\n      <td>NaN</td>\n      <td>NaN</td>\n      <td>...</td>\n      <td>NaN</td>\n      <td>NaN</td>\n      <td>NaN</td>\n      <td>NaN</td>\n      <td>NaN</td>\n      <td>NaN</td>\n      <td>NaN</td>\n      <td>NaN</td>\n      <td>NaN</td>\n      <td>NaN</td>\n    </tr>\n    <tr>\n      <th>4</th>\n      <td>NaN</td>\n      <td>NaN</td>\n      <td>NaN</td>\n      <td>NaN</td>\n      <td>NaN</td>\n      <td>NaN</td>\n      <td>NaN</td>\n      <td>NaN</td>\n      <td>NaN</td>\n      <td>NaN</td>\n      <td>...</td>\n      <td>NaN</td>\n      <td>NaN</td>\n      <td>NaN</td>\n      <td>NaN</td>\n      <td>NaN</td>\n      <td>NaN</td>\n      <td>NaN</td>\n      <td>NaN</td>\n      <td>NaN</td>\n      <td>NaN</td>\n    </tr>\n    <tr>\n      <th>...</th>\n      <td>...</td>\n      <td>...</td>\n      <td>...</td>\n      <td>...</td>\n      <td>...</td>\n      <td>...</td>\n      <td>...</td>\n      <td>...</td>\n      <td>...</td>\n      <td>...</td>\n      <td>...</td>\n      <td>...</td>\n      <td>...</td>\n      <td>...</td>\n      <td>...</td>\n      <td>...</td>\n      <td>...</td>\n      <td>...</td>\n      <td>...</td>\n      <td>...</td>\n      <td>...</td>\n    </tr>\n    <tr>\n      <th>1980</th>\n      <td>NaN</td>\n      <td>NaN</td>\n      <td>NaN</td>\n      <td>NaN</td>\n      <td>NaN</td>\n      <td>NaN</td>\n      <td>NaN</td>\n      <td>NaN</td>\n      <td>NaN</td>\n      <td>NaN</td>\n      <td>...</td>\n      <td>NaN</td>\n      <td>NaN</td>\n      <td>NaN</td>\n      <td>NaN</td>\n      <td>NaN</td>\n      <td>NaN</td>\n      <td>NaN</td>\n      <td>NaN</td>\n      <td>NaN</td>\n      <td>NaN</td>\n    </tr>\n    <tr>\n      <th>1981</th>\n      <td>NaN</td>\n      <td>NaN</td>\n      <td>NaN</td>\n      <td>NaN</td>\n      <td>NaN</td>\n      <td>NaN</td>\n      <td>NaN</td>\n      <td>NaN</td>\n      <td>NaN</td>\n      <td>NaN</td>\n      <td>...</td>\n      <td>NaN</td>\n      <td>NaN</td>\n      <td>NaN</td>\n      <td>NaN</td>\n      <td>NaN</td>\n      <td>NaN</td>\n      <td>NaN</td>\n      <td>NaN</td>\n      <td>NaN</td>\n      <td>NaN</td>\n    </tr>\n    <tr>\n      <th>1982</th>\n      <td>NaN</td>\n      <td>NaN</td>\n      <td>NaN</td>\n      <td>NaN</td>\n      <td>NaN</td>\n      <td>NaN</td>\n      <td>NaN</td>\n      <td>NaN</td>\n      <td>NaN</td>\n      <td>NaN</td>\n      <td>...</td>\n      <td>NaN</td>\n      <td>NaN</td>\n      <td>NaN</td>\n      <td>NaN</td>\n      <td>NaN</td>\n      <td>NaN</td>\n      <td>NaN</td>\n      <td>NaN</td>\n      <td>NaN</td>\n      <td>NaN</td>\n    </tr>\n    <tr>\n      <th>1983</th>\n      <td>NaN</td>\n      <td>NaN</td>\n      <td>NaN</td>\n      <td>NaN</td>\n      <td>NaN</td>\n      <td>NaN</td>\n      <td>NaN</td>\n      <td>NaN</td>\n      <td>NaN</td>\n      <td>NaN</td>\n      <td>...</td>\n      <td>NaN</td>\n      <td>NaN</td>\n      <td>NaN</td>\n      <td>NaN</td>\n      <td>NaN</td>\n      <td>NaN</td>\n      <td>NaN</td>\n      <td>NaN</td>\n      <td>NaN</td>\n      <td>NaN</td>\n    </tr>\n    <tr>\n      <th>1984</th>\n      <td>NaN</td>\n      <td>NaN</td>\n      <td>NaN</td>\n      <td>NaN</td>\n      <td>NaN</td>\n      <td>NaN</td>\n      <td>NaN</td>\n      <td>NaN</td>\n      <td>NaN</td>\n      <td>NaN</td>\n      <td>...</td>\n      <td>NaN</td>\n      <td>NaN</td>\n      <td>NaN</td>\n      <td>NaN</td>\n      <td>NaN</td>\n      <td>NaN</td>\n      <td>NaN</td>\n      <td>NaN</td>\n      <td>NaN</td>\n      <td>NaN</td>\n    </tr>\n  </tbody>\n</table>\n<p>1985 rows × 3557 columns</p>\n</div>"
     },
     "metadata": {},
     "execution_count": 25
    }
   ],
   "source": [
    "matrix = pd.DataFrame(columns=range(stocks_size), index=range(funds_size))\n",
    "matrix"
   ]
  },
  {
   "source": [
    "## Расчет вероятности совпадений наименований"
   ],
   "cell_type": "markdown",
   "metadata": {}
  },
  {
   "source": [
    "### Функции подсчета процента совпдаения"
   ],
   "cell_type": "markdown",
   "metadata": {}
  },
  {
   "cell_type": "code",
   "execution_count": 31,
   "metadata": {},
   "outputs": [],
   "source": [
    "from sub_string import main\n",
    "\n",
    "def foo_3(y, row_num, **kwargs):\n",
    "    global col_counter\n",
    "    weight = main(funds.loc[row_num,funds_name_col], stocks.loc[col_counter, stocks_name_col])\n",
    "    col_counter += 1\n",
    "    return weight"
   ]
  },
  {
   "cell_type": "code",
   "execution_count": 32,
   "metadata": {},
   "outputs": [],
   "source": [
    "def foo_2(y, row_num, **kwargs):\n",
    "    '''Перебор фрейма по колонкам, расчет и запись веса в фрейм'''\n",
    "    global col_counter\n",
    "    weight = difflib.SequenceMatcher(None, funds.loc[row_num,funds_name_col], stocks.loc[col_counter, stocks_name_col]).ratio()\n",
    "    col_counter += 1\n",
    "    return weight"
   ]
  },
  {
   "cell_type": "code",
   "execution_count": 33,
   "metadata": {},
   "outputs": [],
   "source": [
    "def foo(x, **kwargs):\n",
    "    '''Перебор фрейма по строкам, извлечение данных строки'''\n",
    "    global col_counter\n",
    "    x = x.apply(foo_3, args=(x.name,))\n",
    "    col_counter = 0\n",
    "    return x"
   ]
  },
  {
   "source": [
    "### Запуск фуункций подсчета весов"
   ],
   "cell_type": "markdown",
   "metadata": {}
  },
  {
   "cell_type": "code",
   "execution_count": 34,
   "metadata": {
    "tags": []
   },
   "outputs": [
    {
     "output_type": "error",
     "ename": "AttributeError",
     "evalue": "&#39;function&#39; object has no attribute &#39;apply&#39;",
     "traceback": [
      "\u001b[1;31m---------------------------------------------------------------------------\u001b[0m",
      "\u001b[1;31mAttributeError\u001b[0m                            Traceback (most recent call last)",
      "Input \u001b[1;32mIn [34]\u001b[0m, in \u001b[0;36m&lt;cell line: 5&gt;\u001b[1;34m()\u001b[0m\n\u001b[0;32m      1\u001b[0m \u001b[38;5;28;01mimport\u001b[39;00m \u001b[38;5;21;01mtime\u001b[39;00m\n\u001b[0;32m      3\u001b[0m start \u001b[38;5;241m=\u001b[39m time\u001b[38;5;241m.\u001b[39mtime()\n\u001b[1;32m----&gt; 5\u001b[0m matrix \u001b[38;5;241m=\u001b[39m \u001b[43mmatrix\u001b[49m\u001b[38;5;241;43m.\u001b[39;49m\u001b[43mhead\u001b[49m\u001b[38;5;241;43m.\u001b[39;49m\u001b[43mapply\u001b[49m(foo, axis\u001b[38;5;241m=\u001b[39m\u001b[38;5;241m1\u001b[39m)\n\u001b[0;32m      7\u001b[0m end \u001b[38;5;241m=\u001b[39m time\u001b[38;5;241m.\u001b[39mtime()\n\u001b[0;32m      8\u001b[0m period \u001b[38;5;241m=\u001b[39m end \u001b[38;5;241m-\u001b[39m start\n",
      "\u001b[1;31mAttributeError\u001b[0m: &#39;function&#39; object has no attribute &#39;apply&#39;"
     ]
    }
   ],
   "source": [
    "import time\n",
    "\n",
    "start = time.time()\n",
    "\n",
    "matrix = matrix.apply(foo, axis=1)\n",
    "\n",
    "end = time.time()\n",
    "period = end - start\n",
    "print(period)"
   ]
  },
  {
   "cell_type": "code",
   "execution_count": 28,
   "metadata": {},
   "outputs": [
    {
     "output_type": "execute_result",
     "data": {
      "text/plain": "     0     1     2     3     4     5     6     7         8         9     ...  \\\n12    NaN   NaN   NaN   NaN   NaN   NaN   NaN   NaN       NaN       NaN  ...   \n16    NaN   NaN   NaN   NaN   NaN   NaN   NaN   NaN       NaN       NaN  ...   \n62    NaN   NaN   NaN   NaN   NaN   NaN   NaN   NaN       NaN       NaN  ...   \n95    NaN   NaN   NaN   NaN   NaN   NaN   NaN   NaN       NaN       NaN  ...   \n101   NaN   NaN   NaN   NaN   NaN   NaN   NaN   NaN       NaN       NaN  ...   \n126   NaN   NaN   NaN   NaN   NaN   NaN   NaN   NaN       NaN       NaN  ...   \n147   NaN   NaN   NaN   NaN   NaN   NaN   NaN   NaN       NaN       NaN  ...   \n186   NaN   NaN   NaN   NaN   NaN   NaN   NaN   NaN       NaN       NaN  ...   \n198   NaN   NaN   NaN   NaN   NaN   NaN   NaN   NaN       NaN       NaN  ...   \n209   NaN   NaN   NaN   NaN   NaN   NaN   NaN   NaN       NaN       NaN  ...   \n211   NaN   NaN   NaN   NaN   NaN   NaN   NaN   NaN       NaN       NaN  ...   \n223   NaN   NaN   NaN   NaN   NaN   NaN   NaN   NaN       NaN       NaN  ...   \n227   NaN   NaN   NaN   NaN   NaN   NaN   NaN   NaN       NaN       NaN  ...   \n232   NaN   NaN   NaN   NaN   NaN   NaN   NaN   NaN       NaN       NaN  ...   \n245   NaN   NaN   NaN   NaN   NaN   NaN   NaN   NaN       NaN       NaN  ...   \n246   NaN   NaN   NaN   NaN   NaN   NaN   NaN   NaN       NaN       NaN  ...   \n258   NaN   NaN   NaN   NaN   NaN   NaN   NaN   NaN       NaN       NaN  ...   \n259   NaN   NaN   NaN   NaN   NaN   NaN   NaN   NaN       NaN       NaN  ...   \n282   NaN   NaN   NaN   NaN   NaN   NaN   NaN   NaN  0.666667  0.666667  ...   \n305   NaN   NaN   NaN   NaN   NaN   NaN   NaN   NaN       NaN       NaN  ...   \n310   NaN   NaN   NaN   NaN   NaN   NaN   NaN   NaN       NaN       NaN  ...   \n311   NaN   NaN   NaN   NaN   NaN   NaN   NaN   NaN       NaN       NaN  ...   \n312   NaN   NaN   NaN   NaN   NaN   NaN   NaN   NaN       NaN       NaN  ...   \n316   NaN   NaN   NaN   NaN   NaN   NaN   NaN   NaN       NaN       NaN  ...   \n323   NaN   NaN   NaN   NaN   NaN   NaN   NaN   NaN       NaN       NaN  ...   \n325   NaN   NaN   NaN   NaN   NaN   NaN   NaN   NaN       NaN       NaN  ...   \n330   NaN   NaN   NaN   NaN   NaN   NaN   NaN   NaN       NaN       NaN  ...   \n341   NaN   NaN   NaN   NaN   NaN   NaN   NaN   NaN       NaN       NaN  ...   \n344   NaN   NaN   NaN   NaN   NaN   NaN   NaN   NaN       NaN       NaN  ...   \n349   NaN   NaN   NaN   NaN   NaN   NaN   NaN   NaN       NaN       NaN  ...   \n355   NaN   NaN   NaN   NaN   NaN   NaN   NaN   NaN       NaN       NaN  ...   \n364   NaN   NaN   NaN   NaN   NaN   NaN   NaN   NaN       NaN       NaN  ...   \n369   NaN   NaN   NaN   NaN   NaN   NaN   NaN   NaN       NaN       NaN  ...   \n388   NaN   NaN   NaN   NaN   NaN   NaN   NaN   NaN       NaN       NaN  ...   \n389   NaN   NaN   NaN   NaN   NaN   NaN   NaN   NaN       NaN       NaN  ...   \n392   NaN   NaN   NaN   NaN   NaN   NaN   NaN   NaN       NaN       NaN  ...   \n401   NaN   NaN   NaN   NaN   NaN   NaN   NaN   NaN       NaN       NaN  ...   \n418   NaN   NaN   NaN   NaN   NaN   NaN   NaN   NaN       NaN       NaN  ...   \n422   NaN   NaN   NaN   NaN   NaN   NaN   NaN   NaN       NaN       NaN  ...   \n427   NaN   NaN   NaN   NaN   NaN   NaN   NaN   NaN       NaN       NaN  ...   \n433   NaN   NaN   NaN   NaN   NaN   NaN   NaN   NaN       NaN       NaN  ...   \n434   NaN   NaN   NaN   NaN   NaN   NaN   NaN   NaN       NaN       NaN  ...   \n444   NaN   NaN   NaN   NaN   NaN   NaN   NaN   NaN       NaN       NaN  ...   \n448   NaN   NaN   NaN   NaN   NaN   NaN   NaN   NaN       NaN       NaN  ...   \n466   NaN   NaN   NaN   NaN   NaN   NaN   NaN   NaN       NaN       NaN  ...   \n467   NaN   NaN   NaN   NaN   NaN   NaN   NaN   NaN       NaN       NaN  ...   \n471   NaN   NaN   NaN   NaN   NaN   NaN   NaN   NaN       NaN       NaN  ...   \n472   NaN   NaN   NaN   NaN   NaN   NaN   NaN   NaN       NaN       NaN  ...   \n477   NaN   NaN   NaN   NaN   NaN   NaN   NaN   NaN       NaN       NaN  ...   \n493   NaN   NaN   NaN   NaN   NaN   NaN   NaN   NaN       NaN       NaN  ...   \n\n     3547  3548  3549  3550  3551  3552  3553  3554  3555  3556  \n12    NaN   NaN   NaN   NaN   NaN   NaN   NaN   NaN   NaN   NaN  \n16    NaN   NaN   NaN   NaN   NaN   NaN   NaN   NaN   NaN   NaN  \n62    NaN   NaN   NaN   NaN   NaN   NaN   NaN   NaN   NaN   NaN  \n95    NaN   NaN   NaN   NaN   NaN   NaN   NaN   NaN   NaN   NaN  \n101   NaN   NaN   NaN   NaN   NaN   NaN   NaN   NaN   NaN   NaN  \n126   NaN   NaN   NaN   NaN   NaN   NaN   NaN   NaN   NaN   NaN  \n147   NaN   NaN   NaN   NaN   NaN   NaN   NaN   NaN   NaN   NaN  \n186   NaN   NaN   NaN   NaN   NaN   NaN   NaN   NaN   NaN   NaN  \n198   NaN   NaN   NaN   NaN   NaN   NaN   NaN   NaN   NaN   NaN  \n209   NaN   NaN   NaN   NaN   NaN   NaN   NaN   NaN   NaN   NaN  \n211   NaN   NaN   NaN   NaN   NaN   NaN   NaN   NaN   NaN   NaN  \n223   NaN   NaN   NaN   NaN   NaN   NaN   NaN   NaN   NaN   NaN  \n227   NaN   NaN   NaN   NaN   NaN   NaN   NaN   NaN   NaN   NaN  \n232   NaN   NaN   NaN   NaN   NaN   NaN   NaN   NaN   NaN   NaN  \n245   NaN   NaN   NaN   NaN   NaN   NaN   NaN   NaN   NaN   NaN  \n246   NaN   NaN   NaN   NaN   NaN   NaN   NaN   NaN   NaN   NaN  \n258   NaN   NaN   NaN   NaN   NaN   NaN   NaN   NaN   NaN   NaN  \n259   NaN   NaN   NaN   NaN   NaN   NaN   NaN   NaN   NaN   NaN  \n282   NaN   NaN   NaN   NaN   NaN   NaN   NaN   NaN   NaN   NaN  \n305   NaN   NaN   NaN   NaN   NaN   NaN   NaN   NaN   NaN   NaN  \n310   NaN   NaN   NaN   NaN   NaN   NaN   NaN   NaN   NaN   NaN  \n311   NaN   NaN   NaN   NaN   NaN   NaN   NaN   NaN   NaN   NaN  \n312   NaN   NaN   NaN   NaN   NaN   NaN   NaN   NaN   NaN   NaN  \n316   NaN   NaN   NaN   NaN   NaN   NaN   NaN   NaN   NaN   NaN  \n323   NaN   NaN   NaN   NaN   NaN   NaN   NaN   NaN   NaN   NaN  \n325   NaN   NaN   NaN   NaN   NaN   NaN   NaN   NaN   NaN   NaN  \n330   NaN   NaN   NaN   NaN   NaN   NaN   NaN   NaN   NaN   NaN  \n341   NaN   NaN   NaN   NaN   NaN   NaN   NaN   NaN   NaN   NaN  \n344   NaN   NaN   NaN   NaN   NaN   NaN   NaN   NaN   NaN   NaN  \n349   NaN   NaN   NaN   NaN   NaN   NaN   NaN   NaN   NaN   NaN  \n355   NaN   NaN   NaN   NaN   NaN   NaN   NaN   NaN   NaN   NaN  \n364   NaN   NaN   NaN   NaN   NaN   NaN   NaN   NaN   NaN   NaN  \n369   NaN   NaN   NaN   NaN   NaN   NaN   NaN   NaN   NaN   NaN  \n388   NaN   NaN   NaN   NaN   NaN   NaN   NaN   NaN   NaN   NaN  \n389   NaN   NaN   NaN   NaN   NaN   NaN   NaN   NaN   NaN   NaN  \n392   NaN   NaN   NaN   NaN   NaN   NaN   NaN   NaN   NaN   NaN  \n401   NaN   NaN   NaN   NaN   NaN   NaN   NaN   NaN   NaN   NaN  \n418   NaN   NaN   NaN   NaN   NaN   NaN   NaN   NaN   NaN   NaN  \n422   NaN   NaN   NaN   NaN   NaN   NaN   NaN   NaN   NaN   NaN  \n427   NaN   NaN   NaN   NaN   NaN   NaN   NaN   NaN   NaN   NaN  \n433   NaN   NaN   NaN   NaN   NaN   NaN   NaN   NaN   NaN   NaN  \n434   NaN   NaN   NaN   NaN   NaN   NaN   NaN   NaN   NaN   NaN  \n444   NaN   NaN   NaN   NaN   NaN   NaN   NaN   NaN   NaN   NaN  \n448   NaN   NaN   NaN   NaN   NaN   NaN   NaN   NaN   NaN   NaN  \n466   NaN   NaN   NaN   NaN   NaN   NaN   NaN   NaN   NaN   NaN  \n467   NaN   NaN   NaN   NaN   NaN   NaN   NaN   NaN   NaN   NaN  \n471   NaN   NaN   NaN   NaN   NaN   NaN   NaN   NaN   NaN   NaN  \n472   NaN   NaN   NaN   NaN   NaN   NaN   NaN   NaN   NaN   NaN  \n477   NaN   NaN   NaN   NaN   NaN   NaN   NaN   NaN   NaN   NaN  \n493   NaN   NaN   NaN   NaN   NaN   NaN   NaN   NaN   NaN   NaN  \n\n[50 rows x 3557 columns]",
      "text/html": "<div>\n<style scoped>\n    .dataframe tbody tr th:only-of-type {\n        vertical-align: middle;\n    }\n\n    .dataframe tbody tr th {\n        vertical-align: top;\n    }\n\n    .dataframe thead th {\n        text-align: right;\n    }\n</style>\n<table border=\"1\" class=\"dataframe\">\n  <thead>\n    <tr style=\"text-align: right;\">\n      <th></th>\n      <th>0</th>\n      <th>1</th>\n      <th>2</th>\n      <th>3</th>\n      <th>4</th>\n      <th>5</th>\n      <th>6</th>\n      <th>7</th>\n      <th>8</th>\n      <th>9</th>\n      <th>...</th>\n      <th>3547</th>\n      <th>3548</th>\n      <th>3549</th>\n      <th>3550</th>\n      <th>3551</th>\n      <th>3552</th>\n      <th>3553</th>\n      <th>3554</th>\n      <th>3555</th>\n      <th>3556</th>\n    </tr>\n  </thead>\n  <tbody>\n    <tr>\n      <th>12</th>\n      <td>NaN</td>\n      <td>NaN</td>\n      <td>NaN</td>\n      <td>NaN</td>\n      <td>NaN</td>\n      <td>NaN</td>\n      <td>NaN</td>\n      <td>NaN</td>\n      <td>NaN</td>\n      <td>NaN</td>\n      <td>...</td>\n      <td>NaN</td>\n      <td>NaN</td>\n      <td>NaN</td>\n      <td>NaN</td>\n      <td>NaN</td>\n      <td>NaN</td>\n      <td>NaN</td>\n      <td>NaN</td>\n      <td>NaN</td>\n      <td>NaN</td>\n    </tr>\n    <tr>\n      <th>16</th>\n      <td>NaN</td>\n      <td>NaN</td>\n      <td>NaN</td>\n      <td>NaN</td>\n      <td>NaN</td>\n      <td>NaN</td>\n      <td>NaN</td>\n      <td>NaN</td>\n      <td>NaN</td>\n      <td>NaN</td>\n      <td>...</td>\n      <td>NaN</td>\n      <td>NaN</td>\n      <td>NaN</td>\n      <td>NaN</td>\n      <td>NaN</td>\n      <td>NaN</td>\n      <td>NaN</td>\n      <td>NaN</td>\n      <td>NaN</td>\n      <td>NaN</td>\n    </tr>\n    <tr>\n      <th>62</th>\n      <td>NaN</td>\n      <td>NaN</td>\n      <td>NaN</td>\n      <td>NaN</td>\n      <td>NaN</td>\n      <td>NaN</td>\n      <td>NaN</td>\n      <td>NaN</td>\n      <td>NaN</td>\n      <td>NaN</td>\n      <td>...</td>\n      <td>NaN</td>\n      <td>NaN</td>\n      <td>NaN</td>\n      <td>NaN</td>\n      <td>NaN</td>\n      <td>NaN</td>\n      <td>NaN</td>\n      <td>NaN</td>\n      <td>NaN</td>\n      <td>NaN</td>\n    </tr>\n    <tr>\n      <th>95</th>\n      <td>NaN</td>\n      <td>NaN</td>\n      <td>NaN</td>\n      <td>NaN</td>\n      <td>NaN</td>\n      <td>NaN</td>\n      <td>NaN</td>\n      <td>NaN</td>\n      <td>NaN</td>\n      <td>NaN</td>\n      <td>...</td>\n      <td>NaN</td>\n      <td>NaN</td>\n      <td>NaN</td>\n      <td>NaN</td>\n      <td>NaN</td>\n      <td>NaN</td>\n      <td>NaN</td>\n      <td>NaN</td>\n      <td>NaN</td>\n      <td>NaN</td>\n    </tr>\n    <tr>\n      <th>101</th>\n      <td>NaN</td>\n      <td>NaN</td>\n      <td>NaN</td>\n      <td>NaN</td>\n      <td>NaN</td>\n      <td>NaN</td>\n      <td>NaN</td>\n      <td>NaN</td>\n      <td>NaN</td>\n      <td>NaN</td>\n      <td>...</td>\n      <td>NaN</td>\n      <td>NaN</td>\n      <td>NaN</td>\n      <td>NaN</td>\n      <td>NaN</td>\n      <td>NaN</td>\n      <td>NaN</td>\n      <td>NaN</td>\n      <td>NaN</td>\n      <td>NaN</td>\n    </tr>\n    <tr>\n      <th>126</th>\n      <td>NaN</td>\n      <td>NaN</td>\n      <td>NaN</td>\n      <td>NaN</td>\n      <td>NaN</td>\n      <td>NaN</td>\n      <td>NaN</td>\n      <td>NaN</td>\n      <td>NaN</td>\n      <td>NaN</td>\n      <td>...</td>\n      <td>NaN</td>\n      <td>NaN</td>\n      <td>NaN</td>\n      <td>NaN</td>\n      <td>NaN</td>\n      <td>NaN</td>\n      <td>NaN</td>\n      <td>NaN</td>\n      <td>NaN</td>\n      <td>NaN</td>\n    </tr>\n    <tr>\n      <th>147</th>\n      <td>NaN</td>\n      <td>NaN</td>\n      <td>NaN</td>\n      <td>NaN</td>\n      <td>NaN</td>\n      <td>NaN</td>\n      <td>NaN</td>\n      <td>NaN</td>\n      <td>NaN</td>\n      <td>NaN</td>\n      <td>...</td>\n      <td>NaN</td>\n      <td>NaN</td>\n      <td>NaN</td>\n      <td>NaN</td>\n      <td>NaN</td>\n      <td>NaN</td>\n      <td>NaN</td>\n      <td>NaN</td>\n      <td>NaN</td>\n      <td>NaN</td>\n    </tr>\n    <tr>\n      <th>186</th>\n      <td>NaN</td>\n      <td>NaN</td>\n      <td>NaN</td>\n      <td>NaN</td>\n      <td>NaN</td>\n      <td>NaN</td>\n      <td>NaN</td>\n      <td>NaN</td>\n      <td>NaN</td>\n      <td>NaN</td>\n      <td>...</td>\n      <td>NaN</td>\n      <td>NaN</td>\n      <td>NaN</td>\n      <td>NaN</td>\n      <td>NaN</td>\n      <td>NaN</td>\n      <td>NaN</td>\n      <td>NaN</td>\n      <td>NaN</td>\n      <td>NaN</td>\n    </tr>\n    <tr>\n      <th>198</th>\n      <td>NaN</td>\n      <td>NaN</td>\n      <td>NaN</td>\n      <td>NaN</td>\n      <td>NaN</td>\n      <td>NaN</td>\n      <td>NaN</td>\n      <td>NaN</td>\n      <td>NaN</td>\n      <td>NaN</td>\n      <td>...</td>\n      <td>NaN</td>\n      <td>NaN</td>\n      <td>NaN</td>\n      <td>NaN</td>\n      <td>NaN</td>\n      <td>NaN</td>\n      <td>NaN</td>\n      <td>NaN</td>\n      <td>NaN</td>\n      <td>NaN</td>\n    </tr>\n    <tr>\n      <th>209</th>\n      <td>NaN</td>\n      <td>NaN</td>\n      <td>NaN</td>\n      <td>NaN</td>\n      <td>NaN</td>\n      <td>NaN</td>\n      <td>NaN</td>\n      <td>NaN</td>\n      <td>NaN</td>\n      <td>NaN</td>\n      <td>...</td>\n      <td>NaN</td>\n      <td>NaN</td>\n      <td>NaN</td>\n      <td>NaN</td>\n      <td>NaN</td>\n      <td>NaN</td>\n      <td>NaN</td>\n      <td>NaN</td>\n      <td>NaN</td>\n      <td>NaN</td>\n    </tr>\n    <tr>\n      <th>211</th>\n      <td>NaN</td>\n      <td>NaN</td>\n      <td>NaN</td>\n      <td>NaN</td>\n      <td>NaN</td>\n      <td>NaN</td>\n      <td>NaN</td>\n      <td>NaN</td>\n      <td>NaN</td>\n      <td>NaN</td>\n      <td>...</td>\n      <td>NaN</td>\n      <td>NaN</td>\n      <td>NaN</td>\n      <td>NaN</td>\n      <td>NaN</td>\n      <td>NaN</td>\n      <td>NaN</td>\n      <td>NaN</td>\n      <td>NaN</td>\n      <td>NaN</td>\n    </tr>\n    <tr>\n      <th>223</th>\n      <td>NaN</td>\n      <td>NaN</td>\n      <td>NaN</td>\n      <td>NaN</td>\n      <td>NaN</td>\n      <td>NaN</td>\n      <td>NaN</td>\n      <td>NaN</td>\n      <td>NaN</td>\n      <td>NaN</td>\n      <td>...</td>\n      <td>NaN</td>\n      <td>NaN</td>\n      <td>NaN</td>\n      <td>NaN</td>\n      <td>NaN</td>\n      <td>NaN</td>\n      <td>NaN</td>\n      <td>NaN</td>\n      <td>NaN</td>\n      <td>NaN</td>\n    </tr>\n    <tr>\n      <th>227</th>\n      <td>NaN</td>\n      <td>NaN</td>\n      <td>NaN</td>\n      <td>NaN</td>\n      <td>NaN</td>\n      <td>NaN</td>\n      <td>NaN</td>\n      <td>NaN</td>\n      <td>NaN</td>\n      <td>NaN</td>\n      <td>...</td>\n      <td>NaN</td>\n      <td>NaN</td>\n      <td>NaN</td>\n      <td>NaN</td>\n      <td>NaN</td>\n      <td>NaN</td>\n      <td>NaN</td>\n      <td>NaN</td>\n      <td>NaN</td>\n      <td>NaN</td>\n    </tr>\n    <tr>\n      <th>232</th>\n      <td>NaN</td>\n      <td>NaN</td>\n      <td>NaN</td>\n      <td>NaN</td>\n      <td>NaN</td>\n      <td>NaN</td>\n      <td>NaN</td>\n      <td>NaN</td>\n      <td>NaN</td>\n      <td>NaN</td>\n      <td>...</td>\n      <td>NaN</td>\n      <td>NaN</td>\n      <td>NaN</td>\n      <td>NaN</td>\n      <td>NaN</td>\n      <td>NaN</td>\n      <td>NaN</td>\n      <td>NaN</td>\n      <td>NaN</td>\n      <td>NaN</td>\n    </tr>\n    <tr>\n      <th>245</th>\n      <td>NaN</td>\n      <td>NaN</td>\n      <td>NaN</td>\n      <td>NaN</td>\n      <td>NaN</td>\n      <td>NaN</td>\n      <td>NaN</td>\n      <td>NaN</td>\n      <td>NaN</td>\n      <td>NaN</td>\n      <td>...</td>\n      <td>NaN</td>\n      <td>NaN</td>\n      <td>NaN</td>\n      <td>NaN</td>\n      <td>NaN</td>\n      <td>NaN</td>\n      <td>NaN</td>\n      <td>NaN</td>\n      <td>NaN</td>\n      <td>NaN</td>\n    </tr>\n    <tr>\n      <th>246</th>\n      <td>NaN</td>\n      <td>NaN</td>\n      <td>NaN</td>\n      <td>NaN</td>\n      <td>NaN</td>\n      <td>NaN</td>\n      <td>NaN</td>\n      <td>NaN</td>\n      <td>NaN</td>\n      <td>NaN</td>\n      <td>...</td>\n      <td>NaN</td>\n      <td>NaN</td>\n      <td>NaN</td>\n      <td>NaN</td>\n      <td>NaN</td>\n      <td>NaN</td>\n      <td>NaN</td>\n      <td>NaN</td>\n      <td>NaN</td>\n      <td>NaN</td>\n    </tr>\n    <tr>\n      <th>258</th>\n      <td>NaN</td>\n      <td>NaN</td>\n      <td>NaN</td>\n      <td>NaN</td>\n      <td>NaN</td>\n      <td>NaN</td>\n      <td>NaN</td>\n      <td>NaN</td>\n      <td>NaN</td>\n      <td>NaN</td>\n      <td>...</td>\n      <td>NaN</td>\n      <td>NaN</td>\n      <td>NaN</td>\n      <td>NaN</td>\n      <td>NaN</td>\n      <td>NaN</td>\n      <td>NaN</td>\n      <td>NaN</td>\n      <td>NaN</td>\n      <td>NaN</td>\n    </tr>\n    <tr>\n      <th>259</th>\n      <td>NaN</td>\n      <td>NaN</td>\n      <td>NaN</td>\n      <td>NaN</td>\n      <td>NaN</td>\n      <td>NaN</td>\n      <td>NaN</td>\n      <td>NaN</td>\n      <td>NaN</td>\n      <td>NaN</td>\n      <td>...</td>\n      <td>NaN</td>\n      <td>NaN</td>\n      <td>NaN</td>\n      <td>NaN</td>\n      <td>NaN</td>\n      <td>NaN</td>\n      <td>NaN</td>\n      <td>NaN</td>\n      <td>NaN</td>\n      <td>NaN</td>\n    </tr>\n    <tr>\n      <th>282</th>\n      <td>NaN</td>\n      <td>NaN</td>\n      <td>NaN</td>\n      <td>NaN</td>\n      <td>NaN</td>\n      <td>NaN</td>\n      <td>NaN</td>\n      <td>NaN</td>\n      <td>0.666667</td>\n      <td>0.666667</td>\n      <td>...</td>\n      <td>NaN</td>\n      <td>NaN</td>\n      <td>NaN</td>\n      <td>NaN</td>\n      <td>NaN</td>\n      <td>NaN</td>\n      <td>NaN</td>\n      <td>NaN</td>\n      <td>NaN</td>\n      <td>NaN</td>\n    </tr>\n    <tr>\n      <th>305</th>\n      <td>NaN</td>\n      <td>NaN</td>\n      <td>NaN</td>\n      <td>NaN</td>\n      <td>NaN</td>\n      <td>NaN</td>\n      <td>NaN</td>\n      <td>NaN</td>\n      <td>NaN</td>\n      <td>NaN</td>\n      <td>...</td>\n      <td>NaN</td>\n      <td>NaN</td>\n      <td>NaN</td>\n      <td>NaN</td>\n      <td>NaN</td>\n      <td>NaN</td>\n      <td>NaN</td>\n      <td>NaN</td>\n      <td>NaN</td>\n      <td>NaN</td>\n    </tr>\n    <tr>\n      <th>310</th>\n      <td>NaN</td>\n      <td>NaN</td>\n      <td>NaN</td>\n      <td>NaN</td>\n      <td>NaN</td>\n      <td>NaN</td>\n      <td>NaN</td>\n      <td>NaN</td>\n      <td>NaN</td>\n      <td>NaN</td>\n      <td>...</td>\n      <td>NaN</td>\n      <td>NaN</td>\n      <td>NaN</td>\n      <td>NaN</td>\n      <td>NaN</td>\n      <td>NaN</td>\n      <td>NaN</td>\n      <td>NaN</td>\n      <td>NaN</td>\n      <td>NaN</td>\n    </tr>\n    <tr>\n      <th>311</th>\n      <td>NaN</td>\n      <td>NaN</td>\n      <td>NaN</td>\n      <td>NaN</td>\n      <td>NaN</td>\n      <td>NaN</td>\n      <td>NaN</td>\n      <td>NaN</td>\n      <td>NaN</td>\n      <td>NaN</td>\n      <td>...</td>\n      <td>NaN</td>\n      <td>NaN</td>\n      <td>NaN</td>\n      <td>NaN</td>\n      <td>NaN</td>\n      <td>NaN</td>\n      <td>NaN</td>\n      <td>NaN</td>\n      <td>NaN</td>\n      <td>NaN</td>\n    </tr>\n    <tr>\n      <th>312</th>\n      <td>NaN</td>\n      <td>NaN</td>\n      <td>NaN</td>\n      <td>NaN</td>\n      <td>NaN</td>\n      <td>NaN</td>\n      <td>NaN</td>\n      <td>NaN</td>\n      <td>NaN</td>\n      <td>NaN</td>\n      <td>...</td>\n      <td>NaN</td>\n      <td>NaN</td>\n      <td>NaN</td>\n      <td>NaN</td>\n      <td>NaN</td>\n      <td>NaN</td>\n      <td>NaN</td>\n      <td>NaN</td>\n      <td>NaN</td>\n      <td>NaN</td>\n    </tr>\n    <tr>\n      <th>316</th>\n      <td>NaN</td>\n      <td>NaN</td>\n      <td>NaN</td>\n      <td>NaN</td>\n      <td>NaN</td>\n      <td>NaN</td>\n      <td>NaN</td>\n      <td>NaN</td>\n      <td>NaN</td>\n      <td>NaN</td>\n      <td>...</td>\n      <td>NaN</td>\n      <td>NaN</td>\n      <td>NaN</td>\n      <td>NaN</td>\n      <td>NaN</td>\n      <td>NaN</td>\n      <td>NaN</td>\n      <td>NaN</td>\n      <td>NaN</td>\n      <td>NaN</td>\n    </tr>\n    <tr>\n      <th>323</th>\n      <td>NaN</td>\n      <td>NaN</td>\n      <td>NaN</td>\n      <td>NaN</td>\n      <td>NaN</td>\n      <td>NaN</td>\n      <td>NaN</td>\n      <td>NaN</td>\n      <td>NaN</td>\n      <td>NaN</td>\n      <td>...</td>\n      <td>NaN</td>\n      <td>NaN</td>\n      <td>NaN</td>\n      <td>NaN</td>\n      <td>NaN</td>\n      <td>NaN</td>\n      <td>NaN</td>\n      <td>NaN</td>\n      <td>NaN</td>\n      <td>NaN</td>\n    </tr>\n    <tr>\n      <th>325</th>\n      <td>NaN</td>\n      <td>NaN</td>\n      <td>NaN</td>\n      <td>NaN</td>\n      <td>NaN</td>\n      <td>NaN</td>\n      <td>NaN</td>\n      <td>NaN</td>\n      <td>NaN</td>\n      <td>NaN</td>\n      <td>...</td>\n      <td>NaN</td>\n      <td>NaN</td>\n      <td>NaN</td>\n      <td>NaN</td>\n      <td>NaN</td>\n      <td>NaN</td>\n      <td>NaN</td>\n      <td>NaN</td>\n      <td>NaN</td>\n      <td>NaN</td>\n    </tr>\n    <tr>\n      <th>330</th>\n      <td>NaN</td>\n      <td>NaN</td>\n      <td>NaN</td>\n      <td>NaN</td>\n      <td>NaN</td>\n      <td>NaN</td>\n      <td>NaN</td>\n      <td>NaN</td>\n      <td>NaN</td>\n      <td>NaN</td>\n      <td>...</td>\n      <td>NaN</td>\n      <td>NaN</td>\n      <td>NaN</td>\n      <td>NaN</td>\n      <td>NaN</td>\n      <td>NaN</td>\n      <td>NaN</td>\n      <td>NaN</td>\n      <td>NaN</td>\n      <td>NaN</td>\n    </tr>\n    <tr>\n      <th>341</th>\n      <td>NaN</td>\n      <td>NaN</td>\n      <td>NaN</td>\n      <td>NaN</td>\n      <td>NaN</td>\n      <td>NaN</td>\n      <td>NaN</td>\n      <td>NaN</td>\n      <td>NaN</td>\n      <td>NaN</td>\n      <td>...</td>\n      <td>NaN</td>\n      <td>NaN</td>\n      <td>NaN</td>\n      <td>NaN</td>\n      <td>NaN</td>\n      <td>NaN</td>\n      <td>NaN</td>\n      <td>NaN</td>\n      <td>NaN</td>\n      <td>NaN</td>\n    </tr>\n    <tr>\n      <th>344</th>\n      <td>NaN</td>\n      <td>NaN</td>\n      <td>NaN</td>\n      <td>NaN</td>\n      <td>NaN</td>\n      <td>NaN</td>\n      <td>NaN</td>\n      <td>NaN</td>\n      <td>NaN</td>\n      <td>NaN</td>\n      <td>...</td>\n      <td>NaN</td>\n      <td>NaN</td>\n      <td>NaN</td>\n      <td>NaN</td>\n      <td>NaN</td>\n      <td>NaN</td>\n      <td>NaN</td>\n      <td>NaN</td>\n      <td>NaN</td>\n      <td>NaN</td>\n    </tr>\n    <tr>\n      <th>349</th>\n      <td>NaN</td>\n      <td>NaN</td>\n      <td>NaN</td>\n      <td>NaN</td>\n      <td>NaN</td>\n      <td>NaN</td>\n      <td>NaN</td>\n      <td>NaN</td>\n      <td>NaN</td>\n      <td>NaN</td>\n      <td>...</td>\n      <td>NaN</td>\n      <td>NaN</td>\n      <td>NaN</td>\n      <td>NaN</td>\n      <td>NaN</td>\n      <td>NaN</td>\n      <td>NaN</td>\n      <td>NaN</td>\n      <td>NaN</td>\n      <td>NaN</td>\n    </tr>\n    <tr>\n      <th>355</th>\n      <td>NaN</td>\n      <td>NaN</td>\n      <td>NaN</td>\n      <td>NaN</td>\n      <td>NaN</td>\n      <td>NaN</td>\n      <td>NaN</td>\n      <td>NaN</td>\n      <td>NaN</td>\n      <td>NaN</td>\n      <td>...</td>\n      <td>NaN</td>\n      <td>NaN</td>\n      <td>NaN</td>\n      <td>NaN</td>\n      <td>NaN</td>\n      <td>NaN</td>\n      <td>NaN</td>\n      <td>NaN</td>\n      <td>NaN</td>\n      <td>NaN</td>\n    </tr>\n    <tr>\n      <th>364</th>\n      <td>NaN</td>\n      <td>NaN</td>\n      <td>NaN</td>\n      <td>NaN</td>\n      <td>NaN</td>\n      <td>NaN</td>\n      <td>NaN</td>\n      <td>NaN</td>\n      <td>NaN</td>\n      <td>NaN</td>\n      <td>...</td>\n      <td>NaN</td>\n      <td>NaN</td>\n      <td>NaN</td>\n      <td>NaN</td>\n      <td>NaN</td>\n      <td>NaN</td>\n      <td>NaN</td>\n      <td>NaN</td>\n      <td>NaN</td>\n      <td>NaN</td>\n    </tr>\n    <tr>\n      <th>369</th>\n      <td>NaN</td>\n      <td>NaN</td>\n      <td>NaN</td>\n      <td>NaN</td>\n      <td>NaN</td>\n      <td>NaN</td>\n      <td>NaN</td>\n      <td>NaN</td>\n      <td>NaN</td>\n      <td>NaN</td>\n      <td>...</td>\n      <td>NaN</td>\n      <td>NaN</td>\n      <td>NaN</td>\n      <td>NaN</td>\n      <td>NaN</td>\n      <td>NaN</td>\n      <td>NaN</td>\n      <td>NaN</td>\n      <td>NaN</td>\n      <td>NaN</td>\n    </tr>\n    <tr>\n      <th>388</th>\n      <td>NaN</td>\n      <td>NaN</td>\n      <td>NaN</td>\n      <td>NaN</td>\n      <td>NaN</td>\n      <td>NaN</td>\n      <td>NaN</td>\n      <td>NaN</td>\n      <td>NaN</td>\n      <td>NaN</td>\n      <td>...</td>\n      <td>NaN</td>\n      <td>NaN</td>\n      <td>NaN</td>\n      <td>NaN</td>\n      <td>NaN</td>\n      <td>NaN</td>\n      <td>NaN</td>\n      <td>NaN</td>\n      <td>NaN</td>\n      <td>NaN</td>\n    </tr>\n    <tr>\n      <th>389</th>\n      <td>NaN</td>\n      <td>NaN</td>\n      <td>NaN</td>\n      <td>NaN</td>\n      <td>NaN</td>\n      <td>NaN</td>\n      <td>NaN</td>\n      <td>NaN</td>\n      <td>NaN</td>\n      <td>NaN</td>\n      <td>...</td>\n      <td>NaN</td>\n      <td>NaN</td>\n      <td>NaN</td>\n      <td>NaN</td>\n      <td>NaN</td>\n      <td>NaN</td>\n      <td>NaN</td>\n      <td>NaN</td>\n      <td>NaN</td>\n      <td>NaN</td>\n    </tr>\n    <tr>\n      <th>392</th>\n      <td>NaN</td>\n      <td>NaN</td>\n      <td>NaN</td>\n      <td>NaN</td>\n      <td>NaN</td>\n      <td>NaN</td>\n      <td>NaN</td>\n      <td>NaN</td>\n      <td>NaN</td>\n      <td>NaN</td>\n      <td>...</td>\n      <td>NaN</td>\n      <td>NaN</td>\n      <td>NaN</td>\n      <td>NaN</td>\n      <td>NaN</td>\n      <td>NaN</td>\n      <td>NaN</td>\n      <td>NaN</td>\n      <td>NaN</td>\n      <td>NaN</td>\n    </tr>\n    <tr>\n      <th>401</th>\n      <td>NaN</td>\n      <td>NaN</td>\n      <td>NaN</td>\n      <td>NaN</td>\n      <td>NaN</td>\n      <td>NaN</td>\n      <td>NaN</td>\n      <td>NaN</td>\n      <td>NaN</td>\n      <td>NaN</td>\n      <td>...</td>\n      <td>NaN</td>\n      <td>NaN</td>\n      <td>NaN</td>\n      <td>NaN</td>\n      <td>NaN</td>\n      <td>NaN</td>\n      <td>NaN</td>\n      <td>NaN</td>\n      <td>NaN</td>\n      <td>NaN</td>\n    </tr>\n    <tr>\n      <th>418</th>\n      <td>NaN</td>\n      <td>NaN</td>\n      <td>NaN</td>\n      <td>NaN</td>\n      <td>NaN</td>\n      <td>NaN</td>\n      <td>NaN</td>\n      <td>NaN</td>\n      <td>NaN</td>\n      <td>NaN</td>\n      <td>...</td>\n      <td>NaN</td>\n      <td>NaN</td>\n      <td>NaN</td>\n      <td>NaN</td>\n      <td>NaN</td>\n      <td>NaN</td>\n      <td>NaN</td>\n      <td>NaN</td>\n      <td>NaN</td>\n      <td>NaN</td>\n    </tr>\n    <tr>\n      <th>422</th>\n      <td>NaN</td>\n      <td>NaN</td>\n      <td>NaN</td>\n      <td>NaN</td>\n      <td>NaN</td>\n      <td>NaN</td>\n      <td>NaN</td>\n      <td>NaN</td>\n      <td>NaN</td>\n      <td>NaN</td>\n      <td>...</td>\n      <td>NaN</td>\n      <td>NaN</td>\n      <td>NaN</td>\n      <td>NaN</td>\n      <td>NaN</td>\n      <td>NaN</td>\n      <td>NaN</td>\n      <td>NaN</td>\n      <td>NaN</td>\n      <td>NaN</td>\n    </tr>\n    <tr>\n      <th>427</th>\n      <td>NaN</td>\n      <td>NaN</td>\n      <td>NaN</td>\n      <td>NaN</td>\n      <td>NaN</td>\n      <td>NaN</td>\n      <td>NaN</td>\n      <td>NaN</td>\n      <td>NaN</td>\n      <td>NaN</td>\n      <td>...</td>\n      <td>NaN</td>\n      <td>NaN</td>\n      <td>NaN</td>\n      <td>NaN</td>\n      <td>NaN</td>\n      <td>NaN</td>\n      <td>NaN</td>\n      <td>NaN</td>\n      <td>NaN</td>\n      <td>NaN</td>\n    </tr>\n    <tr>\n      <th>433</th>\n      <td>NaN</td>\n      <td>NaN</td>\n      <td>NaN</td>\n      <td>NaN</td>\n      <td>NaN</td>\n      <td>NaN</td>\n      <td>NaN</td>\n      <td>NaN</td>\n      <td>NaN</td>\n      <td>NaN</td>\n      <td>...</td>\n      <td>NaN</td>\n      <td>NaN</td>\n      <td>NaN</td>\n      <td>NaN</td>\n      <td>NaN</td>\n      <td>NaN</td>\n      <td>NaN</td>\n      <td>NaN</td>\n      <td>NaN</td>\n      <td>NaN</td>\n    </tr>\n    <tr>\n      <th>434</th>\n      <td>NaN</td>\n      <td>NaN</td>\n      <td>NaN</td>\n      <td>NaN</td>\n      <td>NaN</td>\n      <td>NaN</td>\n      <td>NaN</td>\n      <td>NaN</td>\n      <td>NaN</td>\n      <td>NaN</td>\n      <td>...</td>\n      <td>NaN</td>\n      <td>NaN</td>\n      <td>NaN</td>\n      <td>NaN</td>\n      <td>NaN</td>\n      <td>NaN</td>\n      <td>NaN</td>\n      <td>NaN</td>\n      <td>NaN</td>\n      <td>NaN</td>\n    </tr>\n    <tr>\n      <th>444</th>\n      <td>NaN</td>\n      <td>NaN</td>\n      <td>NaN</td>\n      <td>NaN</td>\n      <td>NaN</td>\n      <td>NaN</td>\n      <td>NaN</td>\n      <td>NaN</td>\n      <td>NaN</td>\n      <td>NaN</td>\n      <td>...</td>\n      <td>NaN</td>\n      <td>NaN</td>\n      <td>NaN</td>\n      <td>NaN</td>\n      <td>NaN</td>\n      <td>NaN</td>\n      <td>NaN</td>\n      <td>NaN</td>\n      <td>NaN</td>\n      <td>NaN</td>\n    </tr>\n    <tr>\n      <th>448</th>\n      <td>NaN</td>\n      <td>NaN</td>\n      <td>NaN</td>\n      <td>NaN</td>\n      <td>NaN</td>\n      <td>NaN</td>\n      <td>NaN</td>\n      <td>NaN</td>\n      <td>NaN</td>\n      <td>NaN</td>\n      <td>...</td>\n      <td>NaN</td>\n      <td>NaN</td>\n      <td>NaN</td>\n      <td>NaN</td>\n      <td>NaN</td>\n      <td>NaN</td>\n      <td>NaN</td>\n      <td>NaN</td>\n      <td>NaN</td>\n      <td>NaN</td>\n    </tr>\n    <tr>\n      <th>466</th>\n      <td>NaN</td>\n      <td>NaN</td>\n      <td>NaN</td>\n      <td>NaN</td>\n      <td>NaN</td>\n      <td>NaN</td>\n      <td>NaN</td>\n      <td>NaN</td>\n      <td>NaN</td>\n      <td>NaN</td>\n      <td>...</td>\n      <td>NaN</td>\n      <td>NaN</td>\n      <td>NaN</td>\n      <td>NaN</td>\n      <td>NaN</td>\n      <td>NaN</td>\n      <td>NaN</td>\n      <td>NaN</td>\n      <td>NaN</td>\n      <td>NaN</td>\n    </tr>\n    <tr>\n      <th>467</th>\n      <td>NaN</td>\n      <td>NaN</td>\n      <td>NaN</td>\n      <td>NaN</td>\n      <td>NaN</td>\n      <td>NaN</td>\n      <td>NaN</td>\n      <td>NaN</td>\n      <td>NaN</td>\n      <td>NaN</td>\n      <td>...</td>\n      <td>NaN</td>\n      <td>NaN</td>\n      <td>NaN</td>\n      <td>NaN</td>\n      <td>NaN</td>\n      <td>NaN</td>\n      <td>NaN</td>\n      <td>NaN</td>\n      <td>NaN</td>\n      <td>NaN</td>\n    </tr>\n    <tr>\n      <th>471</th>\n      <td>NaN</td>\n      <td>NaN</td>\n      <td>NaN</td>\n      <td>NaN</td>\n      <td>NaN</td>\n      <td>NaN</td>\n      <td>NaN</td>\n      <td>NaN</td>\n      <td>NaN</td>\n      <td>NaN</td>\n      <td>...</td>\n      <td>NaN</td>\n      <td>NaN</td>\n      <td>NaN</td>\n      <td>NaN</td>\n      <td>NaN</td>\n      <td>NaN</td>\n      <td>NaN</td>\n      <td>NaN</td>\n      <td>NaN</td>\n      <td>NaN</td>\n    </tr>\n    <tr>\n      <th>472</th>\n      <td>NaN</td>\n      <td>NaN</td>\n      <td>NaN</td>\n      <td>NaN</td>\n      <td>NaN</td>\n      <td>NaN</td>\n      <td>NaN</td>\n      <td>NaN</td>\n      <td>NaN</td>\n      <td>NaN</td>\n      <td>...</td>\n      <td>NaN</td>\n      <td>NaN</td>\n      <td>NaN</td>\n      <td>NaN</td>\n      <td>NaN</td>\n      <td>NaN</td>\n      <td>NaN</td>\n      <td>NaN</td>\n      <td>NaN</td>\n      <td>NaN</td>\n    </tr>\n    <tr>\n      <th>477</th>\n      <td>NaN</td>\n      <td>NaN</td>\n      <td>NaN</td>\n      <td>NaN</td>\n      <td>NaN</td>\n      <td>NaN</td>\n      <td>NaN</td>\n      <td>NaN</td>\n      <td>NaN</td>\n      <td>NaN</td>\n      <td>...</td>\n      <td>NaN</td>\n      <td>NaN</td>\n      <td>NaN</td>\n      <td>NaN</td>\n      <td>NaN</td>\n      <td>NaN</td>\n      <td>NaN</td>\n      <td>NaN</td>\n      <td>NaN</td>\n      <td>NaN</td>\n    </tr>\n    <tr>\n      <th>493</th>\n      <td>NaN</td>\n      <td>NaN</td>\n      <td>NaN</td>\n      <td>NaN</td>\n      <td>NaN</td>\n      <td>NaN</td>\n      <td>NaN</td>\n      <td>NaN</td>\n      <td>NaN</td>\n      <td>NaN</td>\n      <td>...</td>\n      <td>NaN</td>\n      <td>NaN</td>\n      <td>NaN</td>\n      <td>NaN</td>\n      <td>NaN</td>\n      <td>NaN</td>\n      <td>NaN</td>\n      <td>NaN</td>\n      <td>NaN</td>\n      <td>NaN</td>\n    </tr>\n  </tbody>\n</table>\n<p>50 rows × 3557 columns</p>\n</div>"
     },
     "metadata": {},
     "execution_count": 28
    }
   ],
   "source": [
    "#matrix_weight = matrix[matrix[:] > precision]\n",
    "#matrix_weight = matrix_weight.dropna(how='all')\n",
    "#matrix_weight"
   ]
  },
  {
   "source": [
    "## Сохранени и чтение результатов"
   ],
   "cell_type": "markdown",
   "metadata": {}
  },
  {
   "cell_type": "code",
   "execution_count": 11,
   "metadata": {},
   "outputs": [],
   "source": [
    "matrix.to_csv('data/mz_weights_2.csv', sep=';', index_label='ind')"
   ]
  },
  {
   "cell_type": "code",
   "execution_count": 11,
   "metadata": {},
   "outputs": [
    {
     "output_type": "execute_result",
     "data": {
      "text/plain": "            0         1         2         3         4    5         6  \\\nind                                                                    \n0    0.229508  0.149254  0.262295  0.169014  0.195122  0.1  0.148148   \n1    0.229508  0.149254  0.229508  0.169014  0.195122  0.1  0.148148   \n\n            7         8         9  ...      3547  3548      3549      3550  \\\nind                                ...                                       \n0    0.195122  0.212766  0.212766  ...  0.144928   0.2  0.130435  0.375000   \n1    0.195122  0.255319  0.255319  ...  0.144928   0.2  0.130435  0.291667   \n\n         3551      3552      3553  3554      3555      3556  \nind                                                          \n0    0.244898  0.156863  0.148148  0.12  0.333333  0.170732  \n1    0.244898  0.156863  0.148148  0.12  0.333333  0.170732  \n\n[2 rows x 3557 columns]",
      "text/html": "<div>\n<style scoped>\n    .dataframe tbody tr th:only-of-type {\n        vertical-align: middle;\n    }\n\n    .dataframe tbody tr th {\n        vertical-align: top;\n    }\n\n    .dataframe thead th {\n        text-align: right;\n    }\n</style>\n<table border=\"1\" class=\"dataframe\">\n  <thead>\n    <tr style=\"text-align: right;\">\n      <th></th>\n      <th>0</th>\n      <th>1</th>\n      <th>2</th>\n      <th>3</th>\n      <th>4</th>\n      <th>5</th>\n      <th>6</th>\n      <th>7</th>\n      <th>8</th>\n      <th>9</th>\n      <th>...</th>\n      <th>3547</th>\n      <th>3548</th>\n      <th>3549</th>\n      <th>3550</th>\n      <th>3551</th>\n      <th>3552</th>\n      <th>3553</th>\n      <th>3554</th>\n      <th>3555</th>\n      <th>3556</th>\n    </tr>\n    <tr>\n      <th>ind</th>\n      <th></th>\n      <th></th>\n      <th></th>\n      <th></th>\n      <th></th>\n      <th></th>\n      <th></th>\n      <th></th>\n      <th></th>\n      <th></th>\n      <th></th>\n      <th></th>\n      <th></th>\n      <th></th>\n      <th></th>\n      <th></th>\n      <th></th>\n      <th></th>\n      <th></th>\n      <th></th>\n      <th></th>\n    </tr>\n  </thead>\n  <tbody>\n    <tr>\n      <th>0</th>\n      <td>0.229508</td>\n      <td>0.149254</td>\n      <td>0.262295</td>\n      <td>0.169014</td>\n      <td>0.195122</td>\n      <td>0.1</td>\n      <td>0.148148</td>\n      <td>0.195122</td>\n      <td>0.212766</td>\n      <td>0.212766</td>\n      <td>...</td>\n      <td>0.144928</td>\n      <td>0.2</td>\n      <td>0.130435</td>\n      <td>0.375000</td>\n      <td>0.244898</td>\n      <td>0.156863</td>\n      <td>0.148148</td>\n      <td>0.12</td>\n      <td>0.333333</td>\n      <td>0.170732</td>\n    </tr>\n    <tr>\n      <th>1</th>\n      <td>0.229508</td>\n      <td>0.149254</td>\n      <td>0.229508</td>\n      <td>0.169014</td>\n      <td>0.195122</td>\n      <td>0.1</td>\n      <td>0.148148</td>\n      <td>0.195122</td>\n      <td>0.255319</td>\n      <td>0.255319</td>\n      <td>...</td>\n      <td>0.144928</td>\n      <td>0.2</td>\n      <td>0.130435</td>\n      <td>0.291667</td>\n      <td>0.244898</td>\n      <td>0.156863</td>\n      <td>0.148148</td>\n      <td>0.12</td>\n      <td>0.333333</td>\n      <td>0.170732</td>\n    </tr>\n  </tbody>\n</table>\n<p>2 rows × 3557 columns</p>\n</div>"
     },
     "metadata": {},
     "execution_count": 11
    }
   ],
   "source": [
    "matrix = pd.read_csv('data/mz_weights_2.csv', sep=';', index_col='ind')\n",
    "matrix.head(2)"
   ]
  },
  {
   "source": [
    "## Получение результатов"
   ],
   "cell_type": "markdown",
   "metadata": {}
  },
  {
   "source": [
    "### Получение фрейма где указаны веса превышающие установленную точность"
   ],
   "cell_type": "markdown",
   "metadata": {}
  },
  {
   "cell_type": "code",
   "execution_count": 12,
   "metadata": {},
   "outputs": [
    {
     "output_type": "execute_result",
     "data": {
      "text/plain": "       0   1   2   3   4   5   6   7   8   9  ...  3547  3548  3549  3550  \\\nind                                           ...                           \n0    NaN NaN NaN NaN NaN NaN NaN NaN NaN NaN  ...   NaN   NaN   NaN   NaN   \n1    NaN NaN NaN NaN NaN NaN NaN NaN NaN NaN  ...   NaN   NaN   NaN   NaN   \n2    NaN NaN NaN NaN NaN NaN NaN NaN NaN NaN  ...   NaN   NaN   NaN   NaN   \n3    NaN NaN NaN NaN NaN NaN NaN NaN NaN NaN  ...   NaN   NaN   NaN   NaN   \n4    NaN NaN NaN NaN NaN NaN NaN NaN NaN NaN  ...   NaN   NaN   NaN   NaN   \n...   ..  ..  ..  ..  ..  ..  ..  ..  ..  ..  ...   ...   ...   ...   ...   \n1979 NaN NaN NaN NaN NaN NaN NaN NaN NaN NaN  ...   NaN   NaN   NaN   NaN   \n1980 NaN NaN NaN NaN NaN NaN NaN NaN NaN NaN  ...   NaN   NaN   NaN   NaN   \n1981 NaN NaN NaN NaN NaN NaN NaN NaN NaN NaN  ...   NaN   NaN   NaN   NaN   \n1982 NaN NaN NaN NaN NaN NaN NaN NaN NaN NaN  ...   NaN   NaN   NaN   NaN   \n1983 NaN NaN NaN NaN NaN NaN NaN NaN NaN NaN  ...   NaN   NaN   NaN   NaN   \n\n      3551  3552  3553  3554  3555  3556  \nind                                       \n0      NaN   NaN   NaN   NaN   NaN   NaN  \n1      NaN   NaN   NaN   NaN   NaN   NaN  \n2      NaN   NaN   NaN   NaN   NaN   NaN  \n3      NaN   NaN   NaN   NaN   NaN   NaN  \n4      NaN   NaN   NaN   NaN   NaN   NaN  \n...    ...   ...   ...   ...   ...   ...  \n1979   NaN   NaN   NaN   NaN   NaN   NaN  \n1980   NaN   NaN   NaN   NaN   NaN   NaN  \n1981   NaN   NaN   NaN   NaN   NaN   NaN  \n1982   NaN   NaN   NaN   NaN   NaN   NaN  \n1983   NaN   NaN   NaN   NaN   NaN   NaN  \n\n[772 rows x 3557 columns]",
      "text/html": "<div>\n<style scoped>\n    .dataframe tbody tr th:only-of-type {\n        vertical-align: middle;\n    }\n\n    .dataframe tbody tr th {\n        vertical-align: top;\n    }\n\n    .dataframe thead th {\n        text-align: right;\n    }\n</style>\n<table border=\"1\" class=\"dataframe\">\n  <thead>\n    <tr style=\"text-align: right;\">\n      <th></th>\n      <th>0</th>\n      <th>1</th>\n      <th>2</th>\n      <th>3</th>\n      <th>4</th>\n      <th>5</th>\n      <th>6</th>\n      <th>7</th>\n      <th>8</th>\n      <th>9</th>\n      <th>...</th>\n      <th>3547</th>\n      <th>3548</th>\n      <th>3549</th>\n      <th>3550</th>\n      <th>3551</th>\n      <th>3552</th>\n      <th>3553</th>\n      <th>3554</th>\n      <th>3555</th>\n      <th>3556</th>\n    </tr>\n    <tr>\n      <th>ind</th>\n      <th></th>\n      <th></th>\n      <th></th>\n      <th></th>\n      <th></th>\n      <th></th>\n      <th></th>\n      <th></th>\n      <th></th>\n      <th></th>\n      <th></th>\n      <th></th>\n      <th></th>\n      <th></th>\n      <th></th>\n      <th></th>\n      <th></th>\n      <th></th>\n      <th></th>\n      <th></th>\n      <th></th>\n    </tr>\n  </thead>\n  <tbody>\n    <tr>\n      <th>0</th>\n      <td>NaN</td>\n      <td>NaN</td>\n      <td>NaN</td>\n      <td>NaN</td>\n      <td>NaN</td>\n      <td>NaN</td>\n      <td>NaN</td>\n      <td>NaN</td>\n      <td>NaN</td>\n      <td>NaN</td>\n      <td>...</td>\n      <td>NaN</td>\n      <td>NaN</td>\n      <td>NaN</td>\n      <td>NaN</td>\n      <td>NaN</td>\n      <td>NaN</td>\n      <td>NaN</td>\n      <td>NaN</td>\n      <td>NaN</td>\n      <td>NaN</td>\n    </tr>\n    <tr>\n      <th>1</th>\n      <td>NaN</td>\n      <td>NaN</td>\n      <td>NaN</td>\n      <td>NaN</td>\n      <td>NaN</td>\n      <td>NaN</td>\n      <td>NaN</td>\n      <td>NaN</td>\n      <td>NaN</td>\n      <td>NaN</td>\n      <td>...</td>\n      <td>NaN</td>\n      <td>NaN</td>\n      <td>NaN</td>\n      <td>NaN</td>\n      <td>NaN</td>\n      <td>NaN</td>\n      <td>NaN</td>\n      <td>NaN</td>\n      <td>NaN</td>\n      <td>NaN</td>\n    </tr>\n    <tr>\n      <th>2</th>\n      <td>NaN</td>\n      <td>NaN</td>\n      <td>NaN</td>\n      <td>NaN</td>\n      <td>NaN</td>\n      <td>NaN</td>\n      <td>NaN</td>\n      <td>NaN</td>\n      <td>NaN</td>\n      <td>NaN</td>\n      <td>...</td>\n      <td>NaN</td>\n      <td>NaN</td>\n      <td>NaN</td>\n      <td>NaN</td>\n      <td>NaN</td>\n      <td>NaN</td>\n      <td>NaN</td>\n      <td>NaN</td>\n      <td>NaN</td>\n      <td>NaN</td>\n    </tr>\n    <tr>\n      <th>3</th>\n      <td>NaN</td>\n      <td>NaN</td>\n      <td>NaN</td>\n      <td>NaN</td>\n      <td>NaN</td>\n      <td>NaN</td>\n      <td>NaN</td>\n      <td>NaN</td>\n      <td>NaN</td>\n      <td>NaN</td>\n      <td>...</td>\n      <td>NaN</td>\n      <td>NaN</td>\n      <td>NaN</td>\n      <td>NaN</td>\n      <td>NaN</td>\n      <td>NaN</td>\n      <td>NaN</td>\n      <td>NaN</td>\n      <td>NaN</td>\n      <td>NaN</td>\n    </tr>\n    <tr>\n      <th>4</th>\n      <td>NaN</td>\n      <td>NaN</td>\n      <td>NaN</td>\n      <td>NaN</td>\n      <td>NaN</td>\n      <td>NaN</td>\n      <td>NaN</td>\n      <td>NaN</td>\n      <td>NaN</td>\n      <td>NaN</td>\n      <td>...</td>\n      <td>NaN</td>\n      <td>NaN</td>\n      <td>NaN</td>\n      <td>NaN</td>\n      <td>NaN</td>\n      <td>NaN</td>\n      <td>NaN</td>\n      <td>NaN</td>\n      <td>NaN</td>\n      <td>NaN</td>\n    </tr>\n    <tr>\n      <th>...</th>\n      <td>...</td>\n      <td>...</td>\n      <td>...</td>\n      <td>...</td>\n      <td>...</td>\n      <td>...</td>\n      <td>...</td>\n      <td>...</td>\n      <td>...</td>\n      <td>...</td>\n      <td>...</td>\n      <td>...</td>\n      <td>...</td>\n      <td>...</td>\n      <td>...</td>\n      <td>...</td>\n      <td>...</td>\n      <td>...</td>\n      <td>...</td>\n      <td>...</td>\n      <td>...</td>\n    </tr>\n    <tr>\n      <th>1979</th>\n      <td>NaN</td>\n      <td>NaN</td>\n      <td>NaN</td>\n      <td>NaN</td>\n      <td>NaN</td>\n      <td>NaN</td>\n      <td>NaN</td>\n      <td>NaN</td>\n      <td>NaN</td>\n      <td>NaN</td>\n      <td>...</td>\n      <td>NaN</td>\n      <td>NaN</td>\n      <td>NaN</td>\n      <td>NaN</td>\n      <td>NaN</td>\n      <td>NaN</td>\n      <td>NaN</td>\n      <td>NaN</td>\n      <td>NaN</td>\n      <td>NaN</td>\n    </tr>\n    <tr>\n      <th>1980</th>\n      <td>NaN</td>\n      <td>NaN</td>\n      <td>NaN</td>\n      <td>NaN</td>\n      <td>NaN</td>\n      <td>NaN</td>\n      <td>NaN</td>\n      <td>NaN</td>\n      <td>NaN</td>\n      <td>NaN</td>\n      <td>...</td>\n      <td>NaN</td>\n      <td>NaN</td>\n      <td>NaN</td>\n      <td>NaN</td>\n      <td>NaN</td>\n      <td>NaN</td>\n      <td>NaN</td>\n      <td>NaN</td>\n      <td>NaN</td>\n      <td>NaN</td>\n    </tr>\n    <tr>\n      <th>1981</th>\n      <td>NaN</td>\n      <td>NaN</td>\n      <td>NaN</td>\n      <td>NaN</td>\n      <td>NaN</td>\n      <td>NaN</td>\n      <td>NaN</td>\n      <td>NaN</td>\n      <td>NaN</td>\n      <td>NaN</td>\n      <td>...</td>\n      <td>NaN</td>\n      <td>NaN</td>\n      <td>NaN</td>\n      <td>NaN</td>\n      <td>NaN</td>\n      <td>NaN</td>\n      <td>NaN</td>\n      <td>NaN</td>\n      <td>NaN</td>\n      <td>NaN</td>\n    </tr>\n    <tr>\n      <th>1982</th>\n      <td>NaN</td>\n      <td>NaN</td>\n      <td>NaN</td>\n      <td>NaN</td>\n      <td>NaN</td>\n      <td>NaN</td>\n      <td>NaN</td>\n      <td>NaN</td>\n      <td>NaN</td>\n      <td>NaN</td>\n      <td>...</td>\n      <td>NaN</td>\n      <td>NaN</td>\n      <td>NaN</td>\n      <td>NaN</td>\n      <td>NaN</td>\n      <td>NaN</td>\n      <td>NaN</td>\n      <td>NaN</td>\n      <td>NaN</td>\n      <td>NaN</td>\n    </tr>\n    <tr>\n      <th>1983</th>\n      <td>NaN</td>\n      <td>NaN</td>\n      <td>NaN</td>\n      <td>NaN</td>\n      <td>NaN</td>\n      <td>NaN</td>\n      <td>NaN</td>\n      <td>NaN</td>\n      <td>NaN</td>\n      <td>NaN</td>\n      <td>...</td>\n      <td>NaN</td>\n      <td>NaN</td>\n      <td>NaN</td>\n      <td>NaN</td>\n      <td>NaN</td>\n      <td>NaN</td>\n      <td>NaN</td>\n      <td>NaN</td>\n      <td>NaN</td>\n      <td>NaN</td>\n    </tr>\n  </tbody>\n</table>\n<p>772 rows × 3557 columns</p>\n</div>"
     },
     "metadata": {},
     "execution_count": 12
    }
   ],
   "source": [
    "matrix_weight = matrix[matrix[:] > precision]\n",
    "matrix_weight = matrix_weight.dropna(how='all')\n",
    "matrix_weight"
   ]
  },
  {
   "source": [
    "## Получение фрейма где указаны номера колонок превышающие установленную точность"
   ],
   "cell_type": "markdown",
   "metadata": {}
  },
  {
   "cell_type": "code",
   "execution_count": 234,
   "metadata": {},
   "outputs": [
    {
     "output_type": "execute_result",
     "data": {
      "text/plain": "     7    59   62   63   64   65   66   67   68   69    ... 3511 3512 3513  \\\n0     NaN  NaN  NaN  NaN  NaN  NaN  NaN  NaN  NaN  NaN  ...  NaN  NaN  NaN   \n1     NaN  NaN  NaN  NaN  NaN  NaN  NaN  NaN  NaN  NaN  ...  NaN  NaN  NaN   \n2     NaN  NaN  NaN  NaN  NaN  NaN  NaN  NaN  NaN  NaN  ...  NaN  NaN  NaN   \n3     NaN  NaN  NaN  NaN  NaN  NaN  NaN  NaN  NaN  NaN  ...  NaN  NaN  NaN   \n4     NaN  NaN  NaN  NaN  NaN  NaN  NaN  NaN  NaN  NaN  ...  NaN  NaN  NaN   \n...   ...  ...  ...  ...  ...  ...  ...  ...  ...  ...  ...  ...  ...  ...   \n1979  NaN  NaN  NaN  NaN  NaN  NaN  NaN  NaN  NaN  NaN  ...  NaN  NaN  NaN   \n1980  NaN  NaN  NaN  NaN  NaN  NaN  NaN  NaN  NaN  NaN  ...  NaN  NaN  NaN   \n1981  NaN  NaN  NaN  NaN  NaN  NaN  NaN  NaN  NaN  NaN  ...  NaN  NaN  NaN   \n1982  NaN  NaN  NaN  NaN  NaN  NaN  NaN  NaN  NaN  NaN  ...  NaN  NaN  NaN   \n1983  NaN  NaN  NaN  NaN  NaN  NaN  NaN  NaN  NaN  NaN  ...  NaN  NaN  NaN   \n\n     3514 3515 3518 3524 3525 3528 3545  \n0     NaN  NaN  NaN  NaN  NaN  NaN  NaN  \n1     NaN  NaN  NaN  NaN  NaN  NaN  NaN  \n2     NaN  NaN  NaN  NaN  NaN  NaN  NaN  \n3     NaN  NaN  NaN  NaN  NaN  NaN  NaN  \n4     NaN  NaN  NaN  NaN  NaN  NaN  NaN  \n...   ...  ...  ...  ...  ...  ...  ...  \n1979  NaN  NaN  NaN  NaN  NaN  NaN  NaN  \n1980  NaN  NaN  NaN  NaN  NaN  NaN  NaN  \n1981  NaN  NaN  NaN  NaN  NaN  NaN  NaN  \n1982  NaN  NaN  NaN  NaN  NaN  NaN  NaN  \n1983  NaN  NaN  NaN  NaN  NaN  NaN  NaN  \n\n[772 rows x 663 columns]",
      "text/html": "<div>\n<style scoped>\n    .dataframe tbody tr th:only-of-type {\n        vertical-align: middle;\n    }\n\n    .dataframe tbody tr th {\n        vertical-align: top;\n    }\n\n    .dataframe thead th {\n        text-align: right;\n    }\n</style>\n<table border=\"1\" class=\"dataframe\">\n  <thead>\n    <tr style=\"text-align: right;\">\n      <th></th>\n      <th>7</th>\n      <th>59</th>\n      <th>62</th>\n      <th>63</th>\n      <th>64</th>\n      <th>65</th>\n      <th>66</th>\n      <th>67</th>\n      <th>68</th>\n      <th>69</th>\n      <th>...</th>\n      <th>3511</th>\n      <th>3512</th>\n      <th>3513</th>\n      <th>3514</th>\n      <th>3515</th>\n      <th>3518</th>\n      <th>3524</th>\n      <th>3525</th>\n      <th>3528</th>\n      <th>3545</th>\n    </tr>\n  </thead>\n  <tbody>\n    <tr>\n      <th>0</th>\n      <td>NaN</td>\n      <td>NaN</td>\n      <td>NaN</td>\n      <td>NaN</td>\n      <td>NaN</td>\n      <td>NaN</td>\n      <td>NaN</td>\n      <td>NaN</td>\n      <td>NaN</td>\n      <td>NaN</td>\n      <td>...</td>\n      <td>NaN</td>\n      <td>NaN</td>\n      <td>NaN</td>\n      <td>NaN</td>\n      <td>NaN</td>\n      <td>NaN</td>\n      <td>NaN</td>\n      <td>NaN</td>\n      <td>NaN</td>\n      <td>NaN</td>\n    </tr>\n    <tr>\n      <th>1</th>\n      <td>NaN</td>\n      <td>NaN</td>\n      <td>NaN</td>\n      <td>NaN</td>\n      <td>NaN</td>\n      <td>NaN</td>\n      <td>NaN</td>\n      <td>NaN</td>\n      <td>NaN</td>\n      <td>NaN</td>\n      <td>...</td>\n      <td>NaN</td>\n      <td>NaN</td>\n      <td>NaN</td>\n      <td>NaN</td>\n      <td>NaN</td>\n      <td>NaN</td>\n      <td>NaN</td>\n      <td>NaN</td>\n      <td>NaN</td>\n      <td>NaN</td>\n    </tr>\n    <tr>\n      <th>2</th>\n      <td>NaN</td>\n      <td>NaN</td>\n      <td>NaN</td>\n      <td>NaN</td>\n      <td>NaN</td>\n      <td>NaN</td>\n      <td>NaN</td>\n      <td>NaN</td>\n      <td>NaN</td>\n      <td>NaN</td>\n      <td>...</td>\n      <td>NaN</td>\n      <td>NaN</td>\n      <td>NaN</td>\n      <td>NaN</td>\n      <td>NaN</td>\n      <td>NaN</td>\n      <td>NaN</td>\n      <td>NaN</td>\n      <td>NaN</td>\n      <td>NaN</td>\n    </tr>\n    <tr>\n      <th>3</th>\n      <td>NaN</td>\n      <td>NaN</td>\n      <td>NaN</td>\n      <td>NaN</td>\n      <td>NaN</td>\n      <td>NaN</td>\n      <td>NaN</td>\n      <td>NaN</td>\n      <td>NaN</td>\n      <td>NaN</td>\n      <td>...</td>\n      <td>NaN</td>\n      <td>NaN</td>\n      <td>NaN</td>\n      <td>NaN</td>\n      <td>NaN</td>\n      <td>NaN</td>\n      <td>NaN</td>\n      <td>NaN</td>\n      <td>NaN</td>\n      <td>NaN</td>\n    </tr>\n    <tr>\n      <th>4</th>\n      <td>NaN</td>\n      <td>NaN</td>\n      <td>NaN</td>\n      <td>NaN</td>\n      <td>NaN</td>\n      <td>NaN</td>\n      <td>NaN</td>\n      <td>NaN</td>\n      <td>NaN</td>\n      <td>NaN</td>\n      <td>...</td>\n      <td>NaN</td>\n      <td>NaN</td>\n      <td>NaN</td>\n      <td>NaN</td>\n      <td>NaN</td>\n      <td>NaN</td>\n      <td>NaN</td>\n      <td>NaN</td>\n      <td>NaN</td>\n      <td>NaN</td>\n    </tr>\n    <tr>\n      <th>...</th>\n      <td>...</td>\n      <td>...</td>\n      <td>...</td>\n      <td>...</td>\n      <td>...</td>\n      <td>...</td>\n      <td>...</td>\n      <td>...</td>\n      <td>...</td>\n      <td>...</td>\n      <td>...</td>\n      <td>...</td>\n      <td>...</td>\n      <td>...</td>\n      <td>...</td>\n      <td>...</td>\n      <td>...</td>\n      <td>...</td>\n      <td>...</td>\n      <td>...</td>\n      <td>...</td>\n    </tr>\n    <tr>\n      <th>1979</th>\n      <td>NaN</td>\n      <td>NaN</td>\n      <td>NaN</td>\n      <td>NaN</td>\n      <td>NaN</td>\n      <td>NaN</td>\n      <td>NaN</td>\n      <td>NaN</td>\n      <td>NaN</td>\n      <td>NaN</td>\n      <td>...</td>\n      <td>NaN</td>\n      <td>NaN</td>\n      <td>NaN</td>\n      <td>NaN</td>\n      <td>NaN</td>\n      <td>NaN</td>\n      <td>NaN</td>\n      <td>NaN</td>\n      <td>NaN</td>\n      <td>NaN</td>\n    </tr>\n    <tr>\n      <th>1980</th>\n      <td>NaN</td>\n      <td>NaN</td>\n      <td>NaN</td>\n      <td>NaN</td>\n      <td>NaN</td>\n      <td>NaN</td>\n      <td>NaN</td>\n      <td>NaN</td>\n      <td>NaN</td>\n      <td>NaN</td>\n      <td>...</td>\n      <td>NaN</td>\n      <td>NaN</td>\n      <td>NaN</td>\n      <td>NaN</td>\n      <td>NaN</td>\n      <td>NaN</td>\n      <td>NaN</td>\n      <td>NaN</td>\n      <td>NaN</td>\n      <td>NaN</td>\n    </tr>\n    <tr>\n      <th>1981</th>\n      <td>NaN</td>\n      <td>NaN</td>\n      <td>NaN</td>\n      <td>NaN</td>\n      <td>NaN</td>\n      <td>NaN</td>\n      <td>NaN</td>\n      <td>NaN</td>\n      <td>NaN</td>\n      <td>NaN</td>\n      <td>...</td>\n      <td>NaN</td>\n      <td>NaN</td>\n      <td>NaN</td>\n      <td>NaN</td>\n      <td>NaN</td>\n      <td>NaN</td>\n      <td>NaN</td>\n      <td>NaN</td>\n      <td>NaN</td>\n      <td>NaN</td>\n    </tr>\n    <tr>\n      <th>1982</th>\n      <td>NaN</td>\n      <td>NaN</td>\n      <td>NaN</td>\n      <td>NaN</td>\n      <td>NaN</td>\n      <td>NaN</td>\n      <td>NaN</td>\n      <td>NaN</td>\n      <td>NaN</td>\n      <td>NaN</td>\n      <td>...</td>\n      <td>NaN</td>\n      <td>NaN</td>\n      <td>NaN</td>\n      <td>NaN</td>\n      <td>NaN</td>\n      <td>NaN</td>\n      <td>NaN</td>\n      <td>NaN</td>\n      <td>NaN</td>\n      <td>NaN</td>\n    </tr>\n    <tr>\n      <th>1983</th>\n      <td>NaN</td>\n      <td>NaN</td>\n      <td>NaN</td>\n      <td>NaN</td>\n      <td>NaN</td>\n      <td>NaN</td>\n      <td>NaN</td>\n      <td>NaN</td>\n      <td>NaN</td>\n      <td>NaN</td>\n      <td>...</td>\n      <td>NaN</td>\n      <td>NaN</td>\n      <td>NaN</td>\n      <td>NaN</td>\n      <td>NaN</td>\n      <td>NaN</td>\n      <td>NaN</td>\n      <td>NaN</td>\n      <td>NaN</td>\n      <td>NaN</td>\n    </tr>\n  </tbody>\n</table>\n<p>772 rows × 663 columns</p>\n</div>"
     },
     "metadata": {},
     "execution_count": 234
    }
   ],
   "source": [
    "matrix_col = pd.DataFrame(np.where(matrix > precision, matrix.columns, np.nan))\n",
    "matrix_col = matrix_col.dropna(how='all')\n",
    "matrix_col = matrix_col.dropna(axis=1, how='all')\n",
    "matrix_col"
   ]
  },
  {
   "cell_type": "code",
   "execution_count": 244,
   "metadata": {},
   "outputs": [
    {
     "output_type": "execute_result",
     "data": {
      "text/plain": "30"
     },
     "metadata": {},
     "execution_count": 244
    }
   ],
   "source": [
    "matrix_col.T.count().max()"
   ]
  },
  {
   "cell_type": "code",
   "execution_count": 246,
   "metadata": {},
   "outputs": [],
   "source": [
    "ind_list = ['ОС', '']\n",
    "ind_list.extend(range(30))\n",
    "new_df = pd.DataFrame(index=ind_list)"
   ]
  },
  {
   "cell_type": "code",
   "execution_count": 247,
   "metadata": {},
   "outputs": [],
   "source": [
    "def write_excel(row_to_excel, num):\n",
    "    #print(f'{num} start excel writer')\n",
    "    col_list = ['ОС', '']\n",
    "    col_list.extend(range(len(row_to_excel)-2))    \n",
    "    mur = pd.DataFrame(row_to_excel, index=col_list, columns=[num])\n",
    "    #with ExcelWriter(export_file, mode='a') as writer:\n",
    "        #mur.to_excel(writer, sheet_name=f'лист {num}')\n",
    "    return mur"
   ]
  },
  {
   "cell_type": "code",
   "execution_count": 248,
   "metadata": {},
   "outputs": [],
   "source": [
    "def extract_col(x, n_df):\n",
    "    global new_df    \n",
    "    row_to_excel = [funds.loc[x.name, funds_name_col], '']\n",
    "    stocs_list =  stocks.loc[x.dropna().astype('int32').to_list(), stocks_name_col]\n",
    "    row_to_excel.extend(stocs_list)    \n",
    "    new_row = write_excel(row_to_excel, x.name)\n",
    "    new_df[x.name] = new_row\n",
    "    return new_row"
   ]
  },
  {
   "cell_type": "code",
   "execution_count": 249,
   "metadata": {
    "tags": []
   },
   "outputs": [
    {
     "output_type": "stream",
     "name": "stdout",
     "text": "1.2870733737945557\n"
    }
   ],
   "source": [
    "import time\n",
    "\n",
    "\n",
    "with ExcelWriter(export_file, mode='w') as writer:\n",
    "        new_df.to_excel(writer, sheet_name='лист')\n",
    "\n",
    "start = time.time()\n",
    "\n",
    "matrix_col.apply(extract_col, axis=1, args=(new_df,))\n",
    "\n",
    "end = time.time()\n",
    "period = end - start\n",
    "print(period)"
   ]
  },
  {
   "cell_type": "code",
   "execution_count": 231,
   "metadata": {},
   "outputs": [],
   "source": [
    "#new_df.to_excel('data/fg.xlsx')"
   ]
  },
  {
   "cell_type": "code",
   "execution_count": 250,
   "metadata": {},
   "outputs": [
    {
     "output_type": "execute_result",
     "data": {
      "text/plain": "N                     NaN                     NaN   \n15                     NaN                     NaN                     NaN   \n16                     NaN                     NaN                     NaN   \n17                     NaN                     NaN                     NaN   \n18                     NaN                     NaN                     NaN   \n19                     NaN                     NaN                     NaN   \n20                     NaN                     NaN                     NaN   \n21                     NaN                     NaN                     NaN   \n22                     NaN                     NaN                     NaN   \n23                     NaN                     NaN                     NaN   \n24                     NaN                     NaN                     NaN   \n25                     NaN                     NaN                     NaN   \n26                     NaN                     NaN                     NaN   \n27                     NaN                     NaN                     NaN   \n28                     NaN                     NaN                     NaN   \n29                     NaN                     NaN                     NaN   \n\n                      3                       4                       5     \\\nОС  Квартира двухкомнатная  Квартира однокомнатная  Квартира трехкомнатная   \n                                                                             \n0             Кирка матыга            Кирка матыга            Кирка матыга   \n1    Корзина д\\бумаг Феста       Лопатка монтажная     Куртка демисезонная   \n2      Куртка демисезонная                     NaN     Куртка демисезонная   \n3      Куртка демисезонная                     NaN                     NaN   \n4        Лопатка монтажная                     NaN                     NaN   \n5            Матрац ватный                     NaN                     NaN   \n6                      NaN                     NaN                     NaN   \n7                      NaN                     NaN                     NaN   \n8                      NaN                     NaN                     NaN   \n9                      NaN                     NaN                     NaN   \n10                     NaN                     NaN                     NaN   \n11                     NaN                     NaN                     NaN   \n12                     NaN                     NaN                     NaN   \n13                     NaN                     NaN                     NaN   \n14                     NaN                     NaN                     NaN   \n15                     NaN                     NaN                     NaN   \n16                     NaN                     NaN                     NaN   \n17                     NaN                     NaN                     NaN   \n18                     NaN                     NaN                     NaN   \n19                     NaN                     NaN                     NaN   \n20                     NaN                     NaN                     NaN   \n21                     NaN                     NaN                     NaN   \n22                     NaN                     NaN                     NaN   \n23                     NaN                     NaN                     NaN   \n24                     NaN                     NaN                     NaN   \n25                     NaN                     NaN                     NaN   \n26                     NaN                     NaN                     NaN   \n27                     NaN                     NaN                     NaN   \n28                     NaN                     NaN                     NaN   \n29                     NaN                     NaN                     NaN   \n\n                      6                       7                       8     \\\nОС  Квартира двухкомнатная  Квартира трехкомнатная  Квартира трехкомнатная   \n                                                                             \n0             Кирка матыга            Кирка матыга            Кирка матыга   \n1    Корзина д\\бумаг Феста     Куртка демисезонная     Куртка демисезонная   \n2      Куртка демисезонная     Куртка демисезонная     Куртка демисезонная   \n3      Куртка демисезонная                     NaN                     NaN   \n4        Лопатка монтажная                     NaN                     NaN   \n5            Матрац ватный                     NaN                     NaN   \n6                      NaN                     NaN                     NaN   \n7                      NaN                     NaN                     NaN   \n8                      NaN                     NaN                     NaN   \n9                      NaN                     NaN                     NaN   \n10                     NaN                     NaN                     NaN   \n11                     NaN                     NaN                     NaN   \n12                     NaN                     NaN                     NaN   \n13                     NaN                     NaN                     NaN   \n14                     NaN                     NaN                     NaN   \n15                     NaN                     NaN                     NaN   \n16                     NaN                     NaN                     NaN   \n17                     NaN                     NaN                     NaN   \n18                     NaN                     NaN                     NaN   \n19                     NaN                     NaN                     NaN   \n20                     NaN                     NaN                     NaN   \n21                     NaN                     NaN                     NaN   \n22                     NaN                     NaN                     NaN   \n23                     NaN                     NaN                     NaN   \n24                     NaN                     NaN                     NaN   \n25                     NaN                     NaN                     NaN   \n26                     NaN                     NaN                     NaN   \n27                     NaN                     NaN                     NaN   \n28                     NaN                     NaN                     NaN   \n29                     NaN                     NaN                     NaN   \n\n                      9     ...             1972                      1973  \\\nОС  Квартира двухкомнатная  ...  Скамья складная    Стойка унифицированная   \n                            ...                                              \n0             Кирка матыга  ...  Стакан для сока     Воронка эмалированная   \n1    Корзина д\\бумаг Феста  ...   Сумка сержанта      Кружка эмалированная   \n2      Куртка демисезонная  ...   Щетка стальная  Футболка камуфлированная   \n3      Куртка демисезонная  ...              NaN     Футболка повседневная   \n4        Лопатка монтажная  ...              NaN     Шайба М6 оцинкованная   \n5            Матрац ватный  ...              NaN        Щетка полировочная   \n6                      NaN  ...              NaN                       NaN   \n7                      NaN  ...              NaN                       NaN   \n8                      NaN  ...              NaN                       NaN   \n9                      NaN  ...              NaN                       NaN   \n10                     NaN  ...              NaN                       NaN   \n11                     NaN  ...              NaN                       NaN   \n12                     NaN  ...              NaN                       NaN   \n13                     NaN  ...              NaN                       NaN   \n14                     NaN  ...              NaN                       NaN   \n15                     NaN  ...              NaN                       NaN   \n16                     NaN  ...              NaN                       NaN   \n17                     NaN  ...              NaN                       NaN   \n18                     NaN  ...              NaN                       NaN   \n19                     NaN  ...              NaN                       NaN   \n20                     NaN  ...              NaN                       NaN   \n21                     NaN  ...              NaN                       NaN   \n22                     NaN  ...              NaN                       NaN   \n23                     NaN  ...              NaN                       NaN   \n24                     NaN  ...              NaN                       NaN   \n25                     NaN  ...              NaN                       NaN   \n26                     NaN  ...              NaN                       NaN   \n27                     NaN  ...              NaN                       NaN   \n28                     NaN  ...              NaN                       NaN   \n29                     NaN  ...              NaN                       NaN   \n\n                               1974                      1977  \\\nОС          Столик инструментальный      Палатка лагерная о/с   \n                                                                \n0               Инструмент сапожный    Вилка нагрузочная ВН-1   \n1       Набор инструмента  AUTO-131            Кислота серная   \n2         Набор инструмента AUTO-90       Ложка чайная из н/с   \n3           Набор инструмента М-224           Лопата пожарная   \n4   Набор инструмента универсальный           Лопата сапёрная   \n5             Светильник настольный           Лопата сапёрная   \n6       Тройник  соединительный  25   Лопата саперная ББСЛ110   \n7       Тройник  соединительный  32  Папка для благодарностей   \n8       Тройник  соединительный  40        Тарелка мелкая п/ф   \n9                               NaN                       NaN   \n10                              NaN                       NaN   \n11                              NaN                       NaN   \n12                              NaN                       NaN   \n13                              NaN                       NaN   \n14                              NaN                       NaN   \n15                              NaN                       NaN   \n16                              NaN                       NaN   \n17                              NaN                       NaN   \n18                              NaN                       NaN   \n19                              NaN                       NaN   \n20                              NaN                       NaN   \n21                              NaN                       NaN   \n22                              NaN                       NaN   \n23                              NaN                       NaN   \n24                              NaN                       NaN   \n25                              NaN                       NaN   \n26                              NaN                       NaN   \n27                              NaN                       NaN   \n28                              NaN                       NaN   \n29                              NaN                       NaN   \n\n                           1978                         1979  \\\nОС  Палатка лагерная офицерская  Палатка лагерная офицерская   \n                                                               \n0              Гладильная доска             Гладильная доска   \n1              Каска шахтерская             Каска шахтерская   \n2      Шапка утепленная полевая     Шапка утепленная полевая   \n3                           NaN                          NaN   \n4                           NaN                          NaN   \n5                           NaN                          NaN   \n6                           NaN                          NaN   \n7                           NaN                          NaN   \n8                           NaN                          NaN   \n9                           NaN                          NaN   \n10                          NaN                          NaN   \n11                          NaN                          NaN   \n12                          NaN                          NaN   \n13                          NaN                          NaN   \n14                          NaN                          NaN   \n15                          NaN                          NaN   \n16                          NaN                          NaN   \n17                          NaN                          NaN   \n18                          NaN                          NaN   \n19                          NaN                          NaN   \n20                          NaN                          NaN   \n21                          NaN                          NaN   \n22                          NaN                          NaN   \n23                          NaN                          NaN   \n24                          NaN                          NaN   \n25                          NaN                          NaN   \n26                          NaN                          NaN   \n27                          NaN                          NaN   \n28                          NaN                          NaN   \n29                          NaN                          NaN   \n\n                           1980  \\\nОС  Палатка лагерная офицерская   \n                                  \n0              Гладильная доска   \n1              Каска шахтерская   \n2      Шапка утепленная полевая   \n3                           NaN   \n4                           NaN   \n5                           NaN   \n6                           NaN   \n7                           NaN   \n8                           NaN   \n9                           NaN   \n10                          NaN   \n11                          NaN   \n12                          NaN   \n13                          NaN   \n14                          NaN   \n15                          NaN   \n16                          NaN   \n17                          NaN   \n18                          NaN   \n19                          NaN   \n20                          NaN   \n21                          NaN   \n22                          NaN   \n23                          NaN   \n24                          NaN   \n25                          NaN   \n26                          NaN   \n27                          NaN   \n28                          NaN   \n29                          NaN   \n\n                                                 1981  \\\nОС                  Стеллаж металлический 3-х ярусный   \n                                                        \n0   Катетер уретральный металлический женский изог...   \n1                        Линейка металлическая 500 мм   \n2                                                 NaN   \n3                                                 NaN   \n4                                                 NaN   \n5                                                 NaN   \n6                                                 NaN   \n7                                                 NaN   \n8                                                 NaN   \n9                                                 NaN   \n10                                                NaN   \n11                                                NaN   \n12                                                NaN   \n13                                                NaN   \n14                                                NaN   \n15                                                NaN   \n16                                                NaN   \n17                                                NaN   \n18                                                NaN   \n19                                                NaN   \n20                                                NaN   \n21                                                NaN   \n22                                                NaN   \n23                                                NaN   \n24                                                NaN   \n25                                                NaN   \n26                                                NaN   \n27                                                NaN   \n28                                                NaN   \n29                                                NaN   \n\n                                                 1982  \\\nОС                  Стеллаж металлический 3-х ярусный   \n                                                        \n0   Катетер уретральный металлический женский изог...   \n1                        Линейка металлическая 500 мм   \n2                                                 NaN   \n3                                                 NaN   \n4                                                 NaN   \n5                                                 NaN   \n6                                                 NaN   \n7                                                 NaN   \n8                                                 NaN   \n9                                                 NaN   \n10                                                NaN   \n11                                                NaN   \n12                                                NaN   \n13                                                NaN   \n14                                                NaN   \n15                                                NaN   \n16                                                NaN   \n17                                                NaN   \n18                                                NaN   \n19                                                NaN   \n20                                                NaN   \n21                                                NaN   \n22                                                NaN   \n23                                                NaN   \n24                                                NaN   \n25                                                NaN   \n26                                                NaN   \n27                                                NaN   \n28                                                NaN   \n29                                                NaN   \n\n                                                 1983  \nОС                  Стеллаж металлический 3-х ярусный  \n                                                       \n0   Катетер уретральный металлический женский изог...  \n1                        Линейка металлическая 500 мм  \n2                                                 NaN  \n3                                                 NaN  \n4                                                 NaN  \n5                                                 NaN  \n6                                                 NaN  \n7                                                 NaN  \n8                                                 NaN  \n9                                                 NaN  \n10                                                NaN  \n11                                                NaN  \n12                                                NaN  \n13                                                NaN  \n14                                                NaN  \n15                                                NaN  \n16                                                NaN  \n17                                                NaN  \n18                                                NaN  \n19                                                NaN  \n20                                                NaN  \n21                                                NaN  \n22                                                NaN  \n23                                                NaN  \n24                                                NaN  \n25                                                NaN  \n26                                                NaN  \n27                                                NaN  \n28                                                NaN  \n29                                                NaN  \n\n[32 rows x 772 columns]",
      "text/html": "<div>\n<style scoped>\n    .dataframe tbody tr th:only-of-type {\n        vertical-align: middle;\n    }\n\n    .dataframe tbody tr th {\n        vertical-align: top;\n    }\n\n    .dataframe thead th {\n        text-align: right;\n    }\n</style>\n<table border=\"1\" class=\"dataframe\">\n  <thead>\n    <tr style=\"text-align: right;\">\n      <th></th>\n      <th>0</th>\n      <th>1</th>\n      <th>2</th>\n      <th>3</th>\n      <th>4</th>\n      <th>5</th>\n      <th>6</th>\n      <th>7</th>\n      <th>8</th>\n      <th>9</th>\n      <th>...</th>\n      <th>1972</th>\n      <th>1973</th>\n      <th>1974</th>\n      <th>1977</th>\n      <th>1978</th>\n      <th>1979</th>\n      <th>1980</th>\n      <th>1981</th>\n      <th>1982</th>\n      <th>1983</th>\n    </tr>\n  </thead>\n  <tbody>\n    <tr>\n      <th>ОС</th>\n      <td>Квартира трехкомнатная</td>\n      <td>Квартира двухкомнатная</td>\n      <td>Квартира трехкомнатная</td>\n      <td>Квартира двухкомнатная</td>\n      <td>Квартира однокомнатная</td>\n      <td>Квартира трехкомнатная</td>\n      <td>Квартира двухкомнатная</td>\n      <td>Квартира трехкомнатная</td>\n      <td>Квартира трехкомнатная</td>\n      <td>Квартира двухкомнатная</td>\n      <td>...</td>\n      <td>Скамья складная</td>\n      <td>Стойка унифицированная</td>\n      <td>Столик инструментальный</td>\n      <td>Палатка лагерная о/с</td>\n      <td>Палатка лагерная офицерская</td>\n      <td>Палатка лагерная офицерская</td>\n      <td>Палатка лагерная офицерская</td>\n      <td>Стеллаж металлический 3-х ярусный</td>\n      <td>Стеллаж металлический 3-х ярусный</td>\n      <td>Стеллаж металлический 3-х ярусный</td>\n    </tr>\n    <tr>\n      <th></th>\n      <td></td>\n      <td></td>\n      <td></td>\n      <td></td>\n      <td></td>\n      <td></td>\n      <td></td>\n      <td></td>\n      <td></td>\n      <td></td>\n      <td>...</td>\n      <td></td>\n      <td></td>\n      <td></td>\n      <td></td>\n      <td></td>\n      <td></td>\n      <td></td>\n      <td></td>\n      <td></td>\n      <td></td>\n    </tr>\n    <tr>\n      <th>0</th>\n      <td>Кирка матыга</td>\n      <td>Кирка матыга</td>\n      <td>Кирка матыга</td>\n      <td>Кирка матыга</td>\n      <td>Кирка матыга</td>\n      <td>Кирка матыга</td>\n      <td>Кирка матыга</td>\n      <td>Кирка матыга</td>\n      <td>Кирка матыга</td>\n      <td>Кирка матыга</td>\n      <td>...</td>\n      <td>Стакан для сока</td>\n      <td>Воронка эмалированная</td>\n      <td>Инструмент сапожный</td>\n      <td>Вилка нагрузочная ВН-1</td>\n      <td>Гладильная доска</td>\n      <td>Гладильная доска</td>\n      <td>Гладильная доска</td>\n      <td>Катетер уретральный металлический женский изог...</td>\n      <td>Катетер уретральный металлический женский изог...</td>\n      <td>Катетер уретральный металлический женский изог...</td>\n    </tr>\n    <tr>\n      <th>1</th>\n      <td>Куртка демисезонная</td>\n      <td>Корзина д\\бумаг Феста</td>\n      <td>Куртка демисезонная</td>\n      <td>Корзина д\\бумаг Феста</td>\n      <td>Лопатка монтажная</td>\n      <td>Куртка демисезонная</td>\n      <td>Корзина д\\бумаг Феста</td>\n      <td>Куртка демисезонная</td>\n      <td>Куртка демисезонная</td>\n      <td>Корзина д\\бумаг Феста</td>\n      <td>...</td>\n      <td>Сумка сержанта</td>\n      <td>Кружка эмалированная</td>\n      <td>Набор инструмента  AUTO-131</td>\n      <td>Кислота серная</td>\n      <td>Каска шахтерская</td>\n      <td>Каска шахтерская</td>\n      <td>Каска шахтерская</td>\n      <td>Линейка металлическая 500 мм</td>\n      <td>Линейка металлическая 500 мм</td>\n      <td>Линейка металлическая 500 мм</td>\n    </tr>\n    <tr>\n      <th>2</th>\n      <td>Куртка демисезонная</td>\n      <td>Куртка демисезонная</td>\n      <td>Куртка демисезонная</td>\n      <td>Куртка демисезонная</td>\n      <td>NaN</td>\n      <td>Куртка демисезонная</td>\n      <td>Куртка демисезонная</td>\n      <td>Куртка демисезонная</td>\n      <td>Куртка демисезонная</td>\n      <td>Куртка демисезонная</td>\n      <td>...</td>\n      <td>Щетка стальная</td>\n      <td>Футболка камуфлированная</td>\n      <td>Набор инструмента AUTO-90</td>\n      <td>Ложка чайная из н/с</td>\n      <td>Шапка утепленная полевая</td>\n      <td>Шапка утепленная полевая</td>\n      <td>Шапка утепленная полевая</td>\n      <td>NaN</td>\n      <td>NaN</td>\n      <td>NaN</td>\n    </tr>\n    <tr>\n      <th>3</th>\n      <td>NaN</td>\n      <td>Куртка демисезонная</td>\n      <td>NaN</td>\n      <td>Куртка демисезонная</td>\n      <td>NaN</td>\n      <td>NaN</td>\n      <td>Куртка демисезонная</td>\n      <td>NaN</td>\n      <td>NaN</td>\n      <td>Куртка демисезонная</td>\n      <td>...</td>\n      <td>NaN</td>\n      <td>Футболка повседневная</td>\n      <td>Набор инструмента М-224</td>\n      <td>Лопата пожарная</td>\n      <td>NaN</td>\n      <td>NaN</td>\n      <td>NaN</td>\n      <td>NaN</td>\n      <td>NaN</td>\n      <td>NaN</td>\n    </tr>\n    <tr>\n      <th>4</th>\n      <td>NaN</td>\n      <td>Лопатка монтажная</td>\n      <td>NaN</td>\n      <td>Лопатка монтажная</td>\n      <td>NaN</td>\n      <td>NaN</td>\n      <td>Лопатка монтажная</td>\n      <td>NaN</td>\n      <td>NaN</td>\n      <td>Лопатка монтажная</td>\n      <td>...</td>\n      <td>NaN</td>\n      <td>Шайба М6 оцинкованная</td>\n      <td>Набор инструмента универсальный</td>\n      <td>Лопата сапёрная</td>\n      <td>NaN</td>\n      <td>NaN</td>\n      <td>NaN</td>\n      <td>NaN</td>\n      <td>NaN</td>\n      <td>NaN</td>\n    </tr>\n    <tr>\n      <th>5</th>\n      <td>NaN</td>\n      <td>Матрац ватный</td>\n      <td>NaN</td>\n      <td>Матрац ватный</td>\n      <td>NaN</td>\n      <td>NaN</td>\n      <td>Матрац ватный</td>\n      <td>NaN</td>\n      <td>NaN</td>\n      <td>Матрац ватный</td>\n      <td>...</td>\n      <td>NaN</td>\n      <td>Щетка полировочная</td>\n      <td>Светильник настольный</td>\n      <td>Лопата сапёрная</td>\n      <td>NaN</td>\n      <td>NaN</td>\n      <td>NaN</td>\n      <td>NaN</td>\n      <td>NaN</td>\n      <td>NaN</td>\n    </tr>\n    <tr>\n      <th>6</th>\n      <td>NaN</td>\n      <td>NaN</td>\n      <td>NaN</td>\n      <td>NaN</td>\n      <td>NaN</td>\n      <td>NaN</td>\n      <td>NaN</td>\n      <td>NaN</td>\n      <td>NaN</td>\n      <td>NaN</td>\n      <td>...</td>\n      <td>NaN</td>\n      <td>NaN</td>\n      <td>Тройник  соединительный  25</td>\n      <td>Лопата саперная ББСЛ110</td>\n      <td>NaN</td>\n      <td>NaN</td>\n      <td>NaN</td>\n      <td>NaN</td>\n      <td>NaN</td>\n      <td>NaN</td>\n    </tr>\n    <tr>\n      <th>7</th>\n      <td>NaN</td>\n      <td>NaN</td>\n      <td>NaN</td>\n      <td>NaN</td>\n      <td>NaN</td>\n      <td>NaN</td>\n      <td>NaN</td>\n      <td>NaN</td>\n      <td>NaN</td>\n      <td>NaN</td>\n      <td>...</td>\n      <td>NaN</td>\n      <td>NaN</td>\n      <td>Тройник  соединительный  32</td>\n      <td>Папка для благодарностей</td>\n      <td>NaN</td>\n      <td>NaN</td>\n      <td>NaN</td>\n      <td>NaN</td>\n      <td>NaN</td>\n      <td>NaN</td>\n    </tr>\n    <tr>\n      <th>8</th>\n      <td>NaN</td>\n      <td>NaN</td>\n      <td>NaN</td>\n      <td>NaN</td>\n      <td>NaN</td>\n      <td>NaN</td>\n      <td>NaN</td>\n      <td>NaN</td>\n      <td>NaN</td>\n      <td>NaN</td>\n      <td>...</td>\n      <td>NaN</td>\n      <td>NaN</td>\n      <td>Тройник  соединительный  40</td>\n      <td>Тарелка мелкая п/ф</td>\n      <td>NaN</td>\n      <td>NaN</td>\n      <td>NaN</td>\n      <td>NaN</td>\n      <td>NaN</td>\n      <td>NaN</td>\n    </tr>\n    <tr>\n      <th>9</th>\n      <td>NaN</td>\n      <td>NaN</td>\n      <td>NaN</td>\n      <td>NaN</td>\n      <td>NaN</td>\n      <td>NaN</td>\n      <td>NaN</td>\n      <td>NaN</td>\n      <td>NaN</td>\n      <td>NaN</td>\n      <td>...</td>\n      <td>NaN</td>\n      <td>NaN</td>\n      <td>NaN</td>\n      <td>NaN</td>\n      <td>NaN</td>\n      <td>NaN</td>\n      <td>NaN</td>\n      <td>NaN</td>\n      <td>NaN</td>\n      <td>NaN</td>\n    </tr>\n    <tr>\n      <th>10</th>\n      <td>NaN</td>\n      <td>NaN</td>\n      <td>NaN</td>\n      <td>NaN</td>\n      <td>NaN</td>\n      <td>NaN</td>\n      <td>NaN</td>\n      <td>NaN</td>\n      <td>NaN</td>\n      <td>NaN</td>\n      <td>...</td>\n      <td>NaN</td>\n      <td>NaN</td>\n      <td>NaN</td>\n      <td>NaN</td>\n      <td>NaN</td>\n      <td>NaN</td>\n      <td>NaN</td>\n      <td>NaN</td>\n      <td>NaN</td>\n      <td>NaN</td>\n    </tr>\n    <tr>\n      <th>11</th>\n      <td>NaN</td>\n      <td>NaN</td>\n      <td>NaN</td>\n      <td>NaN</td>\n      <td>NaN</td>\n      <td>NaN</td>\n      <td>NaN</td>\n      <td>NaN</td>\n      <td>NaN</td>\n      <td>NaN</td>\n      <td>...</td>\n      <td>NaN</td>\n      <td>NaN</td>\n      <td>NaN</td>\n      <td>NaN</td>\n      <td>NaN</td>\n      <td>NaN</td>\n      <td>NaN</td>\n      <td>NaN</td>\n      <td>NaN</td>\n      <td>NaN</td>\n    </tr>\n    <tr>\n      <th>12</th>\n      <td>NaN</td>\n      <td>NaN</td>\n      <td>NaN</td>\n      <td>NaN</td>\n      <td>NaN</td>\n      <td>NaN</td>\n      <td>NaN</td>\n      <td>NaN</td>\n      <td>NaN</td>\n      <td>NaN</td>\n      <td>...</td>\n      <td>NaN</td>\n      <td>NaN</td>\n      <td>NaN</td>\n      <td>NaN</td>\n      <td>NaN</td>\n      <td>NaN</td>\n      <td>NaN</td>\n      <td>NaN</td>\n      <td>NaN</td>\n      <td>NaN</td>\n    </tr>\n    <tr>\n      <th>13</th>\n      <td>NaN</td>\n      <td>NaN</td>\n      <td>NaN</td>\n      <td>NaN</td>\n      <td>NaN</td>\n      <td>NaN</td>\n      <td>NaN</td>\n      <td>NaN</td>\n      <td>NaN</td>\n      <td>NaN</td>\n      <td>...</td>\n      <td>NaN</td>\n      <td>NaN</td>\n      <td>NaN</td>\n      <td>NaN</td>\n      <td>NaN</td>\n      <td>NaN</td>\n      <td>NaN</td>\n      <td>NaN</td>\n      <td>NaN</td>\n      <td>NaN</td>\n    </tr>\n    <tr>\n      <th>14</th>\n      <td>NaN</td>\n      <td>NaN</td>\n      <td>NaN</td>\n      <td>NaN</td>\n      <td>NaN</td>\n      <td>NaN</td>\n      <td>NaN</td>\n      <td>NaN</td>\n      <td>NaN</td>\n      <td>NaN</td>\n      <td>...</td>\n      <td>NaN</td>\n      <td>NaN</td>\n      <td>NaN</td>\n      <td>NaN</td>\n      <td>NaN</td>\n      <td>NaN</td>\n      <td>NaN</td>\n      <td>NaN</td>\n      <td>NaN</td>\n      <td>NaN</td>\n    </tr>\n    <tr>\n      <th>15</th>\n      <td>NaN</td>\n      <td>NaN</td>\n      <td>NaN</td>\n      <td>NaN</td>\n      <td>NaN</td>\n      <td>NaN</td>\n      <td>NaN</td>\n      <td>NaN</td>\n      <td>NaN</td>\n      <td>NaN</td>\n      <td>...</td>\n      <td>NaN</td>\n      <td>NaN</td>\n      <td>NaN</td>\n      <td>NaN</td>\n      <td>NaN</td>\n      <td>NaN</td>\n      <td>NaN</td>\n      <td>NaN</td>\n      <td>NaN</td>\n      <td>NaN</td>\n    </tr>\n    <tr>\n      <th>16</th>\n      <td>NaN</td>\n      <td>NaN</td>\n      <td>NaN</td>\n      <td>NaN</td>\n      <td>NaN</td>\n      <td>NaN</td>\n      <td>NaN</td>\n      <td>NaN</td>\n      <td>NaN</td>\n      <td>NaN</td>\n      <td>...</td>\n      <td>NaN</td>\n      <td>NaN</td>\n      <td>NaN</td>\n      <td>NaN</td>\n      <td>NaN</td>\n      <td>NaN</td>\n      <td>NaN</td>\n      <td>NaN</td>\n      <td>NaN</td>\n      <td>NaN</td>\n    </tr>\n    <tr>\n      <th>17</th>\n      <td>NaN</td>\n      <td>NaN</td>\n      <td>NaN</td>\n      <td>NaN</td>\n      <td>NaN</td>\n      <td>NaN</td>\n      <td>NaN</td>\n      <td>NaN</td>\n      <td>NaN</td>\n      <td>NaN</td>\n      <td>...</td>\n      <td>NaN</td>\n      <td>NaN</td>\n      <td>NaN</td>\n      <td>NaN</td>\n      <td>NaN</td>\n      <td>NaN</td>\n      <td>NaN</td>\n      <td>NaN</td>\n      <td>NaN</td>\n      <td>NaN</td>\n    </tr>\n    <tr>\n      <th>18</th>\n      <td>NaN</td>\n      <td>NaN</td>\n      <td>NaN</td>\n      <td>NaN</td>\n      <td>NaN</td>\n      <td>NaN</td>\n      <td>NaN</td>\n      <td>NaN</td>\n      <td>NaN</td>\n      <td>NaN</td>\n      <td>...</td>\n      <td>NaN</td>\n      <td>NaN</td>\n      <td>NaN</td>\n      <td>NaN</td>\n      <td>NaN</td>\n      <td>NaN</td>\n      <td>NaN</td>\n      <td>NaN</td>\n      <td>NaN</td>\n      <td>NaN</td>\n    </tr>\n    <tr>\n      <th>19</th>\n      <td>NaN</td>\n      <td>NaN</td>\n      <td>NaN</td>\n      <td>NaN</td>\n      <td>NaN</td>\n      <td>NaN</td>\n      <td>NaN</td>\n      <td>NaN</td>\n      <td>NaN</td>\n      <td>NaN</td>\n      <td>...</td>\n      <td>NaN</td>\n      <td>NaN</td>\n      <td>NaN</td>\n      <td>NaN</td>\n      <td>NaN</td>\n      <td>NaN</td>\n      <td>NaN</td>\n      <td>NaN</td>\n      <td>NaN</td>\n      <td>NaN</td>\n    </tr>\n    <tr>\n      <th>20</th>\n      <td>NaN</td>\n      <td>NaN</td>\n      <td>NaN</td>\n      <td>NaN</td>\n      <td>NaN</td>\n      <td>NaN</td>\n      <td>NaN</td>\n      <td>NaN</td>\n      <td>NaN</td>\n      <td>NaN</td>\n      <td>...</td>\n      <td>NaN</td>\n      <td>NaN</td>\n      <td>NaN</td>\n      <td>NaN</td>\n      <td>NaN</td>\n      <td>NaN</td>\n      <td>NaN</td>\n      <td>NaN</td>\n      <td>NaN</td>\n      <td>NaN</td>\n    </tr>\n    <tr>\n      <th>21</th>\n      <td>NaN</td>\n      <td>NaN</td>\n      <td>NaN</td>\n      <td>NaN</td>\n      <td>NaN</td>\n      <td>NaN</td>\n      <td>NaN</td>\n      <td>NaN</td>\n      <td>NaN</td>\n      <td>NaN</td>\n      <td>...</td>\n      <td>NaN</td>\n      <td>NaN</td>\n      <td>NaN</td>\n      <td>NaN</td>\n      <td>NaN</td>\n      <td>NaN</td>\n      <td>NaN</td>\n      <td>NaN</td>\n      <td>NaN</td>\n      <td>NaN</td>\n    </tr>\n    <tr>\n      <th>22</th>\n      <td>NaN</td>\n      <td>NaN</td>\n      <td>NaN</td>\n      <td>NaN</td>\n      <td>NaN</td>\n      <td>NaN</td>\n      <td>NaN</td>\n      <td>NaN</td>\n      <td>NaN</td>\n      <td>NaN</td>\n      <td>...</td>\n      <td>NaN</td>\n      <td>NaN</td>\n      <td>NaN</td>\n      <td>NaN</td>\n      <td>NaN</td>\n      <td>NaN</td>\n      <td>NaN</td>\n      <td>NaN</td>\n      <td>NaN</td>\n      <td>NaN</td>\n    </tr>\n    <tr>\n      <th>23</th>\n      <td>NaN</td>\n      <td>NaN</td>\n      <td>NaN</td>\n      <td>NaN</td>\n      <td>NaN</td>\n      <td>NaN</td>\n      <td>NaN</td>\n      <td>NaN</td>\n      <td>NaN</td>\n      <td>NaN</td>\n      <td>...</td>\n      <td>NaN</td>\n      <td>NaN</td>\n      <td>NaN</td>\n      <td>NaN</td>\n      <td>NaN</td>\n      <td>NaN</td>\n      <td>NaN</td>\n      <td>NaN</td>\n      <td>NaN</td>\n      <td>NaN</td>\n    </tr>\n    <tr>\n      <th>24</th>\n      <td>NaN</td>\n      <td>NaN</td>\n      <td>NaN</td>\n      <td>NaN</td>\n      <td>NaN</td>\n      <td>NaN</td>\n      <td>NaN</td>\n      <td>NaN</td>\n      <td>NaN</td>\n      <td>NaN</td>\n      <td>...</td>\n      <td>NaN</td>\n      <td>NaN</td>\n      <td>NaN</td>\n      <td>NaN</td>\n      <td>NaN</td>\n      <td>NaN</td>\n      <td>NaN</td>\n      <td>NaN</td>\n      <td>NaN</td>\n      <td>NaN</td>\n    </tr>\n    <tr>\n      <th>25</th>\n      <td>NaN</td>\n      <td>NaN</td>\n      <td>NaN</td>\n      <td>NaN</td>\n      <td>NaN</td>\n      <td>NaN</td>\n      <td>NaN</td>\n      <td>NaN</td>\n      <td>NaN</td>\n      <td>NaN</td>\n      <td>...</td>\n      <td>NaN</td>\n      <td>NaN</td>\n      <td>NaN</td>\n      <td>NaN</td>\n      <td>NaN</td>\n      <td>NaN</td>\n      <td>NaN</td>\n      <td>NaN</td>\n      <td>NaN</td>\n      <td>NaN</td>\n    </tr>\n    <tr>\n      <th>26</th>\n      <td>NaN</td>\n      <td>NaN</td>\n      <td>NaN</td>\n      <td>NaN</td>\n      <td>NaN</td>\n      <td>NaN</td>\n      <td>NaN</td>\n      <td>NaN</td>\n      <td>NaN</td>\n      <td>NaN</td>\n      <td>...</td>\n      <td>NaN</td>\n      <td>NaN</td>\n      <td>NaN</td>\n      <td>NaN</td>\n      <td>NaN</td>\n      <td>NaN</td>\n      <td>NaN</td>\n      <td>NaN</td>\n      <td>NaN</td>\n      <td>NaN</td>\n    </tr>\n    <tr>\n      <th>27</th>\n      <td>NaN</td>\n      <td>NaN</td>\n      <td>NaN</td>\n      <td>NaN</td>\n      <td>NaN</td>\n      <td>NaN</td>\n      <td>NaN</td>\n      <td>NaN</td>\n      <td>NaN</td>\n      <td>NaN</td>\n      <td>...</td>\n      <td>NaN</td>\n      <td>NaN</td>\n      <td>NaN</td>\n      <td>NaN</td>\n      <td>NaN</td>\n      <td>NaN</td>\n      <td>NaN</td>\n      <td>NaN</td>\n      <td>NaN</td>\n      <td>NaN</td>\n    </tr>\n    <tr>\n      <th>28</th>\n      <td>NaN</td>\n      <td>NaN</td>\n      <td>NaN</td>\n      <td>NaN</td>\n      <td>NaN</td>\n      <td>NaN</td>\n      <td>NaN</td>\n      <td>NaN</td>\n      <td>NaN</td>\n      <td>NaN</td>\n      <td>...</td>\n      <td>NaN</td>\n      <td>NaN</td>\n      <td>NaN</td>\n      <td>NaN</td>\n      <td>NaN</td>\n      <td>NaN</td>\n      <td>NaN</td>\n      <td>NaN</td>\n      <td>NaN</td>\n      <td>NaN</td>\n    </tr>\n    <tr>\n      <th>29</th>\n      <td>NaN</td>\n      <td>NaN</td>\n      <td>NaN</td>\n      <td>NaN</td>\n      <td>NaN</td>\n      <td>NaN</td>\n      <td>NaN</td>\n      <td>NaN</td>\n      <td>NaN</td>\n      <td>NaN</td>\n      <td>...</td>\n      <td>NaN</td>\n      <td>NaN</td>\n      <td>NaN</td>\n      <td>NaN</td>\n      <td>NaN</td>\n      <td>NaN</td>\n      <td>NaN</td>\n      <td>NaN</td>\n      <td>NaN</td>\n      <td>NaN</td>\n    </tr>\n  </tbody>\n</table>\n<p>32 rows × 772 columns</p>\n</div>"
     },
     "metadata": {},
     "execution_count": 250
    }
   ],
   "source": [
    "new_df"
   ]
  },
  {
   "cell_type": "code",
   "execution_count": 253,
   "metadata": {},
   "outputs": [],
   "source": [
    "new_df.T.drop_duplicates().T.to_excel('data/fg1.xlsx')"
   ]
  },
  {
   "source": [
    "# Альтернативные решения"
   ],
   "cell_type": "markdown",
   "metadata": {}
  },
  {
   "cell_type": "code",
   "execution_count": 256,
   "metadata": {},
   "outputs": [
    {
     "output_type": "execute_result",
     "data": {
      "text/plain": "0.5135135135135135"
     },
     "metadata": {},
     "execution_count": 256
    }
   ],
   "source": [
    "difflib.SequenceMatcher(None, 'Палатка каркас.(ПК- 10)', 'Палатка каркасная ПК -10  камуфлированной расцветки').ratio()"
   ]
  },
  {
   "cell_type": "code",
   "execution_count": 29,
   "metadata": {},
   "outputs": [
    {
     "output_type": "execute_result",
     "data": {
      "text/plain": "[]"
     },
     "metadata": {},
     "execution_count": 29
    }
   ],
   "source": [
    "difflib.get_close_matches('Палатка каркас.(ПК- 10)', 'Палатка каркасная ПК -10  камуфлированной расцветки')"
   ]
  },
  {
   "cell_type": "code",
   "execution_count": 9,
   "metadata": {},
   "outputs": [],
   "source": [
    "import re\n",
    "import string\n",
    "\n",
    "from sklearn.feature_extraction.text import TfidfVectorizer\n",
    "from sklearn.cluster import KMeans\n",
    "import pandas as pd"
   ]
  },
  {
   "cell_type": "code",
   "execution_count": 10,
   "metadata": {},
   "outputs": [
    {
     "output_type": "execute_result",
     "data": {
      "text/plain": "&lt;pandas.io.formats.style.Styler at 0x1d263e20&gt;",
      "text/html": "<style  type=\"text/css\" >\n</style><table id=\"T_75f05_\" ><thead>    <tr>        <th class=\"blank level0\" ></th>        <th class=\"col_heading level0 col0\" >Палатка каркас.(ПК- 10)</th>        <th class=\"col_heading level0 col1\" >Палатка каркасная ПК -10  камуфлированной расцветки</th>        <th class=\"col_heading level0 col2\" >Палатка</th>    </tr></thead><tbody>\n                <tr>\n                        <th id=\"T_75f05_level0_row0\" class=\"row_heading level0 row0\" >10</th>\n                        <td id=\"T_75f05_row0_col0\" class=\"data row0 col0\" >0.480458</td>\n                        <td id=\"T_75f05_row0_col1\" class=\"data row0 col1\" >0.358291</td>\n                        <td id=\"T_75f05_row0_col2\" class=\"data row0 col2\" >0.000000</td>\n            </tr>\n            <tr>\n                        <th id=\"T_75f05_level0_row1\" class=\"row_heading level0 row1\" >камуфлированной</th>\n                        <td id=\"T_75f05_row1_col0\" class=\"data row1 col0\" >0.000000</td>\n                        <td id=\"T_75f05_row1_col1\" class=\"data row1 col1\" >0.471110</td>\n                        <td id=\"T_75f05_row1_col2\" class=\"data row1 col2\" >0.000000</td>\n            </tr>\n            <tr>\n                        <th id=\"T_75f05_level0_row2\" class=\"row_heading level0 row2\" >каркас</th>\n                        <td id=\"T_75f05_row2_col0\" class=\"data row2 col0\" >0.631745</td>\n                        <td id=\"T_75f05_row2_col1\" class=\"data row2 col1\" >0.000000</td>\n                        <td id=\"T_75f05_row2_col2\" class=\"data row2 col2\" >0.000000</td>\n            </tr>\n            <tr>\n                        <th id=\"T_75f05_level0_row3\" class=\"row_heading level0 row3\" >каркасная</th>\n                        <td id=\"T_75f05_row3_col0\" class=\"data row3 col0\" >0.000000</td>\n                        <td id=\"T_75f05_row3_col1\" class=\"data row3 col1\" >0.471110</td>\n                        <td id=\"T_75f05_row3_col2\" class=\"data row3 col2\" >0.000000</td>\n            </tr>\n            <tr>\n                        <th id=\"T_75f05_level0_row4\" class=\"row_heading level0 row4\" >палатка</th>\n                        <td id=\"T_75f05_row4_col0\" class=\"data row4 col0\" >0.373119</td>\n                        <td id=\"T_75f05_row4_col1\" class=\"data row4 col1\" >0.278245</td>\n                        <td id=\"T_75f05_row4_col2\" class=\"data row4 col2\" >1.000000</td>\n            </tr>\n            <tr>\n                        <th id=\"T_75f05_level0_row5\" class=\"row_heading level0 row5\" >пк</th>\n                        <td id=\"T_75f05_row5_col0\" class=\"data row5 col0\" >0.480458</td>\n                        <td id=\"T_75f05_row5_col1\" class=\"data row5 col1\" >0.358291</td>\n                        <td id=\"T_75f05_row5_col2\" class=\"data row5 col2\" >0.000000</td>\n            </tr>\n            <tr>\n                        <th id=\"T_75f05_level0_row6\" class=\"row_heading level0 row6\" >расцветки</th>\n                        <td id=\"T_75f05_row6_col0\" class=\"data row6 col0\" >0.000000</td>\n                        <td id=\"T_75f05_row6_col1\" class=\"data row6 col1\" >0.471110</td>\n                        <td id=\"T_75f05_row6_col2\" class=\"data row6 col2\" >0.000000</td>\n            </tr>\n    </tbody></table>"
     },
     "metadata": {},
     "execution_count": 10
    }
   ],
   "source": [
    "\n",
    "\n",
    "vectorizer = TfidfVectorizer()\n",
    "corpus = ['Палатка каркас.(ПК- 10)', 'Палатка каркасная ПК -10  камуфлированной расцветки', 'Палатка']\n",
    "X = vectorizer.fit_transform(corpus)\n",
    "feature_names = vectorizer.get_feature_names()\n",
    "corpus_index = [n for n in corpus]\n",
    "df = pd.DataFrame(X.T.todense(), index = feature_names, columns = corpus_index)\n",
    "df.style"
   ]
  },
  {
   "cell_type": "code",
   "execution_count": 6,
   "metadata": {},
   "outputs": [],
   "source": [
    "corpus_1 = funds[funds_name_col].to_list()\n",
    "corpus_1.extend(stocks[stocks_name_col].to_list())"
   ]
  },
  {
   "cell_type": "code",
   "execution_count": 11,
   "metadata": {
    "tags": []
   },
   "outputs": [
    {
     "output_type": "stream",
     "name": "stdout",
     "text": "0.004000425338745117\n"
    }
   ],
   "source": [
    "import time\n",
    "start = time.time()\n",
    "\n",
    "tfidf = TfidfVectorizer().fit_transform(corpus)\n",
    "# no need to normalize, since Vectorizer will return normalized tf-idf\n",
    "pairwise_similarity = tfidf * tfidf.T\n",
    "df = pd.DataFrame(pairwise_similarity.todense())\n",
    "end = time.time()\n",
    "period = end - start\n",
    "print(period)\n",
    "\n",
    "\n"
   ]
  },
  {
   "cell_type": "code",
   "execution_count": 12,
   "metadata": {},
   "outputs": [
    {
     "output_type": "execute_result",
     "data": {
      "text/plain": "          0         1         2\n0  1.000000  0.448107  0.373119\n1  0.448107  1.000000  0.278245\n2  0.373119  0.278245  1.000000",
      "text/html": "<div>\n<style scoped>\n    .dataframe tbody tr th:only-of-type {\n        vertical-align: middle;\n    }\n\n    .dataframe tbody tr th {\n        vertical-align: top;\n    }\n\n    .dataframe thead th {\n        text-align: right;\n    }\n</style>\n<table border=\"1\" class=\"dataframe\">\n  <thead>\n    <tr style=\"text-align: right;\">\n      <th></th>\n      <th>0</th>\n      <th>1</th>\n      <th>2</th>\n    </tr>\n  </thead>\n  <tbody>\n    <tr>\n      <th>0</th>\n      <td>1.000000</td>\n      <td>0.448107</td>\n      <td>0.373119</td>\n    </tr>\n    <tr>\n      <th>1</th>\n      <td>0.448107</td>\n      <td>1.000000</td>\n      <td>0.278245</td>\n    </tr>\n    <tr>\n      <th>2</th>\n      <td>0.373119</td>\n      <td>0.278245</td>\n      <td>1.000000</td>\n    </tr>\n  </tbody>\n</table>\n</div>"
     },
     "metadata": {},
     "execution_count": 12
    }
   ],
   "source": [
    "df"
   ]
  },
  {
   "cell_type": "code",
   "execution_count": 8,
   "metadata": {},
   "outputs": [],
   "source": [
    "df1 = df[df[:] > precision]"
   ]
  },
  {
   "cell_type": "code",
   "execution_count": 24,
   "metadata": {},
   "outputs": [
    {
     "output_type": "error",
     "ename": "MemoryError",
     "evalue": "Unable to allocate 144. MiB for an array with shape (3411, 5542) and data type float64",
     "traceback": [
      "\u001b[1;31m---------------------------------------------------------------------------\u001b[0m",
      "\u001b[1;31mMemoryError\u001b[0m                               Traceback (most recent call last)",
      "Input \u001b[1;32mIn [24]\u001b[0m, in \u001b[0;36m&lt;cell line: 1&gt;\u001b[1;34m()\u001b[0m\n\u001b[1;32m----&gt; 1\u001b[0m \u001b[43mdf1\u001b[49m\u001b[43m[\u001b[49m\u001b[43mdf1\u001b[49m\u001b[38;5;241;43m.\u001b[39;49m\u001b[43mcount\u001b[49m\u001b[43m(\u001b[49m\u001b[43m)\u001b[49m\u001b[43m \u001b[49m\u001b[38;5;241;43m&gt;\u001b[39;49m\u001b[43m \u001b[49m\u001b[38;5;241;43m1\u001b[39;49m\u001b[43m]\u001b[49m\u001b[38;5;241m.\u001b[39mindex\u001b[38;5;241m.\u001b[39mto_list()\n",
      "File \u001b[1;32md:\\Работа\\Скрипты\\dublicates\\env\\lib\\site-packages\\pandas\\core\\frame.py:3015\u001b[0m, in \u001b[0;36mDataFrame.__getitem__\u001b[1;34m(self, key)\u001b[0m\n\u001b[0;32m   3013\u001b[0m \u001b[38;5;66;03m# Do we have a (boolean) 1d indexer?\u001b[39;00m\n\u001b[0;32m   3014\u001b[0m \u001b[38;5;28;01mif\u001b[39;00m com\u001b[38;5;241m.\u001b[39mis_bool_indexer(key):\n\u001b[1;32m-&gt; 3015\u001b[0m     \u001b[38;5;28;01mreturn\u001b[39;00m \u001b[38;5;28;43mself\u001b[39;49m\u001b[38;5;241;43m.\u001b[39;49m\u001b[43m_getitem_bool_array\u001b[49m\u001b[43m(\u001b[49m\u001b[43mkey\u001b[49m\u001b[43m)\u001b[49m\n\u001b[0;32m   3017\u001b[0m \u001b[38;5;66;03m# We are left with two options: a single key, and a collection of keys,\u001b[39;00m\n\u001b[0;32m   3018\u001b[0m \u001b[38;5;66;03m# We interpret tuples as collections only for non-MultiIndex\u001b[39;00m\n\u001b[0;32m   3019\u001b[0m is_single_key \u001b[38;5;241m=\u001b[39m \u001b[38;5;28misinstance\u001b[39m(key, \u001b[38;5;28mtuple\u001b[39m) \u001b[38;5;129;01mor\u001b[39;00m \u001b[38;5;129;01mnot\u001b[39;00m is_list_like(key)\n",
      "File \u001b[1;32md:\\Работа\\Скрипты\\dublicates\\env\\lib\\site-packages\\pandas\\core\\frame.py:3070\u001b[0m, in \u001b[0;36mDataFrame._getitem_bool_array\u001b[1;34m(self, key)\u001b[0m\n\u001b[0;32m   3068\u001b[0m key \u001b[38;5;241m=\u001b[39m check_bool_indexer(\u001b[38;5;28mself\u001b[39m\u001b[38;5;241m.\u001b[39mindex, key)\n\u001b[0;32m   3069\u001b[0m indexer \u001b[38;5;241m=\u001b[39m key\u001b[38;5;241m.\u001b[39mnonzero()[\u001b[38;5;241m0\u001b[39m]\n\u001b[1;32m-&gt; 3070\u001b[0m \u001b[38;5;28;01mreturn\u001b[39;00m \u001b[38;5;28;43mself\u001b[39;49m\u001b[38;5;241;43m.\u001b[39;49m\u001b[43m_take_with_is_copy\u001b[49m\u001b[43m(\u001b[49m\u001b[43mindexer\u001b[49m\u001b[43m,\u001b[49m\u001b[43m \u001b[49m\u001b[43maxis\u001b[49m\u001b[38;5;241;43m=\u001b[39;49m\u001b[38;5;241;43m0\u001b[39;49m\u001b[43m)\u001b[49m\n",
      "File \u001b[1;32md:\\Работа\\Скрипты\\dublicates\\env\\lib\\site-packages\\pandas\\core\\generic.py:3600\u001b[0m, in \u001b[0;36mNDFrame._take_with_is_copy\u001b[1;34m(self, indices, axis)\u001b[0m\n\u001b[0;32m   3591\u001b[0m \u001b[38;5;129m@final\u001b[39m\n\u001b[0;32m   3592\u001b[0m \u001b[38;5;28;01mdef\u001b[39;00m \u001b[38;5;21m_take_with_is_copy\u001b[39m(\u001b[38;5;28mself\u001b[39m: FrameOrSeries, indices, axis\u001b[38;5;241m=\u001b[39m\u001b[38;5;241m0\u001b[39m) \u001b[38;5;241m-\u001b[39m\u001b[38;5;241m&gt;\u001b[39m FrameOrSeries:\n\u001b[0;32m   3593\u001b[0m     \u001b[38;5;124;03m&quot;&quot;&quot;\u001b[39;00m\n\u001b[0;32m   3594\u001b[0m \u001b[38;5;124;03m    Internal version of the `take` method that sets the `_is_copy`\u001b[39;00m\n\u001b[0;32m   3595\u001b[0m \u001b[38;5;124;03m    attribute to keep track of the parent dataframe (using in indexing\u001b[39;00m\n\u001b[1;32m   (...)\u001b[0m\n\u001b[0;32m   3598\u001b[0m \u001b[38;5;124;03m    See the docstring of `take` for full explanation of the parameters.\u001b[39;00m\n\u001b[0;32m   3599\u001b[0m \u001b[38;5;124;03m    &quot;&quot;&quot;\u001b[39;00m\n\u001b[1;32m-&gt; 3600\u001b[0m     result \u001b[38;5;241m=\u001b[39m \u001b[38;5;28;43mself\u001b[39;49m\u001b[38;5;241;43m.\u001b[39;49m\u001b[43mtake\u001b[49m\u001b[43m(\u001b[49m\u001b[43mindices\u001b[49m\u001b[38;5;241;43m=\u001b[39;49m\u001b[43mindices\u001b[49m\u001b[43m,\u001b[49m\u001b[43m \u001b[49m\u001b[43maxis\u001b[49m\u001b[38;5;241;43m=\u001b[39;49m\u001b[43maxis\u001b[49m\u001b[43m)\u001b[49m\n\u001b[0;32m   3601\u001b[0m     \u001b[38;5;66;03m# Maybe set copy if we didn&#39;t actually change the index.\u001b[39;00m\n\u001b[0;32m   3602\u001b[0m     \u001b[38;5;28;01mif\u001b[39;00m \u001b[38;5;129;01mnot\u001b[39;00m result\u001b[38;5;241m.\u001b[39m_get_axis(axis)\u001b[38;5;241m.\u001b[39mequals(\u001b[38;5;28mself\u001b[39m\u001b[38;5;241m.\u001b[39m_get_axis(axis)):\n",
      "File \u001b[1;32md:\\Работа\\Скрипты\\dublicates\\env\\lib\\site-packages\\pandas\\core\\generic.py:3586\u001b[0m, in \u001b[0;36mNDFrame.take\u001b[1;34m(self, indices, axis, is_copy, **kwargs)\u001b[0m\n\u001b[0;32m   3582\u001b[0m nv\u001b[38;5;241m.\u001b[39mvalidate_take((), kwargs)\n\u001b[0;32m   3584\u001b[0m \u001b[38;5;28mself\u001b[39m\u001b[38;5;241m.\u001b[39m_consolidate_inplace()\n\u001b[1;32m-&gt; 3586\u001b[0m new_data \u001b[38;5;241m=\u001b[39m \u001b[38;5;28;43mself\u001b[39;49m\u001b[38;5;241;43m.\u001b[39;49m\u001b[43m_mgr\u001b[49m\u001b[38;5;241;43m.\u001b[39;49m\u001b[43mtake\u001b[49m\u001b[43m(\u001b[49m\n\u001b[0;32m   3587\u001b[0m \u001b[43m    \u001b[49m\u001b[43mindices\u001b[49m\u001b[43m,\u001b[49m\u001b[43m \u001b[49m\u001b[43maxis\u001b[49m\u001b[38;5;241;43m=\u001b[39;49m\u001b[38;5;28;43mself\u001b[39;49m\u001b[38;5;241;43m.\u001b[39;49m\u001b[43m_get_block_manager_axis\u001b[49m\u001b[43m(\u001b[49m\u001b[43maxis\u001b[49m\u001b[43m)\u001b[49m\u001b[43m,\u001b[49m\u001b[43m \u001b[49m\u001b[43mverify\u001b[49m\u001b[38;5;241;43m=\u001b[39;49m\u001b[38;5;28;43;01mTrue\u001b[39;49;00m\n\u001b[0;32m   3588\u001b[0m \u001b[43m\u001b[49m\u001b[43m)\u001b[49m\n\u001b[0;32m   3589\u001b[0m \u001b[38;5;28;01mreturn\u001b[39;00m \u001b[38;5;28mself\u001b[39m\u001b[38;5;241m.\u001b[39m_constructor(new_data)\u001b[38;5;241m.\u001b[39m__finalize__(\u001b[38;5;28mself\u001b[39m, method\u001b[38;5;241m=\u001b[39m\u001b[38;5;124m&quot;\u001b[39m\u001b[38;5;124mtake\u001b[39m\u001b[38;5;124m&quot;\u001b[39m)\n",
      "File \u001b[1;32md:\\Работа\\Скрипты\\dublicates\\env\\lib\\site-packages\\pandas\\core\\internals\\managers.py:1474\u001b[0m, in \u001b[0;36mBlockManager.take\u001b[1;34m(self, indexer, axis, verify, convert)\u001b[0m\n\u001b[0;32m   1471\u001b[0m         \u001b[38;5;28;01mraise\u001b[39;00m \u001b[38;5;167;01mException\u001b[39;00m(\u001b[38;5;124m&quot;\u001b[39m\u001b[38;5;124mIndices must be nonzero and less than the axis length\u001b[39m\u001b[38;5;124m&quot;\u001b[39m)\n\u001b[0;32m   1473\u001b[0m new_labels \u001b[38;5;241m=\u001b[39m \u001b[38;5;28mself\u001b[39m\u001b[38;5;241m.\u001b[39maxes[axis]\u001b[38;5;241m.\u001b[39mtake(indexer)\n\u001b[1;32m-&gt; 1474\u001b[0m \u001b[38;5;28;01mreturn\u001b[39;00m \u001b[38;5;28;43mself\u001b[39;49m\u001b[38;5;241;43m.\u001b[39;49m\u001b[43mreindex_indexer\u001b[49m\u001b[43m(\u001b[49m\n\u001b[0;32m   1475\u001b[0m \u001b[43m    \u001b[49m\u001b[43mnew_axis\u001b[49m\u001b[38;5;241;43m=\u001b[39;49m\u001b[43mnew_labels\u001b[49m\u001b[43m,\u001b[49m\u001b[43m \u001b[49m\u001b[43mindexer\u001b[49m\u001b[38;5;241;43m=\u001b[39;49m\u001b[43mindexer\u001b[49m\u001b[43m,\u001b[49m\u001b[43m \u001b[49m\u001b[43maxis\u001b[49m\u001b[38;5;241;43m=\u001b[39;49m\u001b[43maxis\u001b[49m\u001b[43m,\u001b[49m\u001b[43m \u001b[49m\u001b[43mallow_dups\u001b[49m\u001b[38;5;241;43m=\u001b[39;49m\u001b[38;5;28;43;01mTrue\u001b[39;49;00m\n\u001b[0;32m   1476\u001b[0m \u001b[43m\u001b[49m\u001b[43m)\u001b[49m\n",
      "File \u001b[1;32md:\\Работа\\Скрипты\\dublicates\\env\\lib\\site-packages\\pandas\\core\\internals\\managers.py:1311\u001b[0m, in \u001b[0;36mBlockManager.reindex_indexer\u001b[1;34m(self, new_axis, indexer, axis, fill_value, allow_dups, copy, consolidate, only_slice)\u001b[0m\n\u001b[0;32m   1307\u001b[0m     new_blocks \u001b[38;5;241m=\u001b[39m \u001b[38;5;28mself\u001b[39m\u001b[38;5;241m.\u001b[39m_slice_take_blocks_ax0(\n\u001b[0;32m   1308\u001b[0m         indexer, fill_value\u001b[38;5;241m=\u001b[39mfill_value, only_slice\u001b[38;5;241m=\u001b[39monly_slice\n\u001b[0;32m   1309\u001b[0m     )\n\u001b[0;32m   1310\u001b[0m \u001b[38;5;28;01melse\u001b[39;00m:\n\u001b[1;32m-&gt; 1311\u001b[0m     new_blocks \u001b[38;5;241m=\u001b[39m [\n\u001b[0;32m   1312\u001b[0m         blk\u001b[38;5;241m.\u001b[39mtake_nd(\n\u001b[0;32m   1313\u001b[0m             indexer,\n\u001b[0;32m   1314\u001b[0m             axis\u001b[38;5;241m=\u001b[39maxis,\n\u001b[0;32m   1315\u001b[0m             fill_value\u001b[38;5;241m=\u001b[39m(\n\u001b[0;32m   1316\u001b[0m                 fill_value \u001b[38;5;28;01mif\u001b[39;00m fill_value \u001b[38;5;129;01mis\u001b[39;00m \u001b[38;5;129;01mnot\u001b[39;00m \u001b[38;5;28;01mNone\u001b[39;00m \u001b[38;5;28;01melse\u001b[39;00m blk\u001b[38;5;241m.\u001b[39mfill_value\n\u001b[0;32m   1317\u001b[0m             ),\n\u001b[0;32m   1318\u001b[0m         )\n\u001b[0;32m   1319\u001b[0m         \u001b[38;5;28;01mfor\u001b[39;00m blk \u001b[38;5;129;01min\u001b[39;00m \u001b[38;5;28mself\u001b[39m\u001b[38;5;241m.\u001b[39mblocks\n\u001b[0;32m   1320\u001b[0m     ]\n\u001b[0;32m   1322\u001b[0m new_axes \u001b[38;5;241m=\u001b[39m \u001b[38;5;28mlist\u001b[39m(\u001b[38;5;28mself\u001b[39m\u001b[38;5;241m.\u001b[39maxes)\n\u001b[0;32m   1323\u001b[0m new_axes[axis] \u001b[38;5;241m=\u001b[39m new_axis\n",
      "File \u001b[1;32md:\\Работа\\Скрипты\\dublicates\\env\\lib\\site-packages\\pandas\\core\\internals\\managers.py:1312\u001b[0m, in \u001b[0;36m&lt;listcomp&gt;\u001b[1;34m(.0)\u001b[0m\n\u001b[0;32m   1307\u001b[0m     new_blocks \u001b[38;5;241m=\u001b[39m \u001b[38;5;28mself\u001b[39m\u001b[38;5;241m.\u001b[39m_slice_take_blocks_ax0(\n\u001b[0;32m   1308\u001b[0m         indexer, fill_value\u001b[38;5;241m=\u001b[39mfill_value, only_slice\u001b[38;5;241m=\u001b[39monly_slice\n\u001b[0;32m   1309\u001b[0m     )\n\u001b[0;32m   1310\u001b[0m \u001b[38;5;28;01melse\u001b[39;00m:\n\u001b[0;32m   1311\u001b[0m     new_blocks \u001b[38;5;241m=\u001b[39m [\n\u001b[1;32m-&gt; 1312\u001b[0m         \u001b[43mblk\u001b[49m\u001b[38;5;241;43m.\u001b[39;49m\u001b[43mtake_nd\u001b[49m\u001b[43m(\u001b[49m\n\u001b[0;32m   1313\u001b[0m \u001b[43m            \u001b[49m\u001b[43mindexer\u001b[49m\u001b[43m,\u001b[49m\n\u001b[0;32m   1314\u001b[0m \u001b[43m            \u001b[49m\u001b[43maxis\u001b[49m\u001b[38;5;241;43m=\u001b[39;49m\u001b[43maxis\u001b[49m\u001b[43m,\u001b[49m\n\u001b[0;32m   1315\u001b[0m \u001b[43m            \u001b[49m\u001b[43mfill_value\u001b[49m\u001b[38;5;241;43m=\u001b[39;49m\u001b[43m(\u001b[49m\n\u001b[0;32m   1316\u001b[0m \u001b[43m                \u001b[49m\u001b[43mfill_value\u001b[49m\u001b[43m \u001b[49m\u001b[38;5;28;43;01mif\u001b[39;49;00m\u001b[43m \u001b[49m\u001b[43mfill_value\u001b[49m\u001b[43m \u001b[49m\u001b[38;5;129;43;01mis\u001b[39;49;00m\u001b[43m \u001b[49m\u001b[38;5;129;43;01mnot\u001b[39;49;00m\u001b[43m \u001b[49m\u001b[38;5;28;43;01mNone\u001b[39;49;00m\u001b[43m \u001b[49m\u001b[38;5;28;43;01melse\u001b[39;49;00m\u001b[43m \u001b[49m\u001b[43mblk\u001b[49m\u001b[38;5;241;43m.\u001b[39;49m\u001b[43mfill_value\u001b[49m\n\u001b[0;32m   1317\u001b[0m \u001b[43m            \u001b[49m\u001b[43m)\u001b[49m\u001b[43m,\u001b[49m\n\u001b[0;32m   1318\u001b[0m \u001b[43m        \u001b[49m\u001b[43m)\u001b[49m\n\u001b[0;32m   1319\u001b[0m         \u001b[38;5;28;01mfor\u001b[39;00m blk \u001b[38;5;129;01min\u001b[39;00m \u001b[38;5;28mself\u001b[39m\u001b[38;5;241m.\u001b[39mblocks\n\u001b[0;32m   1320\u001b[0m     ]\n\u001b[0;32m   1322\u001b[0m new_axes \u001b[38;5;241m=\u001b[39m \u001b[38;5;28mlist\u001b[39m(\u001b[38;5;28mself\u001b[39m\u001b[38;5;241m.\u001b[39maxes)\n\u001b[0;32m   1323\u001b[0m new_axes[axis] \u001b[38;5;241m=\u001b[39m new_axis\n",
      "File \u001b[1;32md:\\Работа\\Скрипты\\dublicates\\env\\lib\\site-packages\\pandas\\core\\internals\\blocks.py:1395\u001b[0m, in \u001b[0;36mBlock.take_nd\u001b[1;34m(self, indexer, axis, new_mgr_locs, fill_value)\u001b[0m\n\u001b[0;32m   1392\u001b[0m \u001b[38;5;28;01melse\u001b[39;00m:\n\u001b[0;32m   1393\u001b[0m     allow_fill \u001b[38;5;241m=\u001b[39m \u001b[38;5;28;01mTrue\u001b[39;00m\n\u001b[1;32m-&gt; 1395\u001b[0m new_values \u001b[38;5;241m=\u001b[39m \u001b[43malgos\u001b[49m\u001b[38;5;241;43m.\u001b[39;49m\u001b[43mtake_nd\u001b[49m\u001b[43m(\u001b[49m\n\u001b[0;32m   1396\u001b[0m \u001b[43m    \u001b[49m\u001b[43mvalues\u001b[49m\u001b[43m,\u001b[49m\u001b[43m \u001b[49m\u001b[43mindexer\u001b[49m\u001b[43m,\u001b[49m\u001b[43m \u001b[49m\u001b[43maxis\u001b[49m\u001b[38;5;241;43m=\u001b[39;49m\u001b[43maxis\u001b[49m\u001b[43m,\u001b[49m\u001b[43m \u001b[49m\u001b[43mallow_fill\u001b[49m\u001b[38;5;241;43m=\u001b[39;49m\u001b[43mallow_fill\u001b[49m\u001b[43m,\u001b[49m\u001b[43m \u001b[49m\u001b[43mfill_value\u001b[49m\u001b[38;5;241;43m=\u001b[39;49m\u001b[43mfill_value\u001b[49m\n\u001b[0;32m   1397\u001b[0m \u001b[43m\u001b[49m\u001b[43m)\u001b[49m\n\u001b[0;32m   1399\u001b[0m \u001b[38;5;66;03m# Called from three places in managers, all of which satisfy\u001b[39;00m\n\u001b[0;32m   1400\u001b[0m \u001b[38;5;66;03m#  this assertion\u001b[39;00m\n\u001b[0;32m   1401\u001b[0m \u001b[38;5;28;01massert\u001b[39;00m \u001b[38;5;129;01mnot\u001b[39;00m (axis \u001b[38;5;241m==\u001b[39m \u001b[38;5;241m0\u001b[39m \u001b[38;5;129;01mand\u001b[39;00m new_mgr_locs \u001b[38;5;129;01mis\u001b[39;00m \u001b[38;5;28;01mNone\u001b[39;00m)\n",
      "File \u001b[1;32md:\\Работа\\Скрипты\\dublicates\\env\\lib\\site-packages\\pandas\\core\\algorithms.py:1754\u001b[0m, in \u001b[0;36mtake_nd\u001b[1;34m(arr, indexer, axis, out, fill_value, allow_fill)\u001b[0m\n\u001b[0;32m   1752\u001b[0m         out \u001b[38;5;241m=\u001b[39m np\u001b[38;5;241m.\u001b[39mempty(out_shape, dtype\u001b[38;5;241m=\u001b[39mdtype, order\u001b[38;5;241m=\u001b[39m\u001b[38;5;124m&quot;\u001b[39m\u001b[38;5;124mF\u001b[39m\u001b[38;5;124m&quot;\u001b[39m)\n\u001b[0;32m   1753\u001b[0m     \u001b[38;5;28;01melse\u001b[39;00m:\n\u001b[1;32m-&gt; 1754\u001b[0m         out \u001b[38;5;241m=\u001b[39m \u001b[43mnp\u001b[49m\u001b[38;5;241;43m.\u001b[39;49m\u001b[43mempty\u001b[49m\u001b[43m(\u001b[49m\u001b[43mout_shape\u001b[49m\u001b[43m,\u001b[49m\u001b[43m \u001b[49m\u001b[43mdtype\u001b[49m\u001b[38;5;241;43m=\u001b[39;49m\u001b[43mdtype\u001b[49m\u001b[43m)\u001b[49m\n\u001b[0;32m   1756\u001b[0m func \u001b[38;5;241m=\u001b[39m _get_take_nd_function(\n\u001b[0;32m   1757\u001b[0m     arr\u001b[38;5;241m.\u001b[39mndim, arr\u001b[38;5;241m.\u001b[39mdtype, out\u001b[38;5;241m.\u001b[39mdtype, axis\u001b[38;5;241m=\u001b[39maxis, mask_info\u001b[38;5;241m=\u001b[39mmask_info\n\u001b[0;32m   1758\u001b[0m )\n\u001b[0;32m   1759\u001b[0m func(arr, indexer, out, fill_value)\n",
      "\u001b[1;31mMemoryError\u001b[0m: Unable to allocate 144. MiB for an array with shape (3411, 5542) and data type float64"
     ]
    }
   ],
   "source": [
    "df1[df1.count() > 1]"
   ]
  },
  {
   "cell_type": "code",
   "execution_count": 19,
   "metadata": {},
   "outputs": [
    {
     "output_type": "execute_result",
     "data": {
      "text/plain": "[&#39;Адреналин 1 мг/мл 1 мл&#39;,\n &#39;Анальгин 500 мг/мл 2 мл&#39;,\n &#39;Дибазол 10 мг/мл 5 мл&#39;,\n &#39;Диклофенак 25 мг/мл 3 мл&#39;,\n &#39;Кордиамин 250 мг/мл 2 мл&#39;,\n &#39;Преднизолон 30 мг/мл 1 мл&#39;,\n &#39;Супрастин 20 мг/мл 1 мл&#39;,\n &#39;Фуросемид 10 мг/мл(1%) 2 мл&#39;,\n &#39;Цианокобаламин 0,5 мг/мл 1 мл&#39;,\n &#39;Этамзилат 125 мг/мл (12,5%) 2 мл&#39;]"
     },
     "metadata": {},
     "execution_count": 19
    }
   ],
   "source": [
    "words = []\n",
    "for num in df1[5538].dropna().index.to_list():\n",
    "    words.append(corpus_1[num])\n",
    "words"
   ]
  },
  {
   "cell_type": "code",
   "execution_count": 13,
   "metadata": {},
   "outputs": [
    {
     "output_type": "execute_result",
     "data": {
      "text/plain": "[&#39;Палатка каркас.(ПК- 10)&#39;,\n &#39;Палатка каркасная ПК -10  камуфлированной расцветки&#39;,\n &#39;&#39;]"
     },
     "metadata": {},
     "execution_count": 13
    }
   ],
   "source": [
    "my_text = \"\"\"Палатка каркас.(ПК- 10)\n",
    "Палатка каркасная ПК -10  камуфлированной расцветки\n",
    "\"\"\".split('\\n')\n",
    "my_text"
   ]
  },
  {
   "cell_type": "code",
   "execution_count": 14,
   "metadata": {},
   "outputs": [],
   "source": [
    "def preprocessing(line):\n",
    "    line = line.lower()\n",
    "    line = re.sub(r'[{}]'.format(string.punctuation), ' ', line)\n",
    "    return line"
   ]
  },
  {
   "cell_type": "code",
   "execution_count": 17,
   "metadata": {},
   "outputs": [],
   "source": [
    "tfidf_vectorizer = TfidfVectorizer(preprocessor=preprocessing)\n",
    "tfidf = tfidf_vectorizer.fit_transform(my_text)\n",
    "\n",
    "kmeans = KMeans(n_clusters=2).fit(tfidf)"
   ]
  },
  {
   "cell_type": "code",
   "execution_count": 18,
   "metadata": {},
   "outputs": [
    {
     "output_type": "execute_result",
     "data": {
      "text/plain": "array([0, 1])"
     },
     "metadata": {},
     "execution_count": 18
    }
   ],
   "source": [
    "kmeans.predict(tfidf_vectorizer.transform(corpus))"
   ]
  },
  {
   "cell_type": "code",
   "execution_count": 19,
   "metadata": {},
   "outputs": [
    {
     "output_type": "execute_result",
     "data": {
      "text/plain": "&lt;2x7 sparse matrix of type &#39;&lt;class &#39;numpy.float64&#39;&gt;&#39;\n\twith 10 stored elements in Compressed Sparse Row format&gt;"
     },
     "metadata": {},
     "execution_count": 19
    }
   ],
   "source": [
    "tfidf_vectorizer.transform(corpus)"
   ]
  },
  {
   "cell_type": "code",
   "execution_count": 6,
   "metadata": {
    "tags": []
   },
   "outputs": [
    {
     "output_type": "stream",
     "name": "stdout",
     "text": "0.3032160644503863\n0.7765145304745156\n0.17077611319011649\n[nltk_data] Error loading all: &lt;urlopen error [Errno 11004]\n[nltk_data]     getaddrinfo failed&gt;\n"
    }
   ],
   "source": [
    "import nltk, string\n",
    "from sklearn.feature_extraction.text import TfidfVectorizer\n",
    "\n",
    "nltk.download('all') # if necessary...\n",
    "\n",
    "\n",
    "stemmer = nltk.stem.porter.PorterStemmer()\n",
    "remove_punctuation_map = dict((ord(char), None) for char in string.punctuation)\n",
    "\n",
    "def stem_tokens(tokens):\n",
    "    return [stemmer.stem(item) for item in tokens]\n",
    "\n",
    "'''remove punctuation, lowercase, stem'''\n",
    "def normalize(text):\n",
    "    return stem_tokens(nltk.word_tokenize(text.lower().translate(remove_punctuation_map)))\n",
    "\n",
    "vectorizer = TfidfVectorizer(tokenizer=normalize)\n",
    "\n",
    "def cosine_sim(text1, text2):\n",
    "    tfidf = vectorizer.fit_transform([text1, text2])\n",
    "    return ((tfidf * tfidf.T).A)[0,1]\n",
    "\n",
    "\n",
    "print(cosine_sim('Палатка каркас.(ПК- 10)', 'Палатка каркасная ПК -10  камуфлированной расцветки'))\n",
    "print(cosine_sim('a little bird', 'a little bird chirps'))\n",
    "print(cosine_sim('a little bird', 'a big dog barks'))"
   ]
  },
  {
   "cell_type": "code",
   "execution_count": null,
   "metadata": {},
   "outputs": [],
   "source": [
    "import spacy\n",
    "nlp = spacy.load('ru_core_news_sm')\n",
    "doc1 = nlp(u'Hello hi there!')\n",
    "doc2 = nlp(u'Hello hi there!')\n",
    "doc3 = nlp(u'Hey whatsup?')\n",
    "\n",
    "print (doc1.similarity(doc2)) # 0.999999954642\n",
    "print (doc2.similarity(doc3)) # 0.699032527716\n",
    "print (doc1.similarity(doc3)) # 0.699032527716"
   ]
  }
 ]
}